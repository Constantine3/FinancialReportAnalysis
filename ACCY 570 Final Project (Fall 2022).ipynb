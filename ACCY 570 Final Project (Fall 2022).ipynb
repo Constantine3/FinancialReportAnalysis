{
 "cells": [
  {
   "cell_type": "markdown",
   "metadata": {},
   "source": [
    "# ACCY 570 Final Project\n",
    "### Fall 2022"
   ]
  },
  {
   "cell_type": "markdown",
   "metadata": {},
   "source": [
    "## Instructions"
   ]
  },
  {
   "cell_type": "markdown",
   "metadata": {},
   "source": [
    "The final project contains 24 files: this Jupyter notebook and 23 data files. Twenty of the data files are PDF's containing company annual reports. Two of the data files are text files (*AuditAnalytics.txt* and *Compustat.txt*), and there is also an Excel file (*GatherAuditorData.xlsx*). We packaged these files as a ZIP file. *You must extract these files from the ZIP file in order to work with them.*\n",
    "\n",
    "You will do some of your work in this Jupyter notebook and some in Tableau. You may create additional cells in the notebook if you wish. \n",
    "\n",
    "When you have finished:\n",
    "\n",
    "1. Save your Tableau file as a Tableau Packaged Workbook (.twbx). This makes it much easier for us to grade.\n",
    "2. Do *not* combine your files into a ZIP or RAR file.\n",
    "3. Submit this Jupyter notebook and one Tableau workbook on Canvas.\n",
    "4. If you are working with a partner, please let me know. \n",
    "5. If you submit more than once, we will grade your most recent submission."
   ]
  },
  {
   "cell_type": "code",
   "execution_count": null,
   "outputs": [],
   "source": [
    "## Introduction"
   ],
   "metadata": {
    "collapsed": false
   }
  },
  {
   "cell_type": "markdown",
   "metadata": {},
   "source": [
    "Welcome to the final project for ACCY 570. \n",
    "\n",
    "The project has two parts. In part 1, you will load, clean, and analyze data about the audit industry. Specifically, you will examine the drivers of the fees charged by auditors. In part 2, you will use text analysis and automation to parse 10-K's in PDF format and compute auditor tenure.\n",
    "\n",
    "You have learned much this semester and in this project you will bring to bear much of your newfound knowledge and skills. However, when you perform analytics in the real world, you will often need to learn new skills. This project is no different. That's why we also spent time this semester talking about using the documentation for Python commands and using new libraries. You will learn a few things in this project that we did not directly teach you over the semester.\n",
    "\n",
    "Enjoy!"
   ]
  },
  {
   "cell_type": "markdown",
   "metadata": {},
   "source": [
    "## Part 1 - Drivers of Audit Fees"
   ]
  },
  {
   "cell_type": "markdown",
   "metadata": {},
   "source": [
    "In part 1, you will examine the determinants and drivers of audit fees. You will work with real data on audit fees and client characteristics. First, you will load and clean the two datasets containing audit fees and client characteristics. Then you will *merge* these datasets. Finally, you will perform some analyses (e.g., descriptive statistics, scatter plots). \n",
    "\n",
    "Following are descriptions of the two datasets with which you will work.\n",
    "\n",
    "<b><u>Audit Analytics</u></b>  \n",
    "The *Audit Analytics* database tracks the fees charged by auditing firms. The dataset contains one row per client per year. For example, there is one row for Microsoft's 2018 audit fees. \n",
    "\n",
    "<b><u>Compustat</u></b>  \n",
    "The *Compustat* database tracks companies' accounting fundamentals. *Compustat* contains one row per company per fiscal year. "
   ]
  },
  {
   "cell_type": "markdown",
   "metadata": {},
   "source": [
    "### Problem 1 - Loading and Cleaning the Audit Analytics Dataset (50 points)"
   ]
  },
  {
   "cell_type": "markdown",
   "metadata": {},
   "source": [
    "The Audit Analytics database contains many columns and we downloaded only a subset. Your raw dataset, *AuditAnalytics.txt*, contains these columns:\n",
    "\n",
    "| Column             | Description                                                       |\n",
    "|--------------------|-------------------------------------------------------------------|\n",
    "| AUDITOR_FKEY       | A unique identifier for each auditor                              |\n",
    "| AUDIT_GIG_KEY      | A unique identifier for each audit engagement                     |\n",
    "| FISCAL_YEAR        | The fiscal year for this client and this row of data              |\n",
    "| FISCAL_YEAR_ENDED  | The date on which this client's fiscal year ends                  |\n",
    "| AUDIT_FEES         | Fees charged by the auditor for the audit                         |\n",
    "| NON_AUDIT_FEES     | *No description given in the database documentation*              |\n",
    "| TOTAL_FEES         | Total fees paid by the client to the auditor in this fiscal year  |\n",
    "| AUDIT_RELATED_FEES | *No description given in the database documentation*              |\n",
    "| OTHER_FEES         | *No description given in the database documentation*              |\n",
    "| AUDITOR_NAME       | Name of the auditing firm                                         |\n",
    "| COMPANY_FKEY       | EDGAR Central Index Key (CIK): a unique identifier for the client |\n",
    "| BEST_EDGAR_TICKER  | The client's stock ticker                                         |\n",
    "| NAME               | The client's name                                                 |\n",
    "| SIC_CODE_FKEY      | 4-digit industry classifier code                                  |"
   ]
  },
  {
   "cell_type": "markdown",
   "metadata": {},
   "source": [
    "#### Problem 1.1 - Imports (2 points)"
   ]
  },
  {
   "cell_type": "markdown",
   "metadata": {},
   "source": [
    "Import Pandas and Numpy, as you will use these throughout the project."
   ]
  },
  {
   "cell_type": "code",
   "execution_count": 168,
   "metadata": {},
   "outputs": [],
   "source": [
    "# Enter your code in this cell\n",
    "import pandas as pd\n",
    "import numpy as np"
   ]
  },
  {
   "cell_type": "markdown",
   "metadata": {},
   "source": [
    "#### Problem 1.2 - Load raw data file, *AuditAnalytics.txt* (6 points)"
   ]
  },
  {
   "cell_type": "markdown",
   "metadata": {},
   "source": [
    "The file *AuditAnalytics.txt* contains data from fiscal year 2018. We chose 2018 because it is the last full fiscal year before the COVID-19 pandemic. \n",
    "\n",
    "The data file contains __*tab-delimited*__ data. This is like CSV data, but uses tabs to separate the columns instead of commas. You can view this file in Excel if that will help you as you work with it.\n",
    "\n",
    "---\n",
    "\n",
    "* Use the Pandas `read_csv` function to load this tab-delimited data into a Pandas data frame. \n",
    "* Use a meaningful name for your data frame as you will create other data frames later.\n",
    "* *You must tell the `read_csv` function that your dataset is tab-delimited. Look up the help for this function and figure out how to do this.*"
   ]
  },
  {
   "cell_type": "code",
   "execution_count": 169,
   "metadata": {},
   "outputs": [
    {
     "data": {
      "text/plain": "      AUDITOR_FKEY  AUDIT_GIG_KEY  FISCAL_YEAR FISCAL_YEAR_ENDED  AUDIT_FEES  \\\n0                4         227633         2018         31MAY2018     1988901   \n1                2         230983         2018         31DEC2018    25381000   \n2             3143         231837         2018         31DEC2018       12500   \n3            11761         228249         2018         30JUN2018     2028000   \n4             8256         231256         2018         31DEC2018      328000   \n...            ...            ...          ...               ...         ...   \n9795             3         244483         2018         31DEC2018     2221000   \n9796             2         244138         2018         31DEC2018     3603000   \n9797             4         242381         2018         31DEC2018     1100000   \n9798             1         246413         2018         31DEC2018       34665   \n9799             4         245252         2018         31DEC2018     1113000   \n\n      NON_AUDIT_FEES  TOTAL_FEES  AUDIT_RELATED_FEES  OTHER_FEES  \\\n0             317296     2306197              174659           0   \n1            9683000    35064000              770000        8000   \n2              12000       24500               10500           0   \n3             229000     2257000                   0           0   \n4              74000      402000               22000           0   \n...              ...         ...                 ...         ...   \n9795          206000     2427000                   0        5000   \n9796           47000     3650000                   0       41000   \n9797          400000     1500000                   0           0   \n9798               0       34665                   0           0   \n9799          188000     1301000               73000       81000   \n\n                    AUDITOR_NAME  COMPANY_FKEY BEST_EDGAR_TICKER  \\\n0                       KPMG LLP          1750               AIR   \n1              Ernst & Young LLP          1800               ABT   \n2                  M&K CPAS PLLC          1961              WDDD   \n3                    BDO USA LLP          2034               NaN   \n4                     Marcum LLP          2098               ACU   \n...                          ...           ...               ...   \n9795       Deloitte & Touche LLP       1793294               NaN   \n9796           Ernst & Young LLP       1794338               NaN   \n9797                    KPMG LLP       1794846              ATCO   \n9798  PricewaterhouseCoopers LLP       1796209               APG   \n9799                    KPMG LLP       1796514              METX   \n\n                                               NAME  SIC_CODE_FKEY  \n0                                          AAR CORP         3720.0  \n1                               ABBOTT LABORATORIES         2834.0  \n2                                        WORLDS INC         7372.0  \n3                                        ACETO CORP         5122.0  \n4                                  ACME UNITED CORP         3420.0  \n...                                             ...            ...  \n9795                                      PPD, Inc.         8731.0  \n9796  International General Insurance Holdings Ltd.         6399.0  \n9797                                    Atlas Corp.         4412.0  \n9798                                 APi Group Corp         1700.0  \n9799                       Meten Holding Group Ltd.         8200.0  \n\n[9800 rows x 14 columns]",
      "text/html": "<div>\n<style scoped>\n    .dataframe tbody tr th:only-of-type {\n        vertical-align: middle;\n    }\n\n    .dataframe tbody tr th {\n        vertical-align: top;\n    }\n\n    .dataframe thead th {\n        text-align: right;\n    }\n</style>\n<table border=\"1\" class=\"dataframe\">\n  <thead>\n    <tr style=\"text-align: right;\">\n      <th></th>\n      <th>AUDITOR_FKEY</th>\n      <th>AUDIT_GIG_KEY</th>\n      <th>FISCAL_YEAR</th>\n      <th>FISCAL_YEAR_ENDED</th>\n      <th>AUDIT_FEES</th>\n      <th>NON_AUDIT_FEES</th>\n      <th>TOTAL_FEES</th>\n      <th>AUDIT_RELATED_FEES</th>\n      <th>OTHER_FEES</th>\n      <th>AUDITOR_NAME</th>\n      <th>COMPANY_FKEY</th>\n      <th>BEST_EDGAR_TICKER</th>\n      <th>NAME</th>\n      <th>SIC_CODE_FKEY</th>\n    </tr>\n  </thead>\n  <tbody>\n    <tr>\n      <th>0</th>\n      <td>4</td>\n      <td>227633</td>\n      <td>2018</td>\n      <td>31MAY2018</td>\n      <td>1988901</td>\n      <td>317296</td>\n      <td>2306197</td>\n      <td>174659</td>\n      <td>0</td>\n      <td>KPMG LLP</td>\n      <td>1750</td>\n      <td>AIR</td>\n      <td>AAR CORP</td>\n      <td>3720.0</td>\n    </tr>\n    <tr>\n      <th>1</th>\n      <td>2</td>\n      <td>230983</td>\n      <td>2018</td>\n      <td>31DEC2018</td>\n      <td>25381000</td>\n      <td>9683000</td>\n      <td>35064000</td>\n      <td>770000</td>\n      <td>8000</td>\n      <td>Ernst &amp; Young LLP</td>\n      <td>1800</td>\n      <td>ABT</td>\n      <td>ABBOTT LABORATORIES</td>\n      <td>2834.0</td>\n    </tr>\n    <tr>\n      <th>2</th>\n      <td>3143</td>\n      <td>231837</td>\n      <td>2018</td>\n      <td>31DEC2018</td>\n      <td>12500</td>\n      <td>12000</td>\n      <td>24500</td>\n      <td>10500</td>\n      <td>0</td>\n      <td>M&amp;K CPAS PLLC</td>\n      <td>1961</td>\n      <td>WDDD</td>\n      <td>WORLDS INC</td>\n      <td>7372.0</td>\n    </tr>\n    <tr>\n      <th>3</th>\n      <td>11761</td>\n      <td>228249</td>\n      <td>2018</td>\n      <td>30JUN2018</td>\n      <td>2028000</td>\n      <td>229000</td>\n      <td>2257000</td>\n      <td>0</td>\n      <td>0</td>\n      <td>BDO USA LLP</td>\n      <td>2034</td>\n      <td>NaN</td>\n      <td>ACETO CORP</td>\n      <td>5122.0</td>\n    </tr>\n    <tr>\n      <th>4</th>\n      <td>8256</td>\n      <td>231256</td>\n      <td>2018</td>\n      <td>31DEC2018</td>\n      <td>328000</td>\n      <td>74000</td>\n      <td>402000</td>\n      <td>22000</td>\n      <td>0</td>\n      <td>Marcum LLP</td>\n      <td>2098</td>\n      <td>ACU</td>\n      <td>ACME UNITED CORP</td>\n      <td>3420.0</td>\n    </tr>\n    <tr>\n      <th>...</th>\n      <td>...</td>\n      <td>...</td>\n      <td>...</td>\n      <td>...</td>\n      <td>...</td>\n      <td>...</td>\n      <td>...</td>\n      <td>...</td>\n      <td>...</td>\n      <td>...</td>\n      <td>...</td>\n      <td>...</td>\n      <td>...</td>\n      <td>...</td>\n    </tr>\n    <tr>\n      <th>9795</th>\n      <td>3</td>\n      <td>244483</td>\n      <td>2018</td>\n      <td>31DEC2018</td>\n      <td>2221000</td>\n      <td>206000</td>\n      <td>2427000</td>\n      <td>0</td>\n      <td>5000</td>\n      <td>Deloitte &amp; Touche LLP</td>\n      <td>1793294</td>\n      <td>NaN</td>\n      <td>PPD, Inc.</td>\n      <td>8731.0</td>\n    </tr>\n    <tr>\n      <th>9796</th>\n      <td>2</td>\n      <td>244138</td>\n      <td>2018</td>\n      <td>31DEC2018</td>\n      <td>3603000</td>\n      <td>47000</td>\n      <td>3650000</td>\n      <td>0</td>\n      <td>41000</td>\n      <td>Ernst &amp; Young LLP</td>\n      <td>1794338</td>\n      <td>NaN</td>\n      <td>International General Insurance Holdings Ltd.</td>\n      <td>6399.0</td>\n    </tr>\n    <tr>\n      <th>9797</th>\n      <td>4</td>\n      <td>242381</td>\n      <td>2018</td>\n      <td>31DEC2018</td>\n      <td>1100000</td>\n      <td>400000</td>\n      <td>1500000</td>\n      <td>0</td>\n      <td>0</td>\n      <td>KPMG LLP</td>\n      <td>1794846</td>\n      <td>ATCO</td>\n      <td>Atlas Corp.</td>\n      <td>4412.0</td>\n    </tr>\n    <tr>\n      <th>9798</th>\n      <td>1</td>\n      <td>246413</td>\n      <td>2018</td>\n      <td>31DEC2018</td>\n      <td>34665</td>\n      <td>0</td>\n      <td>34665</td>\n      <td>0</td>\n      <td>0</td>\n      <td>PricewaterhouseCoopers LLP</td>\n      <td>1796209</td>\n      <td>APG</td>\n      <td>APi Group Corp</td>\n      <td>1700.0</td>\n    </tr>\n    <tr>\n      <th>9799</th>\n      <td>4</td>\n      <td>245252</td>\n      <td>2018</td>\n      <td>31DEC2018</td>\n      <td>1113000</td>\n      <td>188000</td>\n      <td>1301000</td>\n      <td>73000</td>\n      <td>81000</td>\n      <td>KPMG LLP</td>\n      <td>1796514</td>\n      <td>METX</td>\n      <td>Meten Holding Group Ltd.</td>\n      <td>8200.0</td>\n    </tr>\n  </tbody>\n</table>\n<p>9800 rows × 14 columns</p>\n</div>"
     },
     "execution_count": 169,
     "metadata": {},
     "output_type": "execute_result"
    }
   ],
   "source": [
    "# Enter your code in this cell\n",
    "audit_analytics: pd.DataFrame = pd.read_csv(filepath_or_buffer=\"data/AuditAnalytics.txt\", sep=\"\\t\")\n",
    "audit_analytics"
   ]
  },
  {
   "cell_type": "markdown",
   "metadata": {},
   "source": [
    "#### Problem 1.3 - Drop unneeded columns (4 points)"
   ]
  },
  {
   "cell_type": "markdown",
   "metadata": {},
   "source": [
    "The dataset contains some extraneous columns. Drop the columns `SIC_CODE_FKEY` and `BEST_EDGAR_TICKER` as we will get this information from Compustat later."
   ]
  },
  {
   "cell_type": "code",
   "execution_count": 170,
   "metadata": {},
   "outputs": [
    {
     "data": {
      "text/plain": "      AUDITOR_FKEY  AUDIT_GIG_KEY  FISCAL_YEAR FISCAL_YEAR_ENDED  AUDIT_FEES  \\\n0                4         227633         2018         31MAY2018     1988901   \n1                2         230983         2018         31DEC2018    25381000   \n2             3143         231837         2018         31DEC2018       12500   \n3            11761         228249         2018         30JUN2018     2028000   \n4             8256         231256         2018         31DEC2018      328000   \n...            ...            ...          ...               ...         ...   \n9795             3         244483         2018         31DEC2018     2221000   \n9796             2         244138         2018         31DEC2018     3603000   \n9797             4         242381         2018         31DEC2018     1100000   \n9798             1         246413         2018         31DEC2018       34665   \n9799             4         245252         2018         31DEC2018     1113000   \n\n      NON_AUDIT_FEES  TOTAL_FEES  AUDIT_RELATED_FEES  OTHER_FEES  \\\n0             317296     2306197              174659           0   \n1            9683000    35064000              770000        8000   \n2              12000       24500               10500           0   \n3             229000     2257000                   0           0   \n4              74000      402000               22000           0   \n...              ...         ...                 ...         ...   \n9795          206000     2427000                   0        5000   \n9796           47000     3650000                   0       41000   \n9797          400000     1500000                   0           0   \n9798               0       34665                   0           0   \n9799          188000     1301000               73000       81000   \n\n                    AUDITOR_NAME  COMPANY_FKEY  \\\n0                       KPMG LLP          1750   \n1              Ernst & Young LLP          1800   \n2                  M&K CPAS PLLC          1961   \n3                    BDO USA LLP          2034   \n4                     Marcum LLP          2098   \n...                          ...           ...   \n9795       Deloitte & Touche LLP       1793294   \n9796           Ernst & Young LLP       1794338   \n9797                    KPMG LLP       1794846   \n9798  PricewaterhouseCoopers LLP       1796209   \n9799                    KPMG LLP       1796514   \n\n                                               NAME  \n0                                          AAR CORP  \n1                               ABBOTT LABORATORIES  \n2                                        WORLDS INC  \n3                                        ACETO CORP  \n4                                  ACME UNITED CORP  \n...                                             ...  \n9795                                      PPD, Inc.  \n9796  International General Insurance Holdings Ltd.  \n9797                                    Atlas Corp.  \n9798                                 APi Group Corp  \n9799                       Meten Holding Group Ltd.  \n\n[9800 rows x 12 columns]",
      "text/html": "<div>\n<style scoped>\n    .dataframe tbody tr th:only-of-type {\n        vertical-align: middle;\n    }\n\n    .dataframe tbody tr th {\n        vertical-align: top;\n    }\n\n    .dataframe thead th {\n        text-align: right;\n    }\n</style>\n<table border=\"1\" class=\"dataframe\">\n  <thead>\n    <tr style=\"text-align: right;\">\n      <th></th>\n      <th>AUDITOR_FKEY</th>\n      <th>AUDIT_GIG_KEY</th>\n      <th>FISCAL_YEAR</th>\n      <th>FISCAL_YEAR_ENDED</th>\n      <th>AUDIT_FEES</th>\n      <th>NON_AUDIT_FEES</th>\n      <th>TOTAL_FEES</th>\n      <th>AUDIT_RELATED_FEES</th>\n      <th>OTHER_FEES</th>\n      <th>AUDITOR_NAME</th>\n      <th>COMPANY_FKEY</th>\n      <th>NAME</th>\n    </tr>\n  </thead>\n  <tbody>\n    <tr>\n      <th>0</th>\n      <td>4</td>\n      <td>227633</td>\n      <td>2018</td>\n      <td>31MAY2018</td>\n      <td>1988901</td>\n      <td>317296</td>\n      <td>2306197</td>\n      <td>174659</td>\n      <td>0</td>\n      <td>KPMG LLP</td>\n      <td>1750</td>\n      <td>AAR CORP</td>\n    </tr>\n    <tr>\n      <th>1</th>\n      <td>2</td>\n      <td>230983</td>\n      <td>2018</td>\n      <td>31DEC2018</td>\n      <td>25381000</td>\n      <td>9683000</td>\n      <td>35064000</td>\n      <td>770000</td>\n      <td>8000</td>\n      <td>Ernst &amp; Young LLP</td>\n      <td>1800</td>\n      <td>ABBOTT LABORATORIES</td>\n    </tr>\n    <tr>\n      <th>2</th>\n      <td>3143</td>\n      <td>231837</td>\n      <td>2018</td>\n      <td>31DEC2018</td>\n      <td>12500</td>\n      <td>12000</td>\n      <td>24500</td>\n      <td>10500</td>\n      <td>0</td>\n      <td>M&amp;K CPAS PLLC</td>\n      <td>1961</td>\n      <td>WORLDS INC</td>\n    </tr>\n    <tr>\n      <th>3</th>\n      <td>11761</td>\n      <td>228249</td>\n      <td>2018</td>\n      <td>30JUN2018</td>\n      <td>2028000</td>\n      <td>229000</td>\n      <td>2257000</td>\n      <td>0</td>\n      <td>0</td>\n      <td>BDO USA LLP</td>\n      <td>2034</td>\n      <td>ACETO CORP</td>\n    </tr>\n    <tr>\n      <th>4</th>\n      <td>8256</td>\n      <td>231256</td>\n      <td>2018</td>\n      <td>31DEC2018</td>\n      <td>328000</td>\n      <td>74000</td>\n      <td>402000</td>\n      <td>22000</td>\n      <td>0</td>\n      <td>Marcum LLP</td>\n      <td>2098</td>\n      <td>ACME UNITED CORP</td>\n    </tr>\n    <tr>\n      <th>...</th>\n      <td>...</td>\n      <td>...</td>\n      <td>...</td>\n      <td>...</td>\n      <td>...</td>\n      <td>...</td>\n      <td>...</td>\n      <td>...</td>\n      <td>...</td>\n      <td>...</td>\n      <td>...</td>\n      <td>...</td>\n    </tr>\n    <tr>\n      <th>9795</th>\n      <td>3</td>\n      <td>244483</td>\n      <td>2018</td>\n      <td>31DEC2018</td>\n      <td>2221000</td>\n      <td>206000</td>\n      <td>2427000</td>\n      <td>0</td>\n      <td>5000</td>\n      <td>Deloitte &amp; Touche LLP</td>\n      <td>1793294</td>\n      <td>PPD, Inc.</td>\n    </tr>\n    <tr>\n      <th>9796</th>\n      <td>2</td>\n      <td>244138</td>\n      <td>2018</td>\n      <td>31DEC2018</td>\n      <td>3603000</td>\n      <td>47000</td>\n      <td>3650000</td>\n      <td>0</td>\n      <td>41000</td>\n      <td>Ernst &amp; Young LLP</td>\n      <td>1794338</td>\n      <td>International General Insurance Holdings Ltd.</td>\n    </tr>\n    <tr>\n      <th>9797</th>\n      <td>4</td>\n      <td>242381</td>\n      <td>2018</td>\n      <td>31DEC2018</td>\n      <td>1100000</td>\n      <td>400000</td>\n      <td>1500000</td>\n      <td>0</td>\n      <td>0</td>\n      <td>KPMG LLP</td>\n      <td>1794846</td>\n      <td>Atlas Corp.</td>\n    </tr>\n    <tr>\n      <th>9798</th>\n      <td>1</td>\n      <td>246413</td>\n      <td>2018</td>\n      <td>31DEC2018</td>\n      <td>34665</td>\n      <td>0</td>\n      <td>34665</td>\n      <td>0</td>\n      <td>0</td>\n      <td>PricewaterhouseCoopers LLP</td>\n      <td>1796209</td>\n      <td>APi Group Corp</td>\n    </tr>\n    <tr>\n      <th>9799</th>\n      <td>4</td>\n      <td>245252</td>\n      <td>2018</td>\n      <td>31DEC2018</td>\n      <td>1113000</td>\n      <td>188000</td>\n      <td>1301000</td>\n      <td>73000</td>\n      <td>81000</td>\n      <td>KPMG LLP</td>\n      <td>1796514</td>\n      <td>Meten Holding Group Ltd.</td>\n    </tr>\n  </tbody>\n</table>\n<p>9800 rows × 12 columns</p>\n</div>"
     },
     "execution_count": 170,
     "metadata": {},
     "output_type": "execute_result"
    }
   ],
   "source": [
    "# Enter your code in this cell\n",
    "audit_analytics.drop(labels=[\"SIC_CODE_FKEY\", \"BEST_EDGAR_TICKER\"], axis=1, inplace=True)\n",
    "audit_analytics"
   ]
  },
  {
   "cell_type": "markdown",
   "metadata": {},
   "source": [
    "#### Problem 1.4 - Filter to 2018 fiscal year (3 points)"
   ]
  },
  {
   "cell_type": "markdown",
   "metadata": {},
   "source": [
    "The dataset should only contain data for fiscal year 2018. \n",
    "1. Verify that the dataset contains only 2018 data. Write some code in the cell below that demonstrates this.\n",
    "2. If there are rows for other fiscal years, drop those rows."
   ]
  },
  {
   "cell_type": "code",
   "execution_count": 171,
   "metadata": {},
   "outputs": [
    {
     "data": {
      "text/plain": "Empty DataFrame\nColumns: [AUDITOR_FKEY, AUDIT_GIG_KEY, FISCAL_YEAR, FISCAL_YEAR_ENDED, AUDIT_FEES, NON_AUDIT_FEES, TOTAL_FEES, AUDIT_RELATED_FEES, OTHER_FEES, AUDITOR_NAME, COMPANY_FKEY, NAME]\nIndex: []",
      "text/html": "<div>\n<style scoped>\n    .dataframe tbody tr th:only-of-type {\n        vertical-align: middle;\n    }\n\n    .dataframe tbody tr th {\n        vertical-align: top;\n    }\n\n    .dataframe thead th {\n        text-align: right;\n    }\n</style>\n<table border=\"1\" class=\"dataframe\">\n  <thead>\n    <tr style=\"text-align: right;\">\n      <th></th>\n      <th>AUDITOR_FKEY</th>\n      <th>AUDIT_GIG_KEY</th>\n      <th>FISCAL_YEAR</th>\n      <th>FISCAL_YEAR_ENDED</th>\n      <th>AUDIT_FEES</th>\n      <th>NON_AUDIT_FEES</th>\n      <th>TOTAL_FEES</th>\n      <th>AUDIT_RELATED_FEES</th>\n      <th>OTHER_FEES</th>\n      <th>AUDITOR_NAME</th>\n      <th>COMPANY_FKEY</th>\n      <th>NAME</th>\n    </tr>\n  </thead>\n  <tbody>\n  </tbody>\n</table>\n</div>"
     },
     "execution_count": 171,
     "metadata": {},
     "output_type": "execute_result"
    }
   ],
   "source": [
    "# Enter your code in this cell\n",
    "audit_analytics.loc[audit_analytics.FISCAL_YEAR!=2018]\n",
    "# audit_analytics.drop(index=audit_analytics[audit_analytics.FISCAL_YEAR!=2018].index, inplace=True)"
   ]
  },
  {
   "cell_type": "markdown",
   "metadata": {},
   "source": [
    "#### Problem 1.5 - Date conversion (3 points)"
   ]
  },
  {
   "cell_type": "markdown",
   "metadata": {},
   "source": [
    "Check the values in the `FISCAL_YEAR_ENDED` column. Write code that shows us whether they contain valid Pandas dates. If not, convert them to Pandas dates."
   ]
  },
  {
   "cell_type": "code",
   "execution_count": 172,
   "metadata": {},
   "outputs": [
    {
     "name": "stdout",
     "output_type": "stream",
     "text": [
      "<class 'pandas.core.frame.DataFrame'>\n",
      "RangeIndex: 9800 entries, 0 to 9799\n",
      "Data columns (total 12 columns):\n",
      " #   Column              Non-Null Count  Dtype         \n",
      "---  ------              --------------  -----         \n",
      " 0   AUDITOR_FKEY        9800 non-null   int64         \n",
      " 1   AUDIT_GIG_KEY       9800 non-null   int64         \n",
      " 2   FISCAL_YEAR         9800 non-null   int64         \n",
      " 3   FISCAL_YEAR_ENDED   9800 non-null   datetime64[ns]\n",
      " 4   AUDIT_FEES          9800 non-null   int64         \n",
      " 5   NON_AUDIT_FEES      9800 non-null   int64         \n",
      " 6   TOTAL_FEES          9800 non-null   int64         \n",
      " 7   AUDIT_RELATED_FEES  9800 non-null   int64         \n",
      " 8   OTHER_FEES          9800 non-null   int64         \n",
      " 9   AUDITOR_NAME        9800 non-null   object        \n",
      " 10  COMPANY_FKEY        9800 non-null   int64         \n",
      " 11  NAME                9800 non-null   object        \n",
      "dtypes: datetime64[ns](1), int64(9), object(2)\n",
      "memory usage: 918.9+ KB\n"
     ]
    }
   ],
   "source": [
    "# Enter your code in this cell\n",
    "audit_analytics.FISCAL_YEAR_ENDED = pd.to_datetime(audit_analytics.FISCAL_YEAR_ENDED)\n",
    "audit_analytics.info()"
   ]
  },
  {
   "cell_type": "markdown",
   "metadata": {},
   "source": [
    "#### Problem 1.6 - Descriptive stats of audit fees (2 points)"
   ]
  },
  {
   "cell_type": "markdown",
   "metadata": {},
   "source": [
    "**Required:** Use the Pandas `describe` method to compute descriptive statistics on the `AUDIT_FEES` column.\n",
    "\n",
    "**Optional:** The output will be in scientific notation. If you want to make the output easier to read, append this method to your call to the `describe` method. It will format the numbers with commas and without decimals.  \n",
    "`.map(lambda x: f'{x:,.0f}')`  \n",
    "This is optional and intended to help you. If you are having difficulty with it, just ignore it."
   ]
  },
  {
   "cell_type": "code",
   "execution_count": 173,
   "metadata": {},
   "outputs": [
    {
     "data": {
      "text/plain": "count          9,800\nmean       1,619,924\nstd        4,689,183\nmin                0\n25%           55,000\n50%          260,755\n75%        1,321,512\nmax      106,221,720\nName: AUDIT_FEES, dtype: object"
     },
     "execution_count": 173,
     "metadata": {},
     "output_type": "execute_result"
    }
   ],
   "source": [
    "# Enter your code in this cell\n",
    "audit_analytics.AUDIT_FEES.describe().map(lambda x: f'{x:,.0f}')"
   ]
  },
  {
   "cell_type": "markdown",
   "metadata": {},
   "source": [
    "#### Problem 1.7 - Truncating the data (8 points)"
   ]
  },
  {
   "cell_type": "markdown",
   "metadata": {},
   "source": [
    "Looks like there are some large audit fees and some small ones. While the large fees might be considered outliers, they are likely legitimate numbers and should *not* be discarded. For example, it does not make sense to discard rows for large companies like Amazon and General Motors. However, data from very small companies is often \"noisy\"  and we should consider discarding such data.\n",
    "\n",
    "* Compute the 5th percentile value of the `AUDIT_FEES` column. \n",
    "* Print this 5th percentile value using the `print` function.\n",
    "* Filter out / remove all rows where the audit fee is strictly less than the 5th percentile value. Note: strictly less (<) does *not* mean less than or equal to (<=)."
   ]
  },
  {
   "cell_type": "code",
   "execution_count": 174,
   "metadata": {},
   "outputs": [
    {
     "name": "stdout",
     "output_type": "stream",
     "text": [
      "0.5    260755.0\n",
      "Name: AUDIT_FEES, dtype: float64\n"
     ]
    }
   ],
   "source": [
    "# Enter your code in this cell\n",
    "audit_fees_50_quantile: pd.Series = audit_analytics.AUDIT_FEES.quantile([0.5])\n",
    "print(audit_fees_50_quantile)\n",
    "audit_analytics.drop(index=audit_analytics[audit_analytics.AUDIT_FEES<audit_fees_50_quantile.values[0]].index, inplace=True)"
   ]
  },
  {
   "cell_type": "markdown",
   "metadata": {},
   "source": [
    "#### Problem 1.8 - Spot checks (6 points)"
   ]
  },
  {
   "cell_type": "markdown",
   "metadata": {},
   "source": [
    "Let's see if the data makes sense. Search the data and write code that displays or prints the following:\n",
    "1. Which firm audited Ford Motor Company in 2018?\n",
    "2. How much did Ford pay in audit fees (AUDIT_FEES)?\n",
    "3. Which firm audited Illinois Tool Works in 2018?\n",
    "4. How much did ITW pay in audit fees?"
   ]
  },
  {
   "cell_type": "code",
   "execution_count": 175,
   "metadata": {},
   "outputs": [
    {
     "name": "stdout",
     "output_type": "stream",
     "text": [
      "PricewaterhouseCoopers LLP audited Ford in 2018, and Ford paid 37600000 in audit fees.\n",
      "Deloitte & Touche LLP audited ITW in 2018, and ITW paid 9764000 in audit fees.\n"
     ]
    }
   ],
   "source": [
    "# Enter your code in this cell\n",
    "audit_ford_info: pd.DataFrame = audit_analytics[audit_analytics.NAME==\"FORD MOTOR CO\"]\n",
    "print(f\"{audit_ford_info.AUDITOR_NAME.values[0]} audited Ford in 2018, and Ford paid {audit_ford_info.AUDIT_FEES.values[0]} in audit fees.\")\n",
    "\n",
    "audit_itw_info: pd.DataFrame = audit_analytics[audit_analytics.NAME==\"ILLINOIS TOOL WORKS INC\"]\n",
    "print(f\"{audit_itw_info.AUDITOR_NAME.values[0]} audited ITW in 2018, and ITW paid {audit_itw_info.AUDIT_FEES.values[0]} in audit fees.\")"
   ]
  },
  {
   "cell_type": "markdown",
   "metadata": {},
   "source": [
    "#### Problem 1.9 - Non-unique company identifiers (5 points)"
   ]
  },
  {
   "cell_type": "markdown",
   "metadata": {},
   "source": [
    "The column `COMPANY_FKEY` contains a unique company (client) identifier. Since we are working with data for one year (2018), there should only be one row per company. However, if you check, you will find that there are several repeated `COMPANY_FKEY` values. Verify this. Write code that demonstrates that there are some non-unique `COMPANY_FKEY` values."
   ]
  },
  {
   "cell_type": "code",
   "execution_count": 176,
   "metadata": {},
   "outputs": [
    {
     "data": {
      "text/plain": "34"
     },
     "execution_count": 176,
     "metadata": {},
     "output_type": "execute_result"
    }
   ],
   "source": [
    "# Enter your code in this cell\n",
    "audit_analytics.COMPANY_FKEY.duplicated().sum()"
   ]
  },
  {
   "cell_type": "markdown",
   "metadata": {},
   "source": [
    "#### Problem 1.10 - Deleting non-unique company identifiers (11 points)"
   ]
  },
  {
   "cell_type": "markdown",
   "metadata": {},
   "source": [
    "Why might there be non-unique values of `COMPANY_FKEY`? One explanation is that some companies changed auditing firms in the middle of the year and Audit Analytics reports the fees for the former and current auditor. Another explanation is that an auditor performed multiple engagements at the same client (e.g., consulting work) and for some reason this is reported in separate rows. \n",
    "\n",
    "Data is never perfect, and data analysis often requires that you clean the data in imperfect ways. Our strategy is this. If a `COMPANY_FKEY` is repeated, then we will keep the row that contains the highest value of AUDIT_FEES. For example, say that `COMPANY_FKEY` 17 is repeated 3 times. In one row, AUDIT_FEES is 10. In the next row, AUDIT_FEES is 20, and in the third row, AUDIT_FEES is 30. You should drop the first two rows and only keep the third row with AUDIT_FEES of 30.\n",
    "\n",
    "---\n",
    "\n",
    "You will do this in stages. First, for each `COMPANY_FKEY`, compute the maximum amount of `AUDIT_FEES` paid. Write the code for this first step in the code cell below.\n",
    "\n",
    "*Hint:* use a pivot table, and save the pivot table as `dfMax`. Then rename the `AUDIT_FEES` column in `dfMax` to `Max_Audit_Fees`."
   ]
  },
  {
   "cell_type": "code",
   "execution_count": 177,
   "metadata": {},
   "outputs": [
    {
     "data": {
      "text/plain": "      COMPANY_FKEY  Max_Audit_Fees\n1492        768847          260810\n1965        829323          262000\n4130       1099160          262000\n8567       1647320          262270\n3508       1034594          262500\n...            ...             ...\n8160       1610520        71310000\n468          67088        72513824\n4013       1089113        86600000\n302          40545        92200000\n2597        891478       106221720\n\n[4866 rows x 2 columns]",
      "text/html": "<div>\n<style scoped>\n    .dataframe tbody tr th:only-of-type {\n        vertical-align: middle;\n    }\n\n    .dataframe tbody tr th {\n        vertical-align: top;\n    }\n\n    .dataframe thead th {\n        text-align: right;\n    }\n</style>\n<table border=\"1\" class=\"dataframe\">\n  <thead>\n    <tr style=\"text-align: right;\">\n      <th></th>\n      <th>COMPANY_FKEY</th>\n      <th>Max_Audit_Fees</th>\n    </tr>\n  </thead>\n  <tbody>\n    <tr>\n      <th>1492</th>\n      <td>768847</td>\n      <td>260810</td>\n    </tr>\n    <tr>\n      <th>1965</th>\n      <td>829323</td>\n      <td>262000</td>\n    </tr>\n    <tr>\n      <th>4130</th>\n      <td>1099160</td>\n      <td>262000</td>\n    </tr>\n    <tr>\n      <th>8567</th>\n      <td>1647320</td>\n      <td>262270</td>\n    </tr>\n    <tr>\n      <th>3508</th>\n      <td>1034594</td>\n      <td>262500</td>\n    </tr>\n    <tr>\n      <th>...</th>\n      <td>...</td>\n      <td>...</td>\n    </tr>\n    <tr>\n      <th>8160</th>\n      <td>1610520</td>\n      <td>71310000</td>\n    </tr>\n    <tr>\n      <th>468</th>\n      <td>67088</td>\n      <td>72513824</td>\n    </tr>\n    <tr>\n      <th>4013</th>\n      <td>1089113</td>\n      <td>86600000</td>\n    </tr>\n    <tr>\n      <th>302</th>\n      <td>40545</td>\n      <td>92200000</td>\n    </tr>\n    <tr>\n      <th>2597</th>\n      <td>891478</td>\n      <td>106221720</td>\n    </tr>\n  </tbody>\n</table>\n<p>4866 rows × 2 columns</p>\n</div>"
     },
     "execution_count": 177,
     "metadata": {},
     "output_type": "execute_result"
    }
   ],
   "source": [
    "# Enter your code in this cell\n",
    "dfMax: pd.DataFrame = audit_analytics.sort_values(by=\"AUDIT_FEES\")\n",
    "dfMax.drop_duplicates(subset=[\"COMPANY_FKEY\"], keep=\"last\", inplace=True)\n",
    "dfMax = dfMax[[\"COMPANY_FKEY\", \"AUDIT_FEES\"]]\n",
    "dfMax.rename(columns={\"AUDIT_FEES\": \"Max_Audit_Fees\"}, inplace=True)\n",
    "dfMax"
   ]
  },
  {
   "cell_type": "markdown",
   "metadata": {},
   "source": [
    "Next, you will merge `dfMax` with your Audit Analytics data frame. We did not teach you how to merge data this semester so you will need to teach yourself the basics (and you will learn more about merging data next semester in ACCY 575). \n",
    "\n",
    "Here's a simple example to help you get started. Consider this data frame containing some information about pets:\n",
    "\n",
    "|     | key | Type | Age |\n",
    "|----:|----:|:-----|----:|\n",
    "|   0 |   1 | cat  |   4 |\n",
    "|   1 |   2 | dog  |   9 |\n",
    "|   2 |   3 | bird |   3 |\n",
    "\n",
    "Now say there is another data frame with related information:\n",
    "\n",
    "|     | key | name    |\n",
    "|----:|----:|:--------|\n",
    "|   0 |   1 | Fluffy  |\n",
    "|   1 |   3 | Tweetie |\n",
    "|   2 |   5 | Spike   |\n",
    "\n",
    "\n",
    "If we merge these two data frames on the column named \"key\" with an inner join, we will get this data frame:\n",
    "\n",
    "|     | key | Type | Age | name    |\n",
    "|----:|----:|:-----|----:|:--------|\n",
    "|   0 |   1 | cat  |   4 | Fluffy  |\n",
    "|   1 |   3 | bird |   3 | Tweetie |\n",
    "\n",
    "For the rows where the keys matched (keys 1 and 3), the merge appended the columns from both data frames into the resulting data frame. If a key is only in one of the two data frames, its row will not appear in the merged data frame.\n",
    "\n",
    "---\n",
    "\n",
    "In the cell below, write code to merge `dfMax` with your Audit Analytics data frame. We strongly suggest that you use the [pd.merge](https://pandas.pydata.org/pandas-docs/stable/reference/api/pandas.merge.html) function. Use an inner join, and join on the `COMPANY_FKEY` column."
   ]
  },
  {
   "cell_type": "code",
   "execution_count": 178,
   "metadata": {},
   "outputs": [
    {
     "data": {
      "text/plain": "      AUDITOR_FKEY  AUDIT_GIG_KEY  FISCAL_YEAR FISCAL_YEAR_ENDED  AUDIT_FEES  \\\n0                4         227633         2018        2018-05-31     1988901   \n1                2         230983         2018        2018-12-31    25381000   \n2            11761         228249         2018        2018-06-30     2028000   \n3             8256         231256         2018        2018-12-31      328000   \n4                1         230432         2018        2018-12-31      272000   \n...            ...            ...          ...               ...         ...   \n4895             1         240882         2018        2018-12-31     2155000   \n4896             3         244483         2018        2018-12-31     2221000   \n4897             2         244138         2018        2018-12-31     3603000   \n4898             4         242381         2018        2018-12-31     1100000   \n4899             4         245252         2018        2018-12-31     1113000   \n\n      NON_AUDIT_FEES  TOTAL_FEES  AUDIT_RELATED_FEES  OTHER_FEES  \\\n0             317296     2306197              174659           0   \n1            9683000    35064000              770000        8000   \n2             229000     2257000                   0           0   \n3              74000      402000               22000           0   \n4             101900      373900               26500           0   \n...              ...         ...                 ...         ...   \n4895          527000     2682000              302000        5000   \n4896          206000     2427000                   0        5000   \n4897           47000     3650000                   0       41000   \n4898          400000     1500000                   0           0   \n4899          188000     1301000               73000       81000   \n\n                    AUDITOR_NAME  COMPANY_FKEY  \\\n0                       KPMG LLP          1750   \n1              Ernst & Young LLP          1800   \n2                    BDO USA LLP          2034   \n3                     Marcum LLP          2098   \n4     PricewaterhouseCoopers LLP          2110   \n...                          ...           ...   \n4895  PricewaterhouseCoopers LLP       1792580   \n4896       Deloitte & Touche LLP       1793294   \n4897           Ernst & Young LLP       1794338   \n4898                    KPMG LLP       1794846   \n4899                    KPMG LLP       1796514   \n\n                                               NAME  Max_Audit_Fees  \n0                                          AAR CORP         1988901  \n1                               ABBOTT LABORATORIES        25381000  \n2                                        ACETO CORP         2028000  \n3                                  ACME UNITED CORP          328000  \n4                              COLUMBIA ACORN TRUST          272000  \n...                                             ...             ...  \n4895                                   Ovintiv Inc.         2155000  \n4896                                      PPD, Inc.         2221000  \n4897  International General Insurance Holdings Ltd.         3603000  \n4898                                    Atlas Corp.         1100000  \n4899                       Meten Holding Group Ltd.         1113000  \n\n[4900 rows x 13 columns]",
      "text/html": "<div>\n<style scoped>\n    .dataframe tbody tr th:only-of-type {\n        vertical-align: middle;\n    }\n\n    .dataframe tbody tr th {\n        vertical-align: top;\n    }\n\n    .dataframe thead th {\n        text-align: right;\n    }\n</style>\n<table border=\"1\" class=\"dataframe\">\n  <thead>\n    <tr style=\"text-align: right;\">\n      <th></th>\n      <th>AUDITOR_FKEY</th>\n      <th>AUDIT_GIG_KEY</th>\n      <th>FISCAL_YEAR</th>\n      <th>FISCAL_YEAR_ENDED</th>\n      <th>AUDIT_FEES</th>\n      <th>NON_AUDIT_FEES</th>\n      <th>TOTAL_FEES</th>\n      <th>AUDIT_RELATED_FEES</th>\n      <th>OTHER_FEES</th>\n      <th>AUDITOR_NAME</th>\n      <th>COMPANY_FKEY</th>\n      <th>NAME</th>\n      <th>Max_Audit_Fees</th>\n    </tr>\n  </thead>\n  <tbody>\n    <tr>\n      <th>0</th>\n      <td>4</td>\n      <td>227633</td>\n      <td>2018</td>\n      <td>2018-05-31</td>\n      <td>1988901</td>\n      <td>317296</td>\n      <td>2306197</td>\n      <td>174659</td>\n      <td>0</td>\n      <td>KPMG LLP</td>\n      <td>1750</td>\n      <td>AAR CORP</td>\n      <td>1988901</td>\n    </tr>\n    <tr>\n      <th>1</th>\n      <td>2</td>\n      <td>230983</td>\n      <td>2018</td>\n      <td>2018-12-31</td>\n      <td>25381000</td>\n      <td>9683000</td>\n      <td>35064000</td>\n      <td>770000</td>\n      <td>8000</td>\n      <td>Ernst &amp; Young LLP</td>\n      <td>1800</td>\n      <td>ABBOTT LABORATORIES</td>\n      <td>25381000</td>\n    </tr>\n    <tr>\n      <th>2</th>\n      <td>11761</td>\n      <td>228249</td>\n      <td>2018</td>\n      <td>2018-06-30</td>\n      <td>2028000</td>\n      <td>229000</td>\n      <td>2257000</td>\n      <td>0</td>\n      <td>0</td>\n      <td>BDO USA LLP</td>\n      <td>2034</td>\n      <td>ACETO CORP</td>\n      <td>2028000</td>\n    </tr>\n    <tr>\n      <th>3</th>\n      <td>8256</td>\n      <td>231256</td>\n      <td>2018</td>\n      <td>2018-12-31</td>\n      <td>328000</td>\n      <td>74000</td>\n      <td>402000</td>\n      <td>22000</td>\n      <td>0</td>\n      <td>Marcum LLP</td>\n      <td>2098</td>\n      <td>ACME UNITED CORP</td>\n      <td>328000</td>\n    </tr>\n    <tr>\n      <th>4</th>\n      <td>1</td>\n      <td>230432</td>\n      <td>2018</td>\n      <td>2018-12-31</td>\n      <td>272000</td>\n      <td>101900</td>\n      <td>373900</td>\n      <td>26500</td>\n      <td>0</td>\n      <td>PricewaterhouseCoopers LLP</td>\n      <td>2110</td>\n      <td>COLUMBIA ACORN TRUST</td>\n      <td>272000</td>\n    </tr>\n    <tr>\n      <th>...</th>\n      <td>...</td>\n      <td>...</td>\n      <td>...</td>\n      <td>...</td>\n      <td>...</td>\n      <td>...</td>\n      <td>...</td>\n      <td>...</td>\n      <td>...</td>\n      <td>...</td>\n      <td>...</td>\n      <td>...</td>\n      <td>...</td>\n    </tr>\n    <tr>\n      <th>4895</th>\n      <td>1</td>\n      <td>240882</td>\n      <td>2018</td>\n      <td>2018-12-31</td>\n      <td>2155000</td>\n      <td>527000</td>\n      <td>2682000</td>\n      <td>302000</td>\n      <td>5000</td>\n      <td>PricewaterhouseCoopers LLP</td>\n      <td>1792580</td>\n      <td>Ovintiv Inc.</td>\n      <td>2155000</td>\n    </tr>\n    <tr>\n      <th>4896</th>\n      <td>3</td>\n      <td>244483</td>\n      <td>2018</td>\n      <td>2018-12-31</td>\n      <td>2221000</td>\n      <td>206000</td>\n      <td>2427000</td>\n      <td>0</td>\n      <td>5000</td>\n      <td>Deloitte &amp; Touche LLP</td>\n      <td>1793294</td>\n      <td>PPD, Inc.</td>\n      <td>2221000</td>\n    </tr>\n    <tr>\n      <th>4897</th>\n      <td>2</td>\n      <td>244138</td>\n      <td>2018</td>\n      <td>2018-12-31</td>\n      <td>3603000</td>\n      <td>47000</td>\n      <td>3650000</td>\n      <td>0</td>\n      <td>41000</td>\n      <td>Ernst &amp; Young LLP</td>\n      <td>1794338</td>\n      <td>International General Insurance Holdings Ltd.</td>\n      <td>3603000</td>\n    </tr>\n    <tr>\n      <th>4898</th>\n      <td>4</td>\n      <td>242381</td>\n      <td>2018</td>\n      <td>2018-12-31</td>\n      <td>1100000</td>\n      <td>400000</td>\n      <td>1500000</td>\n      <td>0</td>\n      <td>0</td>\n      <td>KPMG LLP</td>\n      <td>1794846</td>\n      <td>Atlas Corp.</td>\n      <td>1100000</td>\n    </tr>\n    <tr>\n      <th>4899</th>\n      <td>4</td>\n      <td>245252</td>\n      <td>2018</td>\n      <td>2018-12-31</td>\n      <td>1113000</td>\n      <td>188000</td>\n      <td>1301000</td>\n      <td>73000</td>\n      <td>81000</td>\n      <td>KPMG LLP</td>\n      <td>1796514</td>\n      <td>Meten Holding Group Ltd.</td>\n      <td>1113000</td>\n    </tr>\n  </tbody>\n</table>\n<p>4900 rows × 13 columns</p>\n</div>"
     },
     "execution_count": 178,
     "metadata": {},
     "output_type": "execute_result"
    }
   ],
   "source": [
    "# Enter your code in this cell\n",
    "audit_analytics = pd.merge(left=audit_analytics, right=dfMax, how=\"inner\")\n",
    "audit_analytics"
   ]
  },
  {
   "cell_type": "markdown",
   "metadata": {},
   "source": [
    "Finally, filter the merged data frame so that you keep rows where the audit fee is equal to the maximum audit fee."
   ]
  },
  {
   "cell_type": "code",
   "execution_count": 179,
   "metadata": {},
   "outputs": [
    {
     "data": {
      "text/plain": "      AUDITOR_FKEY  AUDIT_GIG_KEY  FISCAL_YEAR FISCAL_YEAR_ENDED  AUDIT_FEES  \\\n0                4         227633         2018        2018-05-31     1988901   \n1                2         230983         2018        2018-12-31    25381000   \n2            11761         228249         2018        2018-06-30     2028000   \n3             8256         231256         2018        2018-12-31      328000   \n4                1         230432         2018        2018-12-31      272000   \n...            ...            ...          ...               ...         ...   \n4895             1         240882         2018        2018-12-31     2155000   \n4896             3         244483         2018        2018-12-31     2221000   \n4897             2         244138         2018        2018-12-31     3603000   \n4898             4         242381         2018        2018-12-31     1100000   \n4899             4         245252         2018        2018-12-31     1113000   \n\n      NON_AUDIT_FEES  TOTAL_FEES  AUDIT_RELATED_FEES  OTHER_FEES  \\\n0             317296     2306197              174659           0   \n1            9683000    35064000              770000        8000   \n2             229000     2257000                   0           0   \n3              74000      402000               22000           0   \n4             101900      373900               26500           0   \n...              ...         ...                 ...         ...   \n4895          527000     2682000              302000        5000   \n4896          206000     2427000                   0        5000   \n4897           47000     3650000                   0       41000   \n4898          400000     1500000                   0           0   \n4899          188000     1301000               73000       81000   \n\n                    AUDITOR_NAME  COMPANY_FKEY  \\\n0                       KPMG LLP          1750   \n1              Ernst & Young LLP          1800   \n2                    BDO USA LLP          2034   \n3                     Marcum LLP          2098   \n4     PricewaterhouseCoopers LLP          2110   \n...                          ...           ...   \n4895  PricewaterhouseCoopers LLP       1792580   \n4896       Deloitte & Touche LLP       1793294   \n4897           Ernst & Young LLP       1794338   \n4898                    KPMG LLP       1794846   \n4899                    KPMG LLP       1796514   \n\n                                               NAME  Max_Audit_Fees  \n0                                          AAR CORP         1988901  \n1                               ABBOTT LABORATORIES        25381000  \n2                                        ACETO CORP         2028000  \n3                                  ACME UNITED CORP          328000  \n4                              COLUMBIA ACORN TRUST          272000  \n...                                             ...             ...  \n4895                                   Ovintiv Inc.         2155000  \n4896                                      PPD, Inc.         2221000  \n4897  International General Insurance Holdings Ltd.         3603000  \n4898                                    Atlas Corp.         1100000  \n4899                       Meten Holding Group Ltd.         1113000  \n\n[4866 rows x 13 columns]",
      "text/html": "<div>\n<style scoped>\n    .dataframe tbody tr th:only-of-type {\n        vertical-align: middle;\n    }\n\n    .dataframe tbody tr th {\n        vertical-align: top;\n    }\n\n    .dataframe thead th {\n        text-align: right;\n    }\n</style>\n<table border=\"1\" class=\"dataframe\">\n  <thead>\n    <tr style=\"text-align: right;\">\n      <th></th>\n      <th>AUDITOR_FKEY</th>\n      <th>AUDIT_GIG_KEY</th>\n      <th>FISCAL_YEAR</th>\n      <th>FISCAL_YEAR_ENDED</th>\n      <th>AUDIT_FEES</th>\n      <th>NON_AUDIT_FEES</th>\n      <th>TOTAL_FEES</th>\n      <th>AUDIT_RELATED_FEES</th>\n      <th>OTHER_FEES</th>\n      <th>AUDITOR_NAME</th>\n      <th>COMPANY_FKEY</th>\n      <th>NAME</th>\n      <th>Max_Audit_Fees</th>\n    </tr>\n  </thead>\n  <tbody>\n    <tr>\n      <th>0</th>\n      <td>4</td>\n      <td>227633</td>\n      <td>2018</td>\n      <td>2018-05-31</td>\n      <td>1988901</td>\n      <td>317296</td>\n      <td>2306197</td>\n      <td>174659</td>\n      <td>0</td>\n      <td>KPMG LLP</td>\n      <td>1750</td>\n      <td>AAR CORP</td>\n      <td>1988901</td>\n    </tr>\n    <tr>\n      <th>1</th>\n      <td>2</td>\n      <td>230983</td>\n      <td>2018</td>\n      <td>2018-12-31</td>\n      <td>25381000</td>\n      <td>9683000</td>\n      <td>35064000</td>\n      <td>770000</td>\n      <td>8000</td>\n      <td>Ernst &amp; Young LLP</td>\n      <td>1800</td>\n      <td>ABBOTT LABORATORIES</td>\n      <td>25381000</td>\n    </tr>\n    <tr>\n      <th>2</th>\n      <td>11761</td>\n      <td>228249</td>\n      <td>2018</td>\n      <td>2018-06-30</td>\n      <td>2028000</td>\n      <td>229000</td>\n      <td>2257000</td>\n      <td>0</td>\n      <td>0</td>\n      <td>BDO USA LLP</td>\n      <td>2034</td>\n      <td>ACETO CORP</td>\n      <td>2028000</td>\n    </tr>\n    <tr>\n      <th>3</th>\n      <td>8256</td>\n      <td>231256</td>\n      <td>2018</td>\n      <td>2018-12-31</td>\n      <td>328000</td>\n      <td>74000</td>\n      <td>402000</td>\n      <td>22000</td>\n      <td>0</td>\n      <td>Marcum LLP</td>\n      <td>2098</td>\n      <td>ACME UNITED CORP</td>\n      <td>328000</td>\n    </tr>\n    <tr>\n      <th>4</th>\n      <td>1</td>\n      <td>230432</td>\n      <td>2018</td>\n      <td>2018-12-31</td>\n      <td>272000</td>\n      <td>101900</td>\n      <td>373900</td>\n      <td>26500</td>\n      <td>0</td>\n      <td>PricewaterhouseCoopers LLP</td>\n      <td>2110</td>\n      <td>COLUMBIA ACORN TRUST</td>\n      <td>272000</td>\n    </tr>\n    <tr>\n      <th>...</th>\n      <td>...</td>\n      <td>...</td>\n      <td>...</td>\n      <td>...</td>\n      <td>...</td>\n      <td>...</td>\n      <td>...</td>\n      <td>...</td>\n      <td>...</td>\n      <td>...</td>\n      <td>...</td>\n      <td>...</td>\n      <td>...</td>\n    </tr>\n    <tr>\n      <th>4895</th>\n      <td>1</td>\n      <td>240882</td>\n      <td>2018</td>\n      <td>2018-12-31</td>\n      <td>2155000</td>\n      <td>527000</td>\n      <td>2682000</td>\n      <td>302000</td>\n      <td>5000</td>\n      <td>PricewaterhouseCoopers LLP</td>\n      <td>1792580</td>\n      <td>Ovintiv Inc.</td>\n      <td>2155000</td>\n    </tr>\n    <tr>\n      <th>4896</th>\n      <td>3</td>\n      <td>244483</td>\n      <td>2018</td>\n      <td>2018-12-31</td>\n      <td>2221000</td>\n      <td>206000</td>\n      <td>2427000</td>\n      <td>0</td>\n      <td>5000</td>\n      <td>Deloitte &amp; Touche LLP</td>\n      <td>1793294</td>\n      <td>PPD, Inc.</td>\n      <td>2221000</td>\n    </tr>\n    <tr>\n      <th>4897</th>\n      <td>2</td>\n      <td>244138</td>\n      <td>2018</td>\n      <td>2018-12-31</td>\n      <td>3603000</td>\n      <td>47000</td>\n      <td>3650000</td>\n      <td>0</td>\n      <td>41000</td>\n      <td>Ernst &amp; Young LLP</td>\n      <td>1794338</td>\n      <td>International General Insurance Holdings Ltd.</td>\n      <td>3603000</td>\n    </tr>\n    <tr>\n      <th>4898</th>\n      <td>4</td>\n      <td>242381</td>\n      <td>2018</td>\n      <td>2018-12-31</td>\n      <td>1100000</td>\n      <td>400000</td>\n      <td>1500000</td>\n      <td>0</td>\n      <td>0</td>\n      <td>KPMG LLP</td>\n      <td>1794846</td>\n      <td>Atlas Corp.</td>\n      <td>1100000</td>\n    </tr>\n    <tr>\n      <th>4899</th>\n      <td>4</td>\n      <td>245252</td>\n      <td>2018</td>\n      <td>2018-12-31</td>\n      <td>1113000</td>\n      <td>188000</td>\n      <td>1301000</td>\n      <td>73000</td>\n      <td>81000</td>\n      <td>KPMG LLP</td>\n      <td>1796514</td>\n      <td>Meten Holding Group Ltd.</td>\n      <td>1113000</td>\n    </tr>\n  </tbody>\n</table>\n<p>4866 rows × 13 columns</p>\n</div>"
     },
     "execution_count": 179,
     "metadata": {},
     "output_type": "execute_result"
    }
   ],
   "source": [
    "# Enter your code in this cell\n",
    "audit_analytics.drop(index=audit_analytics[audit_analytics.Max_Audit_Fees!=audit_analytics.AUDIT_FEES].index, inplace=True)\n",
    "audit_analytics"
   ]
  },
  {
   "cell_type": "markdown",
   "metadata": {},
   "source": [
    "Let's check if our strategy worked. Check again whether there are any repeated COMPANY_FKEY values. If so, print those out."
   ]
  },
  {
   "cell_type": "code",
   "execution_count": 180,
   "metadata": {},
   "outputs": [
    {
     "data": {
      "text/plain": "0"
     },
     "execution_count": 180,
     "metadata": {},
     "output_type": "execute_result"
    }
   ],
   "source": [
    "# Enter your code in this cell\n",
    "audit_analytics.COMPANY_FKEY.duplicated().sum()"
   ]
  },
  {
   "cell_type": "markdown",
   "metadata": {},
   "source": [
    "Looks like there are still a few repeated `COMPANY_FKEY` values. Let's ignore those and proceed. It will add some noise to our analysis, but hopefully not much."
   ]
  },
  {
   "cell_type": "markdown",
   "metadata": {},
   "source": [
    "### Problem 2 - Loading and Cleaning the Compustat Dataset (35 points)"
   ]
  },
  {
   "cell_type": "markdown",
   "metadata": {},
   "source": [
    "The Compustat database contains hundreds of columns and we downloaded only a subset. Your raw dataset, *Compustat.txt*, contains these columns:\n",
    "\n",
    "| Column   | Description                                                                                                                     |\n",
    "|----------|---------------------------------------------------------------------------------------------------------------------------------|\n",
    "| GVKEY    | A unique identifier for each company                                                                                            |\n",
    "| DATADATE | The reporting date (fiscal year end date)                                                                                       |\n",
    "| FYEAR    | Fiscal year for this row                                                                                                        |\n",
    "| INDFMT   | Industry format (INDL for industrial, FS for financial services)                                                                |\n",
    "| CONSOL   | Level of consolidation                                                                                                          |\n",
    "| POPSRC   | Population source (D for domestic (U.S. based) or I for international)                                                          |\n",
    "| DATAFMT  | Data format                                                                                                                     |\n",
    "| TIC      | Stock ticker symbol                                                                                                             |\n",
    "| CONM     | Company name                                                                                                                    |\n",
    "| CURCD    | Currency code                                                                                                                   |\n",
    "| FYR      | Fiscal year end month (i.e., 1 for January, 2 for February)                                                                     |\n",
    "| ACT      | Current assets (in millions of US dollars)                                                                                      |\n",
    "| AT       | Total assets (in millions of US dollars)                                                                                        |\n",
    "| CEQ      | Common equity  (in millions of US dollars)                                                                                      |\n",
    "| IB       | Income before extraordinary items (in millions of US dollars)                                                                   |\n",
    "| INVT     | Inventories, total (in millions of US dollars)                                                                                  |\n",
    "| INVWIP   | Inventories, work-in-process (in millions of US dollars)                                                                        |\n",
    "| LCT      | Current liabilities (in millions of US dollars)                                                                                 |\n",
    "| LT       | Total liabilities (in millions of US dollars)                                                                                   |\n",
    "| NI       | Net income (in millions of US dollars)                                                                                          |\n",
    "| RECT     | Receivables, total (in millions of US dollars)                                                                                  |\n",
    "| REVT     | SALE plus other operating revenues (in millions of US dollars)                                                                  |\n",
    "| SALE     | Gross sales less cash discounts, trade discounts, returns, and allowances (in millions of US dollars)                           |\n",
    "| CIK      | Central Index Key (CIK) is the SEC's unique identifier for corporations and individuals who have filed disclosures with the SEC |\n",
    "| COSTAT   | Company status (A for active, I for inactive)                                                                                   |\n",
    "| SIC      | Standard industry classification code                                                                                           |"
   ]
  },
  {
   "cell_type": "markdown",
   "metadata": {},
   "source": [
    "#### Problem 2.1 - Load raw data file, *Compustat.txt* (3 points)"
   ]
  },
  {
   "cell_type": "markdown",
   "metadata": {},
   "source": [
    "* Use the Pandas `read_csv` function to load the file *Compustat.txt*, which contains tab-delimited data, into a Pandas data frame.\n",
    "* Use a meaningful name for your data frame as you will create other data frames later.\n",
    "* *You must tell the `read_csv` function that your dataset is tab-delimited. Look up the help for this function and figure out how to do this.*"
   ]
  },
  {
   "cell_type": "code",
   "execution_count": 181,
   "metadata": {},
   "outputs": [
    {
     "data": {
      "text/plain": "        GVKEY   DATADATE  FYEAR INDFMT CONSOL POPSRC DATAFMT    TIC  \\\n0        1004  31MAY2017   2016   INDL      C      D     STD    AIR   \n1        1004  31MAY2018   2017   INDL      C      D     STD    AIR   \n2        1004  31MAY2019   2018   INDL      C      D     STD    AIR   \n3        1019  31DEC2017   2017   INDL      C      D     STD   AFAP   \n4        1019  31DEC2018   2018   INDL      C      D     STD   AFAP   \n...       ...        ...    ...    ...    ...    ...     ...    ...   \n28036  347085  28FEB2019   2018   INDL      C      D     STD   KARO   \n28037  348892  31DEC2019   2019   INDL      C      D     STD   STKH   \n28038  351038  31DEC2019   2019   INDL      C      D     STD   QNRX   \n28039  351491  31DEC2019   2019   INDL      C      D     STD  IVCGF   \n28040  351590  31DEC2019   2019   INDL      C      D     STD  DTRUY   \n\n                             CONM CURCD  ...    INVWIP        LCT         LT  \\\n0                        AAR CORP   USD  ...    25.800    335.100    589.900   \n1                        AAR CORP   USD  ...    32.100    333.300    588.400   \n2                        AAR CORP   USD  ...    14.000    357.500    611.300   \n3      AFA PROTECTIVE SYSTEMS INC   USD  ...       NaN     16.338     22.302   \n4      AFA PROTECTIVE SYSTEMS INC   USD  ...       NaN     19.536     24.826   \n...                           ...   ...  ...       ...        ...        ...   \n28036                KAROOOOO LTD   USD  ...     0.908     26.334     49.180   \n28037       STEAKHOLDER FOODS LTD   USD  ...       NaN        NaN        NaN   \n28038   CELLECT BIOTECHNOLOGY LTD   USD  ...       NaN        NaN        NaN   \n28039             IVECO GROUP N V   USD  ...   349.000  12588.000  14797.000   \n28040    DAIMLER TRUCK HOLDING AG   USD  ...  1896.489  25164.947  50522.908   \n\n             NI       RECT       REVT       SALE        CIK  COSTAT     SIC  \n0        56.500    251.400   1767.600   1767.600     1750.0       A  5080.0  \n1        15.600    203.000   1748.300   1748.300     1750.0       A  5080.0  \n2         7.500    258.100   2051.800   2051.800     1750.0       A  5080.0  \n3         0.260     12.689     73.220     73.220     2668.0       A  7380.0  \n4         1.101     16.316     77.742     77.742     2668.0       A  7380.0  \n...         ...        ...        ...        ...        ...     ...     ...  \n28036    16.851     15.349    120.390    120.390  1828102.0       A  7370.0  \n28037       NaN        NaN        NaN        NaN  1828098.0       A  3550.0  \n28038       NaN        NaN        NaN        NaN  1671502.0       A  2834.0  \n28039    94.000   8114.000  13408.000  13408.000        NaN       A  3711.0  \n28040  1942.498  15167.421  51894.216  51894.216  1890567.0       A  3713.0  \n\n[28041 rows x 26 columns]",
      "text/html": "<div>\n<style scoped>\n    .dataframe tbody tr th:only-of-type {\n        vertical-align: middle;\n    }\n\n    .dataframe tbody tr th {\n        vertical-align: top;\n    }\n\n    .dataframe thead th {\n        text-align: right;\n    }\n</style>\n<table border=\"1\" class=\"dataframe\">\n  <thead>\n    <tr style=\"text-align: right;\">\n      <th></th>\n      <th>GVKEY</th>\n      <th>DATADATE</th>\n      <th>FYEAR</th>\n      <th>INDFMT</th>\n      <th>CONSOL</th>\n      <th>POPSRC</th>\n      <th>DATAFMT</th>\n      <th>TIC</th>\n      <th>CONM</th>\n      <th>CURCD</th>\n      <th>...</th>\n      <th>INVWIP</th>\n      <th>LCT</th>\n      <th>LT</th>\n      <th>NI</th>\n      <th>RECT</th>\n      <th>REVT</th>\n      <th>SALE</th>\n      <th>CIK</th>\n      <th>COSTAT</th>\n      <th>SIC</th>\n    </tr>\n  </thead>\n  <tbody>\n    <tr>\n      <th>0</th>\n      <td>1004</td>\n      <td>31MAY2017</td>\n      <td>2016</td>\n      <td>INDL</td>\n      <td>C</td>\n      <td>D</td>\n      <td>STD</td>\n      <td>AIR</td>\n      <td>AAR CORP</td>\n      <td>USD</td>\n      <td>...</td>\n      <td>25.800</td>\n      <td>335.100</td>\n      <td>589.900</td>\n      <td>56.500</td>\n      <td>251.400</td>\n      <td>1767.600</td>\n      <td>1767.600</td>\n      <td>1750.0</td>\n      <td>A</td>\n      <td>5080.0</td>\n    </tr>\n    <tr>\n      <th>1</th>\n      <td>1004</td>\n      <td>31MAY2018</td>\n      <td>2017</td>\n      <td>INDL</td>\n      <td>C</td>\n      <td>D</td>\n      <td>STD</td>\n      <td>AIR</td>\n      <td>AAR CORP</td>\n      <td>USD</td>\n      <td>...</td>\n      <td>32.100</td>\n      <td>333.300</td>\n      <td>588.400</td>\n      <td>15.600</td>\n      <td>203.000</td>\n      <td>1748.300</td>\n      <td>1748.300</td>\n      <td>1750.0</td>\n      <td>A</td>\n      <td>5080.0</td>\n    </tr>\n    <tr>\n      <th>2</th>\n      <td>1004</td>\n      <td>31MAY2019</td>\n      <td>2018</td>\n      <td>INDL</td>\n      <td>C</td>\n      <td>D</td>\n      <td>STD</td>\n      <td>AIR</td>\n      <td>AAR CORP</td>\n      <td>USD</td>\n      <td>...</td>\n      <td>14.000</td>\n      <td>357.500</td>\n      <td>611.300</td>\n      <td>7.500</td>\n      <td>258.100</td>\n      <td>2051.800</td>\n      <td>2051.800</td>\n      <td>1750.0</td>\n      <td>A</td>\n      <td>5080.0</td>\n    </tr>\n    <tr>\n      <th>3</th>\n      <td>1019</td>\n      <td>31DEC2017</td>\n      <td>2017</td>\n      <td>INDL</td>\n      <td>C</td>\n      <td>D</td>\n      <td>STD</td>\n      <td>AFAP</td>\n      <td>AFA PROTECTIVE SYSTEMS INC</td>\n      <td>USD</td>\n      <td>...</td>\n      <td>NaN</td>\n      <td>16.338</td>\n      <td>22.302</td>\n      <td>0.260</td>\n      <td>12.689</td>\n      <td>73.220</td>\n      <td>73.220</td>\n      <td>2668.0</td>\n      <td>A</td>\n      <td>7380.0</td>\n    </tr>\n    <tr>\n      <th>4</th>\n      <td>1019</td>\n      <td>31DEC2018</td>\n      <td>2018</td>\n      <td>INDL</td>\n      <td>C</td>\n      <td>D</td>\n      <td>STD</td>\n      <td>AFAP</td>\n      <td>AFA PROTECTIVE SYSTEMS INC</td>\n      <td>USD</td>\n      <td>...</td>\n      <td>NaN</td>\n      <td>19.536</td>\n      <td>24.826</td>\n      <td>1.101</td>\n      <td>16.316</td>\n      <td>77.742</td>\n      <td>77.742</td>\n      <td>2668.0</td>\n      <td>A</td>\n      <td>7380.0</td>\n    </tr>\n    <tr>\n      <th>...</th>\n      <td>...</td>\n      <td>...</td>\n      <td>...</td>\n      <td>...</td>\n      <td>...</td>\n      <td>...</td>\n      <td>...</td>\n      <td>...</td>\n      <td>...</td>\n      <td>...</td>\n      <td>...</td>\n      <td>...</td>\n      <td>...</td>\n      <td>...</td>\n      <td>...</td>\n      <td>...</td>\n      <td>...</td>\n      <td>...</td>\n      <td>...</td>\n      <td>...</td>\n      <td>...</td>\n    </tr>\n    <tr>\n      <th>28036</th>\n      <td>347085</td>\n      <td>28FEB2019</td>\n      <td>2018</td>\n      <td>INDL</td>\n      <td>C</td>\n      <td>D</td>\n      <td>STD</td>\n      <td>KARO</td>\n      <td>KAROOOOO LTD</td>\n      <td>USD</td>\n      <td>...</td>\n      <td>0.908</td>\n      <td>26.334</td>\n      <td>49.180</td>\n      <td>16.851</td>\n      <td>15.349</td>\n      <td>120.390</td>\n      <td>120.390</td>\n      <td>1828102.0</td>\n      <td>A</td>\n      <td>7370.0</td>\n    </tr>\n    <tr>\n      <th>28037</th>\n      <td>348892</td>\n      <td>31DEC2019</td>\n      <td>2019</td>\n      <td>INDL</td>\n      <td>C</td>\n      <td>D</td>\n      <td>STD</td>\n      <td>STKH</td>\n      <td>STEAKHOLDER FOODS LTD</td>\n      <td>USD</td>\n      <td>...</td>\n      <td>NaN</td>\n      <td>NaN</td>\n      <td>NaN</td>\n      <td>NaN</td>\n      <td>NaN</td>\n      <td>NaN</td>\n      <td>NaN</td>\n      <td>1828098.0</td>\n      <td>A</td>\n      <td>3550.0</td>\n    </tr>\n    <tr>\n      <th>28038</th>\n      <td>351038</td>\n      <td>31DEC2019</td>\n      <td>2019</td>\n      <td>INDL</td>\n      <td>C</td>\n      <td>D</td>\n      <td>STD</td>\n      <td>QNRX</td>\n      <td>CELLECT BIOTECHNOLOGY LTD</td>\n      <td>USD</td>\n      <td>...</td>\n      <td>NaN</td>\n      <td>NaN</td>\n      <td>NaN</td>\n      <td>NaN</td>\n      <td>NaN</td>\n      <td>NaN</td>\n      <td>NaN</td>\n      <td>1671502.0</td>\n      <td>A</td>\n      <td>2834.0</td>\n    </tr>\n    <tr>\n      <th>28039</th>\n      <td>351491</td>\n      <td>31DEC2019</td>\n      <td>2019</td>\n      <td>INDL</td>\n      <td>C</td>\n      <td>D</td>\n      <td>STD</td>\n      <td>IVCGF</td>\n      <td>IVECO GROUP N V</td>\n      <td>USD</td>\n      <td>...</td>\n      <td>349.000</td>\n      <td>12588.000</td>\n      <td>14797.000</td>\n      <td>94.000</td>\n      <td>8114.000</td>\n      <td>13408.000</td>\n      <td>13408.000</td>\n      <td>NaN</td>\n      <td>A</td>\n      <td>3711.0</td>\n    </tr>\n    <tr>\n      <th>28040</th>\n      <td>351590</td>\n      <td>31DEC2019</td>\n      <td>2019</td>\n      <td>INDL</td>\n      <td>C</td>\n      <td>D</td>\n      <td>STD</td>\n      <td>DTRUY</td>\n      <td>DAIMLER TRUCK HOLDING AG</td>\n      <td>USD</td>\n      <td>...</td>\n      <td>1896.489</td>\n      <td>25164.947</td>\n      <td>50522.908</td>\n      <td>1942.498</td>\n      <td>15167.421</td>\n      <td>51894.216</td>\n      <td>51894.216</td>\n      <td>1890567.0</td>\n      <td>A</td>\n      <td>3713.0</td>\n    </tr>\n  </tbody>\n</table>\n<p>28041 rows × 26 columns</p>\n</div>"
     },
     "execution_count": 181,
     "metadata": {},
     "output_type": "execute_result"
    }
   ],
   "source": [
    "# Enter your code in this cell\n",
    "compustat: pd.DataFrame = pd.read_csv(filepath_or_buffer=\"data/Compustat.txt\", sep=\"\\t\")\n",
    "compustat"
   ]
  },
  {
   "cell_type": "markdown",
   "metadata": {},
   "source": [
    "#### Problem 2.2 - Drop unneeded columns (2 points)"
   ]
  },
  {
   "cell_type": "markdown",
   "metadata": {},
   "source": [
    "The data contains many extraneous columns. Drop the columns `INDFMT`, `CONSOL`, `POPSRC`, `DATAFMT`, `CURCD`, and `COSTAT`."
   ]
  },
  {
   "cell_type": "code",
   "execution_count": 182,
   "metadata": {},
   "outputs": [
    {
     "data": {
      "text/plain": "        GVKEY   DATADATE  FYEAR    TIC                        CONM  FYR  \\\n0        1004  31MAY2017   2016    AIR                    AAR CORP    5   \n1        1004  31MAY2018   2017    AIR                    AAR CORP    5   \n2        1004  31MAY2019   2018    AIR                    AAR CORP    5   \n3        1019  31DEC2017   2017   AFAP  AFA PROTECTIVE SYSTEMS INC   12   \n4        1019  31DEC2018   2018   AFAP  AFA PROTECTIVE SYSTEMS INC   12   \n...       ...        ...    ...    ...                         ...  ...   \n28036  347085  28FEB2019   2018   KARO                KAROOOOO LTD    2   \n28037  348892  31DEC2019   2019   STKH       STEAKHOLDER FOODS LTD   12   \n28038  351038  31DEC2019   2019   QNRX   CELLECT BIOTECHNOLOGY LTD   12   \n28039  351491  31DEC2019   2019  IVCGF             IVECO GROUP N V   12   \n28040  351590  31DEC2019   2019  DTRUY    DAIMLER TRUCK HOLDING AG   12   \n\n             ACT         AT        CEQ        IB      INVT    INVWIP  \\\n0        888.500   1504.100    914.200    50.200   601.100    25.800   \n1        942.700   1524.700    936.300    73.700   547.900    32.100   \n2        952.500   1517.200    905.900    84.100   589.000    14.000   \n3         19.724     30.485      8.183     0.260     4.860       NaN   \n4         23.793     34.031      9.205     1.101     5.026       NaN   \n...          ...        ...        ...       ...       ...       ...   \n28036     34.196    108.754     43.983    16.851    14.653     0.908   \n28037        NaN        NaN        NaN       NaN       NaN       NaN   \n28038        NaN        NaN        NaN       NaN       NaN       NaN   \n28039  11570.000  17847.000   3007.000    94.000  2913.000   349.000   \n28040  31890.187  62131.888  11054.622  1942.498  8473.601  1896.489   \n\n             LCT         LT        NI       RECT       REVT       SALE  \\\n0        335.100    589.900    56.500    251.400   1767.600   1767.600   \n1        333.300    588.400    15.600    203.000   1748.300   1748.300   \n2        357.500    611.300     7.500    258.100   2051.800   2051.800   \n3         16.338     22.302     0.260     12.689     73.220     73.220   \n4         19.536     24.826     1.101     16.316     77.742     77.742   \n...          ...        ...       ...        ...        ...        ...   \n28036     26.334     49.180    16.851     15.349    120.390    120.390   \n28037        NaN        NaN       NaN        NaN        NaN        NaN   \n28038        NaN        NaN       NaN        NaN        NaN        NaN   \n28039  12588.000  14797.000    94.000   8114.000  13408.000  13408.000   \n28040  25164.947  50522.908  1942.498  15167.421  51894.216  51894.216   \n\n             CIK     SIC  \n0         1750.0  5080.0  \n1         1750.0  5080.0  \n2         1750.0  5080.0  \n3         2668.0  7380.0  \n4         2668.0  7380.0  \n...          ...     ...  \n28036  1828102.0  7370.0  \n28037  1828098.0  3550.0  \n28038  1671502.0  2834.0  \n28039        NaN  3711.0  \n28040  1890567.0  3713.0  \n\n[28041 rows x 20 columns]",
      "text/html": "<div>\n<style scoped>\n    .dataframe tbody tr th:only-of-type {\n        vertical-align: middle;\n    }\n\n    .dataframe tbody tr th {\n        vertical-align: top;\n    }\n\n    .dataframe thead th {\n        text-align: right;\n    }\n</style>\n<table border=\"1\" class=\"dataframe\">\n  <thead>\n    <tr style=\"text-align: right;\">\n      <th></th>\n      <th>GVKEY</th>\n      <th>DATADATE</th>\n      <th>FYEAR</th>\n      <th>TIC</th>\n      <th>CONM</th>\n      <th>FYR</th>\n      <th>ACT</th>\n      <th>AT</th>\n      <th>CEQ</th>\n      <th>IB</th>\n      <th>INVT</th>\n      <th>INVWIP</th>\n      <th>LCT</th>\n      <th>LT</th>\n      <th>NI</th>\n      <th>RECT</th>\n      <th>REVT</th>\n      <th>SALE</th>\n      <th>CIK</th>\n      <th>SIC</th>\n    </tr>\n  </thead>\n  <tbody>\n    <tr>\n      <th>0</th>\n      <td>1004</td>\n      <td>31MAY2017</td>\n      <td>2016</td>\n      <td>AIR</td>\n      <td>AAR CORP</td>\n      <td>5</td>\n      <td>888.500</td>\n      <td>1504.100</td>\n      <td>914.200</td>\n      <td>50.200</td>\n      <td>601.100</td>\n      <td>25.800</td>\n      <td>335.100</td>\n      <td>589.900</td>\n      <td>56.500</td>\n      <td>251.400</td>\n      <td>1767.600</td>\n      <td>1767.600</td>\n      <td>1750.0</td>\n      <td>5080.0</td>\n    </tr>\n    <tr>\n      <th>1</th>\n      <td>1004</td>\n      <td>31MAY2018</td>\n      <td>2017</td>\n      <td>AIR</td>\n      <td>AAR CORP</td>\n      <td>5</td>\n      <td>942.700</td>\n      <td>1524.700</td>\n      <td>936.300</td>\n      <td>73.700</td>\n      <td>547.900</td>\n      <td>32.100</td>\n      <td>333.300</td>\n      <td>588.400</td>\n      <td>15.600</td>\n      <td>203.000</td>\n      <td>1748.300</td>\n      <td>1748.300</td>\n      <td>1750.0</td>\n      <td>5080.0</td>\n    </tr>\n    <tr>\n      <th>2</th>\n      <td>1004</td>\n      <td>31MAY2019</td>\n      <td>2018</td>\n      <td>AIR</td>\n      <td>AAR CORP</td>\n      <td>5</td>\n      <td>952.500</td>\n      <td>1517.200</td>\n      <td>905.900</td>\n      <td>84.100</td>\n      <td>589.000</td>\n      <td>14.000</td>\n      <td>357.500</td>\n      <td>611.300</td>\n      <td>7.500</td>\n      <td>258.100</td>\n      <td>2051.800</td>\n      <td>2051.800</td>\n      <td>1750.0</td>\n      <td>5080.0</td>\n    </tr>\n    <tr>\n      <th>3</th>\n      <td>1019</td>\n      <td>31DEC2017</td>\n      <td>2017</td>\n      <td>AFAP</td>\n      <td>AFA PROTECTIVE SYSTEMS INC</td>\n      <td>12</td>\n      <td>19.724</td>\n      <td>30.485</td>\n      <td>8.183</td>\n      <td>0.260</td>\n      <td>4.860</td>\n      <td>NaN</td>\n      <td>16.338</td>\n      <td>22.302</td>\n      <td>0.260</td>\n      <td>12.689</td>\n      <td>73.220</td>\n      <td>73.220</td>\n      <td>2668.0</td>\n      <td>7380.0</td>\n    </tr>\n    <tr>\n      <th>4</th>\n      <td>1019</td>\n      <td>31DEC2018</td>\n      <td>2018</td>\n      <td>AFAP</td>\n      <td>AFA PROTECTIVE SYSTEMS INC</td>\n      <td>12</td>\n      <td>23.793</td>\n      <td>34.031</td>\n      <td>9.205</td>\n      <td>1.101</td>\n      <td>5.026</td>\n      <td>NaN</td>\n      <td>19.536</td>\n      <td>24.826</td>\n      <td>1.101</td>\n      <td>16.316</td>\n      <td>77.742</td>\n      <td>77.742</td>\n      <td>2668.0</td>\n      <td>7380.0</td>\n    </tr>\n    <tr>\n      <th>...</th>\n      <td>...</td>\n      <td>...</td>\n      <td>...</td>\n      <td>...</td>\n      <td>...</td>\n      <td>...</td>\n      <td>...</td>\n      <td>...</td>\n      <td>...</td>\n      <td>...</td>\n      <td>...</td>\n      <td>...</td>\n      <td>...</td>\n      <td>...</td>\n      <td>...</td>\n      <td>...</td>\n      <td>...</td>\n      <td>...</td>\n      <td>...</td>\n      <td>...</td>\n    </tr>\n    <tr>\n      <th>28036</th>\n      <td>347085</td>\n      <td>28FEB2019</td>\n      <td>2018</td>\n      <td>KARO</td>\n      <td>KAROOOOO LTD</td>\n      <td>2</td>\n      <td>34.196</td>\n      <td>108.754</td>\n      <td>43.983</td>\n      <td>16.851</td>\n      <td>14.653</td>\n      <td>0.908</td>\n      <td>26.334</td>\n      <td>49.180</td>\n      <td>16.851</td>\n      <td>15.349</td>\n      <td>120.390</td>\n      <td>120.390</td>\n      <td>1828102.0</td>\n      <td>7370.0</td>\n    </tr>\n    <tr>\n      <th>28037</th>\n      <td>348892</td>\n      <td>31DEC2019</td>\n      <td>2019</td>\n      <td>STKH</td>\n      <td>STEAKHOLDER FOODS LTD</td>\n      <td>12</td>\n      <td>NaN</td>\n      <td>NaN</td>\n      <td>NaN</td>\n      <td>NaN</td>\n      <td>NaN</td>\n      <td>NaN</td>\n      <td>NaN</td>\n      <td>NaN</td>\n      <td>NaN</td>\n      <td>NaN</td>\n      <td>NaN</td>\n      <td>NaN</td>\n      <td>1828098.0</td>\n      <td>3550.0</td>\n    </tr>\n    <tr>\n      <th>28038</th>\n      <td>351038</td>\n      <td>31DEC2019</td>\n      <td>2019</td>\n      <td>QNRX</td>\n      <td>CELLECT BIOTECHNOLOGY LTD</td>\n      <td>12</td>\n      <td>NaN</td>\n      <td>NaN</td>\n      <td>NaN</td>\n      <td>NaN</td>\n      <td>NaN</td>\n      <td>NaN</td>\n      <td>NaN</td>\n      <td>NaN</td>\n      <td>NaN</td>\n      <td>NaN</td>\n      <td>NaN</td>\n      <td>NaN</td>\n      <td>1671502.0</td>\n      <td>2834.0</td>\n    </tr>\n    <tr>\n      <th>28039</th>\n      <td>351491</td>\n      <td>31DEC2019</td>\n      <td>2019</td>\n      <td>IVCGF</td>\n      <td>IVECO GROUP N V</td>\n      <td>12</td>\n      <td>11570.000</td>\n      <td>17847.000</td>\n      <td>3007.000</td>\n      <td>94.000</td>\n      <td>2913.000</td>\n      <td>349.000</td>\n      <td>12588.000</td>\n      <td>14797.000</td>\n      <td>94.000</td>\n      <td>8114.000</td>\n      <td>13408.000</td>\n      <td>13408.000</td>\n      <td>NaN</td>\n      <td>3711.0</td>\n    </tr>\n    <tr>\n      <th>28040</th>\n      <td>351590</td>\n      <td>31DEC2019</td>\n      <td>2019</td>\n      <td>DTRUY</td>\n      <td>DAIMLER TRUCK HOLDING AG</td>\n      <td>12</td>\n      <td>31890.187</td>\n      <td>62131.888</td>\n      <td>11054.622</td>\n      <td>1942.498</td>\n      <td>8473.601</td>\n      <td>1896.489</td>\n      <td>25164.947</td>\n      <td>50522.908</td>\n      <td>1942.498</td>\n      <td>15167.421</td>\n      <td>51894.216</td>\n      <td>51894.216</td>\n      <td>1890567.0</td>\n      <td>3713.0</td>\n    </tr>\n  </tbody>\n</table>\n<p>28041 rows × 20 columns</p>\n</div>"
     },
     "execution_count": 182,
     "metadata": {},
     "output_type": "execute_result"
    }
   ],
   "source": [
    "# Enter your code in this cell\n",
    "compustat.drop(labels=[\"INDFMT\", \"CONSOL\", \"POPSRC\", \"DATAFMT\", \"CURCD\", \"COSTAT\"], axis=1, inplace=True)\n",
    "compustat"
   ]
  },
  {
   "cell_type": "markdown",
   "metadata": {},
   "source": [
    "#### Problem 2.3 - Filter to 2018 fiscal year (2 points)"
   ]
  },
  {
   "cell_type": "markdown",
   "metadata": {},
   "source": [
    "The Compustat data file contains multiple fiscal years (you may check if you wish). Since we will eventually merge Compustat with Audit Analytics, we only want 2018 Compustat data. Therefore, filter the Compustat dataset so it only contains data for fiscal year 2018."
   ]
  },
  {
   "cell_type": "code",
   "execution_count": 183,
   "metadata": {},
   "outputs": [
    {
     "data": {
      "text/plain": "        GVKEY   DATADATE  FYEAR    TIC                          CONM  FYR  \\\n2        1004  31MAY2019   2018    AIR                      AAR CORP    5   \n4        1019  31DEC2018   2018   AFAP    AFA PROTECTIVE SYSTEMS INC   12   \n7        1045  31DEC2018   2018    AAL   AMERICAN AIRLINES GROUP INC   12   \n10       1050  31DEC2018   2018   CECO       CECO ENVIRONMENTAL CORP   12   \n13       1062  30NOV2018   2018    ASA  ASA GOLD AND PRECIOUS METALS   11   \n...       ...        ...    ...    ...                           ...  ...   \n28026  335466  31DEC2018   2018  HOFSQ   HERMITAGE OFFSHORE SERVICES   12   \n28028  339965  31JAN2019   2018   SNOW                 SNOWFLAKE INC    1   \n28030  345920  31DEC2018   2018   HYFM        HYDROFARM HLDNG GP INC   12   \n28033  345980  31DEC2018   2018   WISH              CONTEXTLOGIC INC   12   \n28036  347085  28FEB2019   2018   KARO                  KAROOOOO LTD    2   \n\n            ACT         AT       CEQ        IB      INVT  INVWIP        LCT  \\\n2       952.500   1517.200   905.900    84.100   589.000  14.000    357.500   \n4        23.793     34.031     9.205     1.101     5.026     NaN     19.536   \n7      8637.000  60580.000  -169.000  1412.000  1522.000     NaN  18096.000   \n10      160.865    392.582   178.560    -7.121    50.511  35.792    103.886   \n13          NaN    196.072   194.834   -48.789     0.000   0.000        NaN   \n...         ...        ...       ...       ...       ...     ...        ...   \n28026    14.160    191.074    54.064  -197.294     1.181     NaN      4.482   \n28028   698.952    764.288  -312.467  -178.028     0.000   0.000    144.905   \n28030   100.592    174.411    47.544   -32.892    53.200   0.000     43.864   \n28033  1104.000   1193.000 -1287.000  -208.000     0.000   0.000    970.000   \n28036    34.196    108.754    43.983    16.851    14.653   0.908     26.334   \n\n              LT        NI      RECT       REVT       SALE        CIK     SIC  \n2        611.300     7.500   258.100   2051.800   2051.800     1750.0  5080.0  \n4         24.826     1.101    16.316     77.742     77.742     2668.0  7380.0  \n7      60749.000  1412.000  1706.000  44541.000  44541.000     6201.0  4512.0  \n10       214.022    -7.121    53.225    337.339    337.339     3197.0  3564.0  \n13         1.238   -48.789     0.103      1.629      1.629  1230869.0  6799.0  \n...          ...       ...       ...        ...        ...        ...     ...  \n28026    137.010  -197.294     2.602     20.654     20.654  1597659.0     NaN  \n28028    165.902  -178.028    63.359     96.666     96.666  1640147.0  7370.0  \n28030    126.867   -32.892    17.566    211.813    211.813  1695295.0  3524.0  \n28033   1104.000  -208.000    93.000   1728.000   1728.000  1822250.0  5961.0  \n28036     49.180    16.851    15.349    120.390    120.390  1828102.0  7370.0  \n\n[9291 rows x 20 columns]",
      "text/html": "<div>\n<style scoped>\n    .dataframe tbody tr th:only-of-type {\n        vertical-align: middle;\n    }\n\n    .dataframe tbody tr th {\n        vertical-align: top;\n    }\n\n    .dataframe thead th {\n        text-align: right;\n    }\n</style>\n<table border=\"1\" class=\"dataframe\">\n  <thead>\n    <tr style=\"text-align: right;\">\n      <th></th>\n      <th>GVKEY</th>\n      <th>DATADATE</th>\n      <th>FYEAR</th>\n      <th>TIC</th>\n      <th>CONM</th>\n      <th>FYR</th>\n      <th>ACT</th>\n      <th>AT</th>\n      <th>CEQ</th>\n      <th>IB</th>\n      <th>INVT</th>\n      <th>INVWIP</th>\n      <th>LCT</th>\n      <th>LT</th>\n      <th>NI</th>\n      <th>RECT</th>\n      <th>REVT</th>\n      <th>SALE</th>\n      <th>CIK</th>\n      <th>SIC</th>\n    </tr>\n  </thead>\n  <tbody>\n    <tr>\n      <th>2</th>\n      <td>1004</td>\n      <td>31MAY2019</td>\n      <td>2018</td>\n      <td>AIR</td>\n      <td>AAR CORP</td>\n      <td>5</td>\n      <td>952.500</td>\n      <td>1517.200</td>\n      <td>905.900</td>\n      <td>84.100</td>\n      <td>589.000</td>\n      <td>14.000</td>\n      <td>357.500</td>\n      <td>611.300</td>\n      <td>7.500</td>\n      <td>258.100</td>\n      <td>2051.800</td>\n      <td>2051.800</td>\n      <td>1750.0</td>\n      <td>5080.0</td>\n    </tr>\n    <tr>\n      <th>4</th>\n      <td>1019</td>\n      <td>31DEC2018</td>\n      <td>2018</td>\n      <td>AFAP</td>\n      <td>AFA PROTECTIVE SYSTEMS INC</td>\n      <td>12</td>\n      <td>23.793</td>\n      <td>34.031</td>\n      <td>9.205</td>\n      <td>1.101</td>\n      <td>5.026</td>\n      <td>NaN</td>\n      <td>19.536</td>\n      <td>24.826</td>\n      <td>1.101</td>\n      <td>16.316</td>\n      <td>77.742</td>\n      <td>77.742</td>\n      <td>2668.0</td>\n      <td>7380.0</td>\n    </tr>\n    <tr>\n      <th>7</th>\n      <td>1045</td>\n      <td>31DEC2018</td>\n      <td>2018</td>\n      <td>AAL</td>\n      <td>AMERICAN AIRLINES GROUP INC</td>\n      <td>12</td>\n      <td>8637.000</td>\n      <td>60580.000</td>\n      <td>-169.000</td>\n      <td>1412.000</td>\n      <td>1522.000</td>\n      <td>NaN</td>\n      <td>18096.000</td>\n      <td>60749.000</td>\n      <td>1412.000</td>\n      <td>1706.000</td>\n      <td>44541.000</td>\n      <td>44541.000</td>\n      <td>6201.0</td>\n      <td>4512.0</td>\n    </tr>\n    <tr>\n      <th>10</th>\n      <td>1050</td>\n      <td>31DEC2018</td>\n      <td>2018</td>\n      <td>CECO</td>\n      <td>CECO ENVIRONMENTAL CORP</td>\n      <td>12</td>\n      <td>160.865</td>\n      <td>392.582</td>\n      <td>178.560</td>\n      <td>-7.121</td>\n      <td>50.511</td>\n      <td>35.792</td>\n      <td>103.886</td>\n      <td>214.022</td>\n      <td>-7.121</td>\n      <td>53.225</td>\n      <td>337.339</td>\n      <td>337.339</td>\n      <td>3197.0</td>\n      <td>3564.0</td>\n    </tr>\n    <tr>\n      <th>13</th>\n      <td>1062</td>\n      <td>30NOV2018</td>\n      <td>2018</td>\n      <td>ASA</td>\n      <td>ASA GOLD AND PRECIOUS METALS</td>\n      <td>11</td>\n      <td>NaN</td>\n      <td>196.072</td>\n      <td>194.834</td>\n      <td>-48.789</td>\n      <td>0.000</td>\n      <td>0.000</td>\n      <td>NaN</td>\n      <td>1.238</td>\n      <td>-48.789</td>\n      <td>0.103</td>\n      <td>1.629</td>\n      <td>1.629</td>\n      <td>1230869.0</td>\n      <td>6799.0</td>\n    </tr>\n    <tr>\n      <th>...</th>\n      <td>...</td>\n      <td>...</td>\n      <td>...</td>\n      <td>...</td>\n      <td>...</td>\n      <td>...</td>\n      <td>...</td>\n      <td>...</td>\n      <td>...</td>\n      <td>...</td>\n      <td>...</td>\n      <td>...</td>\n      <td>...</td>\n      <td>...</td>\n      <td>...</td>\n      <td>...</td>\n      <td>...</td>\n      <td>...</td>\n      <td>...</td>\n      <td>...</td>\n    </tr>\n    <tr>\n      <th>28026</th>\n      <td>335466</td>\n      <td>31DEC2018</td>\n      <td>2018</td>\n      <td>HOFSQ</td>\n      <td>HERMITAGE OFFSHORE SERVICES</td>\n      <td>12</td>\n      <td>14.160</td>\n      <td>191.074</td>\n      <td>54.064</td>\n      <td>-197.294</td>\n      <td>1.181</td>\n      <td>NaN</td>\n      <td>4.482</td>\n      <td>137.010</td>\n      <td>-197.294</td>\n      <td>2.602</td>\n      <td>20.654</td>\n      <td>20.654</td>\n      <td>1597659.0</td>\n      <td>NaN</td>\n    </tr>\n    <tr>\n      <th>28028</th>\n      <td>339965</td>\n      <td>31JAN2019</td>\n      <td>2018</td>\n      <td>SNOW</td>\n      <td>SNOWFLAKE INC</td>\n      <td>1</td>\n      <td>698.952</td>\n      <td>764.288</td>\n      <td>-312.467</td>\n      <td>-178.028</td>\n      <td>0.000</td>\n      <td>0.000</td>\n      <td>144.905</td>\n      <td>165.902</td>\n      <td>-178.028</td>\n      <td>63.359</td>\n      <td>96.666</td>\n      <td>96.666</td>\n      <td>1640147.0</td>\n      <td>7370.0</td>\n    </tr>\n    <tr>\n      <th>28030</th>\n      <td>345920</td>\n      <td>31DEC2018</td>\n      <td>2018</td>\n      <td>HYFM</td>\n      <td>HYDROFARM HLDNG GP INC</td>\n      <td>12</td>\n      <td>100.592</td>\n      <td>174.411</td>\n      <td>47.544</td>\n      <td>-32.892</td>\n      <td>53.200</td>\n      <td>0.000</td>\n      <td>43.864</td>\n      <td>126.867</td>\n      <td>-32.892</td>\n      <td>17.566</td>\n      <td>211.813</td>\n      <td>211.813</td>\n      <td>1695295.0</td>\n      <td>3524.0</td>\n    </tr>\n    <tr>\n      <th>28033</th>\n      <td>345980</td>\n      <td>31DEC2018</td>\n      <td>2018</td>\n      <td>WISH</td>\n      <td>CONTEXTLOGIC INC</td>\n      <td>12</td>\n      <td>1104.000</td>\n      <td>1193.000</td>\n      <td>-1287.000</td>\n      <td>-208.000</td>\n      <td>0.000</td>\n      <td>0.000</td>\n      <td>970.000</td>\n      <td>1104.000</td>\n      <td>-208.000</td>\n      <td>93.000</td>\n      <td>1728.000</td>\n      <td>1728.000</td>\n      <td>1822250.0</td>\n      <td>5961.0</td>\n    </tr>\n    <tr>\n      <th>28036</th>\n      <td>347085</td>\n      <td>28FEB2019</td>\n      <td>2018</td>\n      <td>KARO</td>\n      <td>KAROOOOO LTD</td>\n      <td>2</td>\n      <td>34.196</td>\n      <td>108.754</td>\n      <td>43.983</td>\n      <td>16.851</td>\n      <td>14.653</td>\n      <td>0.908</td>\n      <td>26.334</td>\n      <td>49.180</td>\n      <td>16.851</td>\n      <td>15.349</td>\n      <td>120.390</td>\n      <td>120.390</td>\n      <td>1828102.0</td>\n      <td>7370.0</td>\n    </tr>\n  </tbody>\n</table>\n<p>9291 rows × 20 columns</p>\n</div>"
     },
     "execution_count": 183,
     "metadata": {},
     "output_type": "execute_result"
    }
   ],
   "source": [
    "# Enter your code in this cell\n",
    "compustat.drop(index=compustat[compustat.FYEAR!=2018].index, inplace=True)\n",
    "compustat"
   ]
  },
  {
   "cell_type": "markdown",
   "metadata": {},
   "source": [
    "After the filter, make a copy of your data frame by modifying and running the code cell below. For example, if your data frame is named `df`, run the command `df = df.copy()`. Don't worry about why. Just trust us."
   ]
  },
  {
   "cell_type": "code",
   "execution_count": 184,
   "metadata": {},
   "outputs": [],
   "source": [
    "compustat = compustat.copy()"
   ]
  },
  {
   "cell_type": "markdown",
   "metadata": {},
   "source": [
    "#### Problem 2.4 - Date conversion (2 points)"
   ]
  },
  {
   "cell_type": "markdown",
   "metadata": {},
   "source": [
    "We might need to use the `DATADATE` field later, but it is currently stored as a string. Convert the column to valid Pandas dates."
   ]
  },
  {
   "cell_type": "code",
   "execution_count": 185,
   "metadata": {},
   "outputs": [
    {
     "data": {
      "text/plain": "        GVKEY   DATADATE  FYEAR    TIC                          CONM  FYR  \\\n2        1004 2019-05-31   2018    AIR                      AAR CORP    5   \n4        1019 2018-12-31   2018   AFAP    AFA PROTECTIVE SYSTEMS INC   12   \n7        1045 2018-12-31   2018    AAL   AMERICAN AIRLINES GROUP INC   12   \n10       1050 2018-12-31   2018   CECO       CECO ENVIRONMENTAL CORP   12   \n13       1062 2018-11-30   2018    ASA  ASA GOLD AND PRECIOUS METALS   11   \n...       ...        ...    ...    ...                           ...  ...   \n28026  335466 2018-12-31   2018  HOFSQ   HERMITAGE OFFSHORE SERVICES   12   \n28028  339965 2019-01-31   2018   SNOW                 SNOWFLAKE INC    1   \n28030  345920 2018-12-31   2018   HYFM        HYDROFARM HLDNG GP INC   12   \n28033  345980 2018-12-31   2018   WISH              CONTEXTLOGIC INC   12   \n28036  347085 2019-02-28   2018   KARO                  KAROOOOO LTD    2   \n\n            ACT         AT       CEQ        IB      INVT  INVWIP        LCT  \\\n2       952.500   1517.200   905.900    84.100   589.000  14.000    357.500   \n4        23.793     34.031     9.205     1.101     5.026     NaN     19.536   \n7      8637.000  60580.000  -169.000  1412.000  1522.000     NaN  18096.000   \n10      160.865    392.582   178.560    -7.121    50.511  35.792    103.886   \n13          NaN    196.072   194.834   -48.789     0.000   0.000        NaN   \n...         ...        ...       ...       ...       ...     ...        ...   \n28026    14.160    191.074    54.064  -197.294     1.181     NaN      4.482   \n28028   698.952    764.288  -312.467  -178.028     0.000   0.000    144.905   \n28030   100.592    174.411    47.544   -32.892    53.200   0.000     43.864   \n28033  1104.000   1193.000 -1287.000  -208.000     0.000   0.000    970.000   \n28036    34.196    108.754    43.983    16.851    14.653   0.908     26.334   \n\n              LT        NI      RECT       REVT       SALE        CIK     SIC  \n2        611.300     7.500   258.100   2051.800   2051.800     1750.0  5080.0  \n4         24.826     1.101    16.316     77.742     77.742     2668.0  7380.0  \n7      60749.000  1412.000  1706.000  44541.000  44541.000     6201.0  4512.0  \n10       214.022    -7.121    53.225    337.339    337.339     3197.0  3564.0  \n13         1.238   -48.789     0.103      1.629      1.629  1230869.0  6799.0  \n...          ...       ...       ...        ...        ...        ...     ...  \n28026    137.010  -197.294     2.602     20.654     20.654  1597659.0     NaN  \n28028    165.902  -178.028    63.359     96.666     96.666  1640147.0  7370.0  \n28030    126.867   -32.892    17.566    211.813    211.813  1695295.0  3524.0  \n28033   1104.000  -208.000    93.000   1728.000   1728.000  1822250.0  5961.0  \n28036     49.180    16.851    15.349    120.390    120.390  1828102.0  7370.0  \n\n[9291 rows x 20 columns]",
      "text/html": "<div>\n<style scoped>\n    .dataframe tbody tr th:only-of-type {\n        vertical-align: middle;\n    }\n\n    .dataframe tbody tr th {\n        vertical-align: top;\n    }\n\n    .dataframe thead th {\n        text-align: right;\n    }\n</style>\n<table border=\"1\" class=\"dataframe\">\n  <thead>\n    <tr style=\"text-align: right;\">\n      <th></th>\n      <th>GVKEY</th>\n      <th>DATADATE</th>\n      <th>FYEAR</th>\n      <th>TIC</th>\n      <th>CONM</th>\n      <th>FYR</th>\n      <th>ACT</th>\n      <th>AT</th>\n      <th>CEQ</th>\n      <th>IB</th>\n      <th>INVT</th>\n      <th>INVWIP</th>\n      <th>LCT</th>\n      <th>LT</th>\n      <th>NI</th>\n      <th>RECT</th>\n      <th>REVT</th>\n      <th>SALE</th>\n      <th>CIK</th>\n      <th>SIC</th>\n    </tr>\n  </thead>\n  <tbody>\n    <tr>\n      <th>2</th>\n      <td>1004</td>\n      <td>2019-05-31</td>\n      <td>2018</td>\n      <td>AIR</td>\n      <td>AAR CORP</td>\n      <td>5</td>\n      <td>952.500</td>\n      <td>1517.200</td>\n      <td>905.900</td>\n      <td>84.100</td>\n      <td>589.000</td>\n      <td>14.000</td>\n      <td>357.500</td>\n      <td>611.300</td>\n      <td>7.500</td>\n      <td>258.100</td>\n      <td>2051.800</td>\n      <td>2051.800</td>\n      <td>1750.0</td>\n      <td>5080.0</td>\n    </tr>\n    <tr>\n      <th>4</th>\n      <td>1019</td>\n      <td>2018-12-31</td>\n      <td>2018</td>\n      <td>AFAP</td>\n      <td>AFA PROTECTIVE SYSTEMS INC</td>\n      <td>12</td>\n      <td>23.793</td>\n      <td>34.031</td>\n      <td>9.205</td>\n      <td>1.101</td>\n      <td>5.026</td>\n      <td>NaN</td>\n      <td>19.536</td>\n      <td>24.826</td>\n      <td>1.101</td>\n      <td>16.316</td>\n      <td>77.742</td>\n      <td>77.742</td>\n      <td>2668.0</td>\n      <td>7380.0</td>\n    </tr>\n    <tr>\n      <th>7</th>\n      <td>1045</td>\n      <td>2018-12-31</td>\n      <td>2018</td>\n      <td>AAL</td>\n      <td>AMERICAN AIRLINES GROUP INC</td>\n      <td>12</td>\n      <td>8637.000</td>\n      <td>60580.000</td>\n      <td>-169.000</td>\n      <td>1412.000</td>\n      <td>1522.000</td>\n      <td>NaN</td>\n      <td>18096.000</td>\n      <td>60749.000</td>\n      <td>1412.000</td>\n      <td>1706.000</td>\n      <td>44541.000</td>\n      <td>44541.000</td>\n      <td>6201.0</td>\n      <td>4512.0</td>\n    </tr>\n    <tr>\n      <th>10</th>\n      <td>1050</td>\n      <td>2018-12-31</td>\n      <td>2018</td>\n      <td>CECO</td>\n      <td>CECO ENVIRONMENTAL CORP</td>\n      <td>12</td>\n      <td>160.865</td>\n      <td>392.582</td>\n      <td>178.560</td>\n      <td>-7.121</td>\n      <td>50.511</td>\n      <td>35.792</td>\n      <td>103.886</td>\n      <td>214.022</td>\n      <td>-7.121</td>\n      <td>53.225</td>\n      <td>337.339</td>\n      <td>337.339</td>\n      <td>3197.0</td>\n      <td>3564.0</td>\n    </tr>\n    <tr>\n      <th>13</th>\n      <td>1062</td>\n      <td>2018-11-30</td>\n      <td>2018</td>\n      <td>ASA</td>\n      <td>ASA GOLD AND PRECIOUS METALS</td>\n      <td>11</td>\n      <td>NaN</td>\n      <td>196.072</td>\n      <td>194.834</td>\n      <td>-48.789</td>\n      <td>0.000</td>\n      <td>0.000</td>\n      <td>NaN</td>\n      <td>1.238</td>\n      <td>-48.789</td>\n      <td>0.103</td>\n      <td>1.629</td>\n      <td>1.629</td>\n      <td>1230869.0</td>\n      <td>6799.0</td>\n    </tr>\n    <tr>\n      <th>...</th>\n      <td>...</td>\n      <td>...</td>\n      <td>...</td>\n      <td>...</td>\n      <td>...</td>\n      <td>...</td>\n      <td>...</td>\n      <td>...</td>\n      <td>...</td>\n      <td>...</td>\n      <td>...</td>\n      <td>...</td>\n      <td>...</td>\n      <td>...</td>\n      <td>...</td>\n      <td>...</td>\n      <td>...</td>\n      <td>...</td>\n      <td>...</td>\n      <td>...</td>\n    </tr>\n    <tr>\n      <th>28026</th>\n      <td>335466</td>\n      <td>2018-12-31</td>\n      <td>2018</td>\n      <td>HOFSQ</td>\n      <td>HERMITAGE OFFSHORE SERVICES</td>\n      <td>12</td>\n      <td>14.160</td>\n      <td>191.074</td>\n      <td>54.064</td>\n      <td>-197.294</td>\n      <td>1.181</td>\n      <td>NaN</td>\n      <td>4.482</td>\n      <td>137.010</td>\n      <td>-197.294</td>\n      <td>2.602</td>\n      <td>20.654</td>\n      <td>20.654</td>\n      <td>1597659.0</td>\n      <td>NaN</td>\n    </tr>\n    <tr>\n      <th>28028</th>\n      <td>339965</td>\n      <td>2019-01-31</td>\n      <td>2018</td>\n      <td>SNOW</td>\n      <td>SNOWFLAKE INC</td>\n      <td>1</td>\n      <td>698.952</td>\n      <td>764.288</td>\n      <td>-312.467</td>\n      <td>-178.028</td>\n      <td>0.000</td>\n      <td>0.000</td>\n      <td>144.905</td>\n      <td>165.902</td>\n      <td>-178.028</td>\n      <td>63.359</td>\n      <td>96.666</td>\n      <td>96.666</td>\n      <td>1640147.0</td>\n      <td>7370.0</td>\n    </tr>\n    <tr>\n      <th>28030</th>\n      <td>345920</td>\n      <td>2018-12-31</td>\n      <td>2018</td>\n      <td>HYFM</td>\n      <td>HYDROFARM HLDNG GP INC</td>\n      <td>12</td>\n      <td>100.592</td>\n      <td>174.411</td>\n      <td>47.544</td>\n      <td>-32.892</td>\n      <td>53.200</td>\n      <td>0.000</td>\n      <td>43.864</td>\n      <td>126.867</td>\n      <td>-32.892</td>\n      <td>17.566</td>\n      <td>211.813</td>\n      <td>211.813</td>\n      <td>1695295.0</td>\n      <td>3524.0</td>\n    </tr>\n    <tr>\n      <th>28033</th>\n      <td>345980</td>\n      <td>2018-12-31</td>\n      <td>2018</td>\n      <td>WISH</td>\n      <td>CONTEXTLOGIC INC</td>\n      <td>12</td>\n      <td>1104.000</td>\n      <td>1193.000</td>\n      <td>-1287.000</td>\n      <td>-208.000</td>\n      <td>0.000</td>\n      <td>0.000</td>\n      <td>970.000</td>\n      <td>1104.000</td>\n      <td>-208.000</td>\n      <td>93.000</td>\n      <td>1728.000</td>\n      <td>1728.000</td>\n      <td>1822250.0</td>\n      <td>5961.0</td>\n    </tr>\n    <tr>\n      <th>28036</th>\n      <td>347085</td>\n      <td>2019-02-28</td>\n      <td>2018</td>\n      <td>KARO</td>\n      <td>KAROOOOO LTD</td>\n      <td>2</td>\n      <td>34.196</td>\n      <td>108.754</td>\n      <td>43.983</td>\n      <td>16.851</td>\n      <td>14.653</td>\n      <td>0.908</td>\n      <td>26.334</td>\n      <td>49.180</td>\n      <td>16.851</td>\n      <td>15.349</td>\n      <td>120.390</td>\n      <td>120.390</td>\n      <td>1828102.0</td>\n      <td>7370.0</td>\n    </tr>\n  </tbody>\n</table>\n<p>9291 rows × 20 columns</p>\n</div>"
     },
     "execution_count": 185,
     "metadata": {},
     "output_type": "execute_result"
    }
   ],
   "source": [
    "# Enter your code in this cell\n",
    "compustat.DATADATE = pd.to_datetime(compustat.DATADATE)\n",
    "compustat"
   ]
  },
  {
   "cell_type": "markdown",
   "metadata": {},
   "source": [
    "#### Problem 2.5 - Dealing with missing values (3 points)"
   ]
  },
  {
   "cell_type": "markdown",
   "metadata": {},
   "source": [
    "Our primary identifier in this dataset is the `CIK` column. We must therefore impose the requirement that `CIK` is not missing. Drop any rows in which the `CIK` column has a missing value."
   ]
  },
  {
   "cell_type": "code",
   "execution_count": 186,
   "metadata": {},
   "outputs": [
    {
     "data": {
      "text/plain": "        GVKEY   DATADATE  FYEAR    TIC                          CONM  FYR  \\\n2        1004 2019-05-31   2018    AIR                      AAR CORP    5   \n4        1019 2018-12-31   2018   AFAP    AFA PROTECTIVE SYSTEMS INC   12   \n7        1045 2018-12-31   2018    AAL   AMERICAN AIRLINES GROUP INC   12   \n10       1050 2018-12-31   2018   CECO       CECO ENVIRONMENTAL CORP   12   \n13       1062 2018-11-30   2018    ASA  ASA GOLD AND PRECIOUS METALS   11   \n...       ...        ...    ...    ...                           ...  ...   \n28026  335466 2018-12-31   2018  HOFSQ   HERMITAGE OFFSHORE SERVICES   12   \n28028  339965 2019-01-31   2018   SNOW                 SNOWFLAKE INC    1   \n28030  345920 2018-12-31   2018   HYFM        HYDROFARM HLDNG GP INC   12   \n28033  345980 2018-12-31   2018   WISH              CONTEXTLOGIC INC   12   \n28036  347085 2019-02-28   2018   KARO                  KAROOOOO LTD    2   \n\n            ACT         AT       CEQ        IB      INVT  INVWIP        LCT  \\\n2       952.500   1517.200   905.900    84.100   589.000  14.000    357.500   \n4        23.793     34.031     9.205     1.101     5.026     NaN     19.536   \n7      8637.000  60580.000  -169.000  1412.000  1522.000     NaN  18096.000   \n10      160.865    392.582   178.560    -7.121    50.511  35.792    103.886   \n13          NaN    196.072   194.834   -48.789     0.000   0.000        NaN   \n...         ...        ...       ...       ...       ...     ...        ...   \n28026    14.160    191.074    54.064  -197.294     1.181     NaN      4.482   \n28028   698.952    764.288  -312.467  -178.028     0.000   0.000    144.905   \n28030   100.592    174.411    47.544   -32.892    53.200   0.000     43.864   \n28033  1104.000   1193.000 -1287.000  -208.000     0.000   0.000    970.000   \n28036    34.196    108.754    43.983    16.851    14.653   0.908     26.334   \n\n              LT        NI      RECT       REVT       SALE        CIK     SIC  \n2        611.300     7.500   258.100   2051.800   2051.800     1750.0  5080.0  \n4         24.826     1.101    16.316     77.742     77.742     2668.0  7380.0  \n7      60749.000  1412.000  1706.000  44541.000  44541.000     6201.0  4512.0  \n10       214.022    -7.121    53.225    337.339    337.339     3197.0  3564.0  \n13         1.238   -48.789     0.103      1.629      1.629  1230869.0  6799.0  \n...          ...       ...       ...        ...        ...        ...     ...  \n28026    137.010  -197.294     2.602     20.654     20.654  1597659.0     NaN  \n28028    165.902  -178.028    63.359     96.666     96.666  1640147.0  7370.0  \n28030    126.867   -32.892    17.566    211.813    211.813  1695295.0  3524.0  \n28033   1104.000  -208.000    93.000   1728.000   1728.000  1822250.0  5961.0  \n28036     49.180    16.851    15.349    120.390    120.390  1828102.0  7370.0  \n\n[7051 rows x 20 columns]",
      "text/html": "<div>\n<style scoped>\n    .dataframe tbody tr th:only-of-type {\n        vertical-align: middle;\n    }\n\n    .dataframe tbody tr th {\n        vertical-align: top;\n    }\n\n    .dataframe thead th {\n        text-align: right;\n    }\n</style>\n<table border=\"1\" class=\"dataframe\">\n  <thead>\n    <tr style=\"text-align: right;\">\n      <th></th>\n      <th>GVKEY</th>\n      <th>DATADATE</th>\n      <th>FYEAR</th>\n      <th>TIC</th>\n      <th>CONM</th>\n      <th>FYR</th>\n      <th>ACT</th>\n      <th>AT</th>\n      <th>CEQ</th>\n      <th>IB</th>\n      <th>INVT</th>\n      <th>INVWIP</th>\n      <th>LCT</th>\n      <th>LT</th>\n      <th>NI</th>\n      <th>RECT</th>\n      <th>REVT</th>\n      <th>SALE</th>\n      <th>CIK</th>\n      <th>SIC</th>\n    </tr>\n  </thead>\n  <tbody>\n    <tr>\n      <th>2</th>\n      <td>1004</td>\n      <td>2019-05-31</td>\n      <td>2018</td>\n      <td>AIR</td>\n      <td>AAR CORP</td>\n      <td>5</td>\n      <td>952.500</td>\n      <td>1517.200</td>\n      <td>905.900</td>\n      <td>84.100</td>\n      <td>589.000</td>\n      <td>14.000</td>\n      <td>357.500</td>\n      <td>611.300</td>\n      <td>7.500</td>\n      <td>258.100</td>\n      <td>2051.800</td>\n      <td>2051.800</td>\n      <td>1750.0</td>\n      <td>5080.0</td>\n    </tr>\n    <tr>\n      <th>4</th>\n      <td>1019</td>\n      <td>2018-12-31</td>\n      <td>2018</td>\n      <td>AFAP</td>\n      <td>AFA PROTECTIVE SYSTEMS INC</td>\n      <td>12</td>\n      <td>23.793</td>\n      <td>34.031</td>\n      <td>9.205</td>\n      <td>1.101</td>\n      <td>5.026</td>\n      <td>NaN</td>\n      <td>19.536</td>\n      <td>24.826</td>\n      <td>1.101</td>\n      <td>16.316</td>\n      <td>77.742</td>\n      <td>77.742</td>\n      <td>2668.0</td>\n      <td>7380.0</td>\n    </tr>\n    <tr>\n      <th>7</th>\n      <td>1045</td>\n      <td>2018-12-31</td>\n      <td>2018</td>\n      <td>AAL</td>\n      <td>AMERICAN AIRLINES GROUP INC</td>\n      <td>12</td>\n      <td>8637.000</td>\n      <td>60580.000</td>\n      <td>-169.000</td>\n      <td>1412.000</td>\n      <td>1522.000</td>\n      <td>NaN</td>\n      <td>18096.000</td>\n      <td>60749.000</td>\n      <td>1412.000</td>\n      <td>1706.000</td>\n      <td>44541.000</td>\n      <td>44541.000</td>\n      <td>6201.0</td>\n      <td>4512.0</td>\n    </tr>\n    <tr>\n      <th>10</th>\n      <td>1050</td>\n      <td>2018-12-31</td>\n      <td>2018</td>\n      <td>CECO</td>\n      <td>CECO ENVIRONMENTAL CORP</td>\n      <td>12</td>\n      <td>160.865</td>\n      <td>392.582</td>\n      <td>178.560</td>\n      <td>-7.121</td>\n      <td>50.511</td>\n      <td>35.792</td>\n      <td>103.886</td>\n      <td>214.022</td>\n      <td>-7.121</td>\n      <td>53.225</td>\n      <td>337.339</td>\n      <td>337.339</td>\n      <td>3197.0</td>\n      <td>3564.0</td>\n    </tr>\n    <tr>\n      <th>13</th>\n      <td>1062</td>\n      <td>2018-11-30</td>\n      <td>2018</td>\n      <td>ASA</td>\n      <td>ASA GOLD AND PRECIOUS METALS</td>\n      <td>11</td>\n      <td>NaN</td>\n      <td>196.072</td>\n      <td>194.834</td>\n      <td>-48.789</td>\n      <td>0.000</td>\n      <td>0.000</td>\n      <td>NaN</td>\n      <td>1.238</td>\n      <td>-48.789</td>\n      <td>0.103</td>\n      <td>1.629</td>\n      <td>1.629</td>\n      <td>1230869.0</td>\n      <td>6799.0</td>\n    </tr>\n    <tr>\n      <th>...</th>\n      <td>...</td>\n      <td>...</td>\n      <td>...</td>\n      <td>...</td>\n      <td>...</td>\n      <td>...</td>\n      <td>...</td>\n      <td>...</td>\n      <td>...</td>\n      <td>...</td>\n      <td>...</td>\n      <td>...</td>\n      <td>...</td>\n      <td>...</td>\n      <td>...</td>\n      <td>...</td>\n      <td>...</td>\n      <td>...</td>\n      <td>...</td>\n      <td>...</td>\n    </tr>\n    <tr>\n      <th>28026</th>\n      <td>335466</td>\n      <td>2018-12-31</td>\n      <td>2018</td>\n      <td>HOFSQ</td>\n      <td>HERMITAGE OFFSHORE SERVICES</td>\n      <td>12</td>\n      <td>14.160</td>\n      <td>191.074</td>\n      <td>54.064</td>\n      <td>-197.294</td>\n      <td>1.181</td>\n      <td>NaN</td>\n      <td>4.482</td>\n      <td>137.010</td>\n      <td>-197.294</td>\n      <td>2.602</td>\n      <td>20.654</td>\n      <td>20.654</td>\n      <td>1597659.0</td>\n      <td>NaN</td>\n    </tr>\n    <tr>\n      <th>28028</th>\n      <td>339965</td>\n      <td>2019-01-31</td>\n      <td>2018</td>\n      <td>SNOW</td>\n      <td>SNOWFLAKE INC</td>\n      <td>1</td>\n      <td>698.952</td>\n      <td>764.288</td>\n      <td>-312.467</td>\n      <td>-178.028</td>\n      <td>0.000</td>\n      <td>0.000</td>\n      <td>144.905</td>\n      <td>165.902</td>\n      <td>-178.028</td>\n      <td>63.359</td>\n      <td>96.666</td>\n      <td>96.666</td>\n      <td>1640147.0</td>\n      <td>7370.0</td>\n    </tr>\n    <tr>\n      <th>28030</th>\n      <td>345920</td>\n      <td>2018-12-31</td>\n      <td>2018</td>\n      <td>HYFM</td>\n      <td>HYDROFARM HLDNG GP INC</td>\n      <td>12</td>\n      <td>100.592</td>\n      <td>174.411</td>\n      <td>47.544</td>\n      <td>-32.892</td>\n      <td>53.200</td>\n      <td>0.000</td>\n      <td>43.864</td>\n      <td>126.867</td>\n      <td>-32.892</td>\n      <td>17.566</td>\n      <td>211.813</td>\n      <td>211.813</td>\n      <td>1695295.0</td>\n      <td>3524.0</td>\n    </tr>\n    <tr>\n      <th>28033</th>\n      <td>345980</td>\n      <td>2018-12-31</td>\n      <td>2018</td>\n      <td>WISH</td>\n      <td>CONTEXTLOGIC INC</td>\n      <td>12</td>\n      <td>1104.000</td>\n      <td>1193.000</td>\n      <td>-1287.000</td>\n      <td>-208.000</td>\n      <td>0.000</td>\n      <td>0.000</td>\n      <td>970.000</td>\n      <td>1104.000</td>\n      <td>-208.000</td>\n      <td>93.000</td>\n      <td>1728.000</td>\n      <td>1728.000</td>\n      <td>1822250.0</td>\n      <td>5961.0</td>\n    </tr>\n    <tr>\n      <th>28036</th>\n      <td>347085</td>\n      <td>2019-02-28</td>\n      <td>2018</td>\n      <td>KARO</td>\n      <td>KAROOOOO LTD</td>\n      <td>2</td>\n      <td>34.196</td>\n      <td>108.754</td>\n      <td>43.983</td>\n      <td>16.851</td>\n      <td>14.653</td>\n      <td>0.908</td>\n      <td>26.334</td>\n      <td>49.180</td>\n      <td>16.851</td>\n      <td>15.349</td>\n      <td>120.390</td>\n      <td>120.390</td>\n      <td>1828102.0</td>\n      <td>7370.0</td>\n    </tr>\n  </tbody>\n</table>\n<p>7051 rows × 20 columns</p>\n</div>"
     },
     "execution_count": 186,
     "metadata": {},
     "output_type": "execute_result"
    }
   ],
   "source": [
    "# Enter your code in this cell\n",
    "compustat.dropna(subset=[\"CIK\"], inplace=True)\n",
    "compustat"
   ]
  },
  {
   "cell_type": "markdown",
   "metadata": {},
   "source": [
    "We lost about 2,000 rows out of about 9,000 when we dropped those rows! This is common when working with such data. Many small and privately-held companies, and many hedge funds, do not file reports with the SEC and may lack an identifier.\n",
    "\n",
    "---\n",
    "\n",
    "We will use SIC codes in a moment. Before we do, let's drop rows with missing values in the `SIC` column:"
   ]
  },
  {
   "cell_type": "code",
   "execution_count": 187,
   "metadata": {},
   "outputs": [
    {
     "data": {
      "text/plain": "        GVKEY   DATADATE  FYEAR   TIC                          CONM  FYR  \\\n2        1004 2019-05-31   2018   AIR                      AAR CORP    5   \n4        1019 2018-12-31   2018  AFAP    AFA PROTECTIVE SYSTEMS INC   12   \n7        1045 2018-12-31   2018   AAL   AMERICAN AIRLINES GROUP INC   12   \n10       1050 2018-12-31   2018  CECO       CECO ENVIRONMENTAL CORP   12   \n13       1062 2018-11-30   2018   ASA  ASA GOLD AND PRECIOUS METALS   11   \n...       ...        ...    ...   ...                           ...  ...   \n28023  332115 2018-12-31   2018  ARMP    ARMATA PHARMACEUTICALS INC   12   \n28028  339965 2019-01-31   2018  SNOW                 SNOWFLAKE INC    1   \n28030  345920 2018-12-31   2018  HYFM        HYDROFARM HLDNG GP INC   12   \n28033  345980 2018-12-31   2018  WISH              CONTEXTLOGIC INC   12   \n28036  347085 2019-02-28   2018  KARO                  KAROOOOO LTD    2   \n\n            ACT         AT       CEQ        IB      INVT  INVWIP        LCT  \\\n2       952.500   1517.200   905.900    84.100   589.000  14.000    357.500   \n4        23.793     34.031     9.205     1.101     5.026     NaN     19.536   \n7      8637.000  60580.000  -169.000  1412.000  1522.000     NaN  18096.000   \n10      160.865    392.582   178.560    -7.121    50.511  35.792    103.886   \n13          NaN    196.072   194.834   -48.789     0.000   0.000        NaN   \n...         ...        ...       ...       ...       ...     ...        ...   \n28023       NaN        NaN       NaN       NaN       NaN     NaN        NaN   \n28028   698.952    764.288  -312.467  -178.028     0.000   0.000    144.905   \n28030   100.592    174.411    47.544   -32.892    53.200   0.000     43.864   \n28033  1104.000   1193.000 -1287.000  -208.000     0.000   0.000    970.000   \n28036    34.196    108.754    43.983    16.851    14.653   0.908     26.334   \n\n              LT        NI      RECT       REVT       SALE        CIK     SIC  \n2        611.300     7.500   258.100   2051.800   2051.800     1750.0  5080.0  \n4         24.826     1.101    16.316     77.742     77.742     2668.0  7380.0  \n7      60749.000  1412.000  1706.000  44541.000  44541.000     6201.0  4512.0  \n10       214.022    -7.121    53.225    337.339    337.339     3197.0  3564.0  \n13         1.238   -48.789     0.103      1.629      1.629  1230869.0  6799.0  \n...          ...       ...       ...        ...        ...        ...     ...  \n28023        NaN       NaN       NaN        NaN        NaN   921114.0  2836.0  \n28028    165.902  -178.028    63.359     96.666     96.666  1640147.0  7370.0  \n28030    126.867   -32.892    17.566    211.813    211.813  1695295.0  3524.0  \n28033   1104.000  -208.000    93.000   1728.000   1728.000  1822250.0  5961.0  \n28036     49.180    16.851    15.349    120.390    120.390  1828102.0  7370.0  \n\n[7049 rows x 20 columns]",
      "text/html": "<div>\n<style scoped>\n    .dataframe tbody tr th:only-of-type {\n        vertical-align: middle;\n    }\n\n    .dataframe tbody tr th {\n        vertical-align: top;\n    }\n\n    .dataframe thead th {\n        text-align: right;\n    }\n</style>\n<table border=\"1\" class=\"dataframe\">\n  <thead>\n    <tr style=\"text-align: right;\">\n      <th></th>\n      <th>GVKEY</th>\n      <th>DATADATE</th>\n      <th>FYEAR</th>\n      <th>TIC</th>\n      <th>CONM</th>\n      <th>FYR</th>\n      <th>ACT</th>\n      <th>AT</th>\n      <th>CEQ</th>\n      <th>IB</th>\n      <th>INVT</th>\n      <th>INVWIP</th>\n      <th>LCT</th>\n      <th>LT</th>\n      <th>NI</th>\n      <th>RECT</th>\n      <th>REVT</th>\n      <th>SALE</th>\n      <th>CIK</th>\n      <th>SIC</th>\n    </tr>\n  </thead>\n  <tbody>\n    <tr>\n      <th>2</th>\n      <td>1004</td>\n      <td>2019-05-31</td>\n      <td>2018</td>\n      <td>AIR</td>\n      <td>AAR CORP</td>\n      <td>5</td>\n      <td>952.500</td>\n      <td>1517.200</td>\n      <td>905.900</td>\n      <td>84.100</td>\n      <td>589.000</td>\n      <td>14.000</td>\n      <td>357.500</td>\n      <td>611.300</td>\n      <td>7.500</td>\n      <td>258.100</td>\n      <td>2051.800</td>\n      <td>2051.800</td>\n      <td>1750.0</td>\n      <td>5080.0</td>\n    </tr>\n    <tr>\n      <th>4</th>\n      <td>1019</td>\n      <td>2018-12-31</td>\n      <td>2018</td>\n      <td>AFAP</td>\n      <td>AFA PROTECTIVE SYSTEMS INC</td>\n      <td>12</td>\n      <td>23.793</td>\n      <td>34.031</td>\n      <td>9.205</td>\n      <td>1.101</td>\n      <td>5.026</td>\n      <td>NaN</td>\n      <td>19.536</td>\n      <td>24.826</td>\n      <td>1.101</td>\n      <td>16.316</td>\n      <td>77.742</td>\n      <td>77.742</td>\n      <td>2668.0</td>\n      <td>7380.0</td>\n    </tr>\n    <tr>\n      <th>7</th>\n      <td>1045</td>\n      <td>2018-12-31</td>\n      <td>2018</td>\n      <td>AAL</td>\n      <td>AMERICAN AIRLINES GROUP INC</td>\n      <td>12</td>\n      <td>8637.000</td>\n      <td>60580.000</td>\n      <td>-169.000</td>\n      <td>1412.000</td>\n      <td>1522.000</td>\n      <td>NaN</td>\n      <td>18096.000</td>\n      <td>60749.000</td>\n      <td>1412.000</td>\n      <td>1706.000</td>\n      <td>44541.000</td>\n      <td>44541.000</td>\n      <td>6201.0</td>\n      <td>4512.0</td>\n    </tr>\n    <tr>\n      <th>10</th>\n      <td>1050</td>\n      <td>2018-12-31</td>\n      <td>2018</td>\n      <td>CECO</td>\n      <td>CECO ENVIRONMENTAL CORP</td>\n      <td>12</td>\n      <td>160.865</td>\n      <td>392.582</td>\n      <td>178.560</td>\n      <td>-7.121</td>\n      <td>50.511</td>\n      <td>35.792</td>\n      <td>103.886</td>\n      <td>214.022</td>\n      <td>-7.121</td>\n      <td>53.225</td>\n      <td>337.339</td>\n      <td>337.339</td>\n      <td>3197.0</td>\n      <td>3564.0</td>\n    </tr>\n    <tr>\n      <th>13</th>\n      <td>1062</td>\n      <td>2018-11-30</td>\n      <td>2018</td>\n      <td>ASA</td>\n      <td>ASA GOLD AND PRECIOUS METALS</td>\n      <td>11</td>\n      <td>NaN</td>\n      <td>196.072</td>\n      <td>194.834</td>\n      <td>-48.789</td>\n      <td>0.000</td>\n      <td>0.000</td>\n      <td>NaN</td>\n      <td>1.238</td>\n      <td>-48.789</td>\n      <td>0.103</td>\n      <td>1.629</td>\n      <td>1.629</td>\n      <td>1230869.0</td>\n      <td>6799.0</td>\n    </tr>\n    <tr>\n      <th>...</th>\n      <td>...</td>\n      <td>...</td>\n      <td>...</td>\n      <td>...</td>\n      <td>...</td>\n      <td>...</td>\n      <td>...</td>\n      <td>...</td>\n      <td>...</td>\n      <td>...</td>\n      <td>...</td>\n      <td>...</td>\n      <td>...</td>\n      <td>...</td>\n      <td>...</td>\n      <td>...</td>\n      <td>...</td>\n      <td>...</td>\n      <td>...</td>\n      <td>...</td>\n    </tr>\n    <tr>\n      <th>28023</th>\n      <td>332115</td>\n      <td>2018-12-31</td>\n      <td>2018</td>\n      <td>ARMP</td>\n      <td>ARMATA PHARMACEUTICALS INC</td>\n      <td>12</td>\n      <td>NaN</td>\n      <td>NaN</td>\n      <td>NaN</td>\n      <td>NaN</td>\n      <td>NaN</td>\n      <td>NaN</td>\n      <td>NaN</td>\n      <td>NaN</td>\n      <td>NaN</td>\n      <td>NaN</td>\n      <td>NaN</td>\n      <td>NaN</td>\n      <td>921114.0</td>\n      <td>2836.0</td>\n    </tr>\n    <tr>\n      <th>28028</th>\n      <td>339965</td>\n      <td>2019-01-31</td>\n      <td>2018</td>\n      <td>SNOW</td>\n      <td>SNOWFLAKE INC</td>\n      <td>1</td>\n      <td>698.952</td>\n      <td>764.288</td>\n      <td>-312.467</td>\n      <td>-178.028</td>\n      <td>0.000</td>\n      <td>0.000</td>\n      <td>144.905</td>\n      <td>165.902</td>\n      <td>-178.028</td>\n      <td>63.359</td>\n      <td>96.666</td>\n      <td>96.666</td>\n      <td>1640147.0</td>\n      <td>7370.0</td>\n    </tr>\n    <tr>\n      <th>28030</th>\n      <td>345920</td>\n      <td>2018-12-31</td>\n      <td>2018</td>\n      <td>HYFM</td>\n      <td>HYDROFARM HLDNG GP INC</td>\n      <td>12</td>\n      <td>100.592</td>\n      <td>174.411</td>\n      <td>47.544</td>\n      <td>-32.892</td>\n      <td>53.200</td>\n      <td>0.000</td>\n      <td>43.864</td>\n      <td>126.867</td>\n      <td>-32.892</td>\n      <td>17.566</td>\n      <td>211.813</td>\n      <td>211.813</td>\n      <td>1695295.0</td>\n      <td>3524.0</td>\n    </tr>\n    <tr>\n      <th>28033</th>\n      <td>345980</td>\n      <td>2018-12-31</td>\n      <td>2018</td>\n      <td>WISH</td>\n      <td>CONTEXTLOGIC INC</td>\n      <td>12</td>\n      <td>1104.000</td>\n      <td>1193.000</td>\n      <td>-1287.000</td>\n      <td>-208.000</td>\n      <td>0.000</td>\n      <td>0.000</td>\n      <td>970.000</td>\n      <td>1104.000</td>\n      <td>-208.000</td>\n      <td>93.000</td>\n      <td>1728.000</td>\n      <td>1728.000</td>\n      <td>1822250.0</td>\n      <td>5961.0</td>\n    </tr>\n    <tr>\n      <th>28036</th>\n      <td>347085</td>\n      <td>2019-02-28</td>\n      <td>2018</td>\n      <td>KARO</td>\n      <td>KAROOOOO LTD</td>\n      <td>2</td>\n      <td>34.196</td>\n      <td>108.754</td>\n      <td>43.983</td>\n      <td>16.851</td>\n      <td>14.653</td>\n      <td>0.908</td>\n      <td>26.334</td>\n      <td>49.180</td>\n      <td>16.851</td>\n      <td>15.349</td>\n      <td>120.390</td>\n      <td>120.390</td>\n      <td>1828102.0</td>\n      <td>7370.0</td>\n    </tr>\n  </tbody>\n</table>\n<p>7049 rows × 20 columns</p>\n</div>"
     },
     "execution_count": 187,
     "metadata": {},
     "output_type": "execute_result"
    }
   ],
   "source": [
    "# Enter your code in this cell\n",
    "compustat.dropna(subset=[\"SIC\"], inplace=True)\n",
    "compustat"
   ]
  },
  {
   "cell_type": "markdown",
   "metadata": {},
   "source": [
    "#### Problem 2.6 - Dealing with data types (3 points)"
   ]
  },
  {
   "cell_type": "markdown",
   "metadata": {},
   "source": [
    "If you check, you will find that Pandas has stored storing the CIK and SIC columns as floats. However, these values cannot contain fractional amounts and therefore it is better to store them as integers. Convert these two columns to the numpy int64 type (`np.int64`)."
   ]
  },
  {
   "cell_type": "code",
   "execution_count": 189,
   "metadata": {},
   "outputs": [
    {
     "name": "stdout",
     "output_type": "stream",
     "text": [
      "<class 'pandas.core.frame.DataFrame'>\n",
      "Int64Index: 7049 entries, 2 to 28036\n",
      "Data columns (total 20 columns):\n",
      " #   Column    Non-Null Count  Dtype         \n",
      "---  ------    --------------  -----         \n",
      " 0   GVKEY     7049 non-null   int64         \n",
      " 1   DATADATE  7049 non-null   datetime64[ns]\n",
      " 2   FYEAR     7049 non-null   int64         \n",
      " 3   TIC       7049 non-null   object        \n",
      " 4   CONM      7049 non-null   object        \n",
      " 5   FYR       7049 non-null   int64         \n",
      " 6   ACT       5125 non-null   float64       \n",
      " 7   AT        6394 non-null   float64       \n",
      " 8   CEQ       6378 non-null   float64       \n",
      " 9   IB        6374 non-null   float64       \n",
      " 10  INVT      6315 non-null   float64       \n",
      " 11  INVWIP    4403 non-null   float64       \n",
      " 12  LCT       5129 non-null   float64       \n",
      " 13  LT        6389 non-null   float64       \n",
      " 14  NI        6374 non-null   float64       \n",
      " 15  RECT      6340 non-null   float64       \n",
      " 16  REVT      6374 non-null   float64       \n",
      " 17  SALE      6374 non-null   float64       \n",
      " 18  CIK       7049 non-null   int64         \n",
      " 19  SIC       7049 non-null   int64         \n",
      "dtypes: datetime64[ns](1), float64(12), int64(5), object(2)\n",
      "memory usage: 1.1+ MB\n"
     ]
    }
   ],
   "source": [
    "# Enter your code in this cell\n",
    "compustat[[\"CIK\"]] = compustat[[\"CIK\"]].astype(np.int64)\n",
    "compustat[[\"SIC\"]] = compustat[[\"SIC\"]].astype(np.int64)\n",
    "compustat.info()"
   ]
  },
  {
   "cell_type": "markdown",
   "metadata": {},
   "source": [
    "#### Problem 2.7 - Excluding some industries (7 points)"
   ]
  },
  {
   "cell_type": "markdown",
   "metadata": {},
   "source": [
    "When performing data analyses such as ours, many researchers and analysts exclude data for companies in the financial services, insurance, and real estate industries. Companies in these industries have very different accounting practices than other companies, and hence their accounting numbers are not comparable.\n",
    "\n",
    "A common way to identify financial, insurance, and real estate companies is by SIC codes. SIC stands for \"standard industrial classification\" and is a taxonomy developed by various governments to classify companies. Go to [this website](https://siccode.com/) and determine the *range* of SIC codes that you want to exclude from our dataset. Be careful when reading this website! Ignore anything about NAICS (an alternative to SIC). Also, SIC codes are 4-digit codes. Keep that in mind as you interpret the information at the SIC website.\n",
    "\n",
    "---\n",
    "\n",
    "Write code to exclude financial and insurance companies from the Compustat data frame:"
   ]
  },
  {
   "cell_type": "code",
   "execution_count": 191,
   "metadata": {},
   "outputs": [
    {
     "data": {
      "text/plain": "        GVKEY   DATADATE  FYEAR   TIC                         CONM  FYR  \\\n2        1004 2019-05-31   2018   AIR                     AAR CORP    5   \n4        1019 2018-12-31   2018  AFAP   AFA PROTECTIVE SYSTEMS INC   12   \n7        1045 2018-12-31   2018   AAL  AMERICAN AIRLINES GROUP INC   12   \n10       1050 2018-12-31   2018  CECO      CECO ENVIRONMENTAL CORP   12   \n17       1072 2019-03-31   2018   AVX                     AVX CORP    3   \n...       ...        ...    ...   ...                          ...  ...   \n28023  332115 2018-12-31   2018  ARMP   ARMATA PHARMACEUTICALS INC   12   \n28028  339965 2019-01-31   2018  SNOW                SNOWFLAKE INC    1   \n28030  345920 2018-12-31   2018  HYFM       HYDROFARM HLDNG GP INC   12   \n28033  345980 2018-12-31   2018  WISH             CONTEXTLOGIC INC   12   \n28036  347085 2019-02-28   2018  KARO                 KAROOOOO LTD    2   \n\n            ACT         AT       CEQ        IB      INVT   INVWIP        LCT  \\\n2       952.500   1517.200   905.900    84.100   589.000   14.000    357.500   \n4        23.793     34.031     9.205     1.101     5.026      NaN     19.536   \n7      8637.000  60580.000  -169.000  1412.000  1522.000      NaN  18096.000   \n10      160.865    392.582   178.560    -7.121    50.511   35.792    103.886   \n17     1783.727   2813.278  2384.180   271.813   631.688  142.475    313.185   \n...         ...        ...       ...       ...       ...      ...        ...   \n28023       NaN        NaN       NaN       NaN       NaN      NaN        NaN   \n28028   698.952    764.288  -312.467  -178.028     0.000    0.000    144.905   \n28030   100.592    174.411    47.544   -32.892    53.200    0.000     43.864   \n28033  1104.000   1193.000 -1287.000  -208.000     0.000    0.000    970.000   \n28036    34.196    108.754    43.983    16.851    14.653    0.908     26.334   \n\n              LT        NI      RECT       REVT       SALE      CIK   SIC  \n2        611.300     7.500   258.100   2051.800   2051.800     1750  5080  \n4         24.826     1.101    16.316     77.742     77.742     2668  7380  \n7      60749.000  1412.000  1706.000  44541.000  44541.000     6201  4512  \n10       214.022    -7.121    53.225    337.339    337.339     3197  3564  \n17       429.098   271.813   262.279   1791.790   1791.790   859163  3670  \n...          ...       ...       ...        ...        ...      ...   ...  \n28023        NaN       NaN       NaN        NaN        NaN   921114  2836  \n28028    165.902  -178.028    63.359     96.666     96.666  1640147  7370  \n28030    126.867   -32.892    17.566    211.813    211.813  1695295  3524  \n28033   1104.000  -208.000    93.000   1728.000   1728.000  1822250  5961  \n28036     49.180    16.851    15.349    120.390    120.390  1828102  7370  \n\n[5253 rows x 20 columns]",
      "text/html": "<div>\n<style scoped>\n    .dataframe tbody tr th:only-of-type {\n        vertical-align: middle;\n    }\n\n    .dataframe tbody tr th {\n        vertical-align: top;\n    }\n\n    .dataframe thead th {\n        text-align: right;\n    }\n</style>\n<table border=\"1\" class=\"dataframe\">\n  <thead>\n    <tr style=\"text-align: right;\">\n      <th></th>\n      <th>GVKEY</th>\n      <th>DATADATE</th>\n      <th>FYEAR</th>\n      <th>TIC</th>\n      <th>CONM</th>\n      <th>FYR</th>\n      <th>ACT</th>\n      <th>AT</th>\n      <th>CEQ</th>\n      <th>IB</th>\n      <th>INVT</th>\n      <th>INVWIP</th>\n      <th>LCT</th>\n      <th>LT</th>\n      <th>NI</th>\n      <th>RECT</th>\n      <th>REVT</th>\n      <th>SALE</th>\n      <th>CIK</th>\n      <th>SIC</th>\n    </tr>\n  </thead>\n  <tbody>\n    <tr>\n      <th>2</th>\n      <td>1004</td>\n      <td>2019-05-31</td>\n      <td>2018</td>\n      <td>AIR</td>\n      <td>AAR CORP</td>\n      <td>5</td>\n      <td>952.500</td>\n      <td>1517.200</td>\n      <td>905.900</td>\n      <td>84.100</td>\n      <td>589.000</td>\n      <td>14.000</td>\n      <td>357.500</td>\n      <td>611.300</td>\n      <td>7.500</td>\n      <td>258.100</td>\n      <td>2051.800</td>\n      <td>2051.800</td>\n      <td>1750</td>\n      <td>5080</td>\n    </tr>\n    <tr>\n      <th>4</th>\n      <td>1019</td>\n      <td>2018-12-31</td>\n      <td>2018</td>\n      <td>AFAP</td>\n      <td>AFA PROTECTIVE SYSTEMS INC</td>\n      <td>12</td>\n      <td>23.793</td>\n      <td>34.031</td>\n      <td>9.205</td>\n      <td>1.101</td>\n      <td>5.026</td>\n      <td>NaN</td>\n      <td>19.536</td>\n      <td>24.826</td>\n      <td>1.101</td>\n      <td>16.316</td>\n      <td>77.742</td>\n      <td>77.742</td>\n      <td>2668</td>\n      <td>7380</td>\n    </tr>\n    <tr>\n      <th>7</th>\n      <td>1045</td>\n      <td>2018-12-31</td>\n      <td>2018</td>\n      <td>AAL</td>\n      <td>AMERICAN AIRLINES GROUP INC</td>\n      <td>12</td>\n      <td>8637.000</td>\n      <td>60580.000</td>\n      <td>-169.000</td>\n      <td>1412.000</td>\n      <td>1522.000</td>\n      <td>NaN</td>\n      <td>18096.000</td>\n      <td>60749.000</td>\n      <td>1412.000</td>\n      <td>1706.000</td>\n      <td>44541.000</td>\n      <td>44541.000</td>\n      <td>6201</td>\n      <td>4512</td>\n    </tr>\n    <tr>\n      <th>10</th>\n      <td>1050</td>\n      <td>2018-12-31</td>\n      <td>2018</td>\n      <td>CECO</td>\n      <td>CECO ENVIRONMENTAL CORP</td>\n      <td>12</td>\n      <td>160.865</td>\n      <td>392.582</td>\n      <td>178.560</td>\n      <td>-7.121</td>\n      <td>50.511</td>\n      <td>35.792</td>\n      <td>103.886</td>\n      <td>214.022</td>\n      <td>-7.121</td>\n      <td>53.225</td>\n      <td>337.339</td>\n      <td>337.339</td>\n      <td>3197</td>\n      <td>3564</td>\n    </tr>\n    <tr>\n      <th>17</th>\n      <td>1072</td>\n      <td>2019-03-31</td>\n      <td>2018</td>\n      <td>AVX</td>\n      <td>AVX CORP</td>\n      <td>3</td>\n      <td>1783.727</td>\n      <td>2813.278</td>\n      <td>2384.180</td>\n      <td>271.813</td>\n      <td>631.688</td>\n      <td>142.475</td>\n      <td>313.185</td>\n      <td>429.098</td>\n      <td>271.813</td>\n      <td>262.279</td>\n      <td>1791.790</td>\n      <td>1791.790</td>\n      <td>859163</td>\n      <td>3670</td>\n    </tr>\n    <tr>\n      <th>...</th>\n      <td>...</td>\n      <td>...</td>\n      <td>...</td>\n      <td>...</td>\n      <td>...</td>\n      <td>...</td>\n      <td>...</td>\n      <td>...</td>\n      <td>...</td>\n      <td>...</td>\n      <td>...</td>\n      <td>...</td>\n      <td>...</td>\n      <td>...</td>\n      <td>...</td>\n      <td>...</td>\n      <td>...</td>\n      <td>...</td>\n      <td>...</td>\n      <td>...</td>\n    </tr>\n    <tr>\n      <th>28023</th>\n      <td>332115</td>\n      <td>2018-12-31</td>\n      <td>2018</td>\n      <td>ARMP</td>\n      <td>ARMATA PHARMACEUTICALS INC</td>\n      <td>12</td>\n      <td>NaN</td>\n      <td>NaN</td>\n      <td>NaN</td>\n      <td>NaN</td>\n      <td>NaN</td>\n      <td>NaN</td>\n      <td>NaN</td>\n      <td>NaN</td>\n      <td>NaN</td>\n      <td>NaN</td>\n      <td>NaN</td>\n      <td>NaN</td>\n      <td>921114</td>\n      <td>2836</td>\n    </tr>\n    <tr>\n      <th>28028</th>\n      <td>339965</td>\n      <td>2019-01-31</td>\n      <td>2018</td>\n      <td>SNOW</td>\n      <td>SNOWFLAKE INC</td>\n      <td>1</td>\n      <td>698.952</td>\n      <td>764.288</td>\n      <td>-312.467</td>\n      <td>-178.028</td>\n      <td>0.000</td>\n      <td>0.000</td>\n      <td>144.905</td>\n      <td>165.902</td>\n      <td>-178.028</td>\n      <td>63.359</td>\n      <td>96.666</td>\n      <td>96.666</td>\n      <td>1640147</td>\n      <td>7370</td>\n    </tr>\n    <tr>\n      <th>28030</th>\n      <td>345920</td>\n      <td>2018-12-31</td>\n      <td>2018</td>\n      <td>HYFM</td>\n      <td>HYDROFARM HLDNG GP INC</td>\n      <td>12</td>\n      <td>100.592</td>\n      <td>174.411</td>\n      <td>47.544</td>\n      <td>-32.892</td>\n      <td>53.200</td>\n      <td>0.000</td>\n      <td>43.864</td>\n      <td>126.867</td>\n      <td>-32.892</td>\n      <td>17.566</td>\n      <td>211.813</td>\n      <td>211.813</td>\n      <td>1695295</td>\n      <td>3524</td>\n    </tr>\n    <tr>\n      <th>28033</th>\n      <td>345980</td>\n      <td>2018-12-31</td>\n      <td>2018</td>\n      <td>WISH</td>\n      <td>CONTEXTLOGIC INC</td>\n      <td>12</td>\n      <td>1104.000</td>\n      <td>1193.000</td>\n      <td>-1287.000</td>\n      <td>-208.000</td>\n      <td>0.000</td>\n      <td>0.000</td>\n      <td>970.000</td>\n      <td>1104.000</td>\n      <td>-208.000</td>\n      <td>93.000</td>\n      <td>1728.000</td>\n      <td>1728.000</td>\n      <td>1822250</td>\n      <td>5961</td>\n    </tr>\n    <tr>\n      <th>28036</th>\n      <td>347085</td>\n      <td>2019-02-28</td>\n      <td>2018</td>\n      <td>KARO</td>\n      <td>KAROOOOO LTD</td>\n      <td>2</td>\n      <td>34.196</td>\n      <td>108.754</td>\n      <td>43.983</td>\n      <td>16.851</td>\n      <td>14.653</td>\n      <td>0.908</td>\n      <td>26.334</td>\n      <td>49.180</td>\n      <td>16.851</td>\n      <td>15.349</td>\n      <td>120.390</td>\n      <td>120.390</td>\n      <td>1828102</td>\n      <td>7370</td>\n    </tr>\n  </tbody>\n</table>\n<p>5253 rows × 20 columns</p>\n</div>"
     },
     "execution_count": 191,
     "metadata": {},
     "output_type": "execute_result"
    }
   ],
   "source": [
    "# Enter your code in this cell\n",
    "compustat.drop(compustat[(compustat[\"SIC\"]>=6000) & (compustat[\"SIC\"]<6500)].index, inplace=True)\n",
    "compustat.drop(compustat[(compustat[\"SIC\"]>=6700) & (compustat[\"SIC\"]<6800)].index, inplace=True)\n",
    "compustat"
   ]
  },
  {
   "cell_type": "markdown",
   "metadata": {},
   "source": [
    "We lost many rows! Looks like there were many financial companies in our dataset."
   ]
  },
  {
   "cell_type": "markdown",
   "metadata": {},
   "source": [
    "#### Problem 2.8 - Dealing with missing values, part 2 (4 points)"
   ]
  },
  {
   "cell_type": "markdown",
   "metadata": {},
   "source": [
    "Let's clean up our data some more. If a company does not report values in some critical columns (like total assets) then we should assume the data is suspect and drop that row.\n",
    "\n",
    "Remove rows with missing values in any of these columns:\n",
    "* Total assets\n",
    "* Common equity\n",
    "* Income before extraordinary items\n",
    "* Total liabilities\n",
    "* Net income\n",
    "* Revenues\n",
    "* Sales"
   ]
  },
  {
   "cell_type": "code",
   "execution_count": 193,
   "metadata": {},
   "outputs": [
    {
     "data": {
      "text/plain": "        GVKEY   DATADATE  FYEAR   TIC                         CONM  FYR  \\\n2        1004 2019-05-31   2018   AIR                     AAR CORP    5   \n4        1019 2018-12-31   2018  AFAP   AFA PROTECTIVE SYSTEMS INC   12   \n7        1045 2018-12-31   2018   AAL  AMERICAN AIRLINES GROUP INC   12   \n10       1050 2018-12-31   2018  CECO      CECO ENVIRONMENTAL CORP   12   \n17       1072 2019-03-31   2018   AVX                     AVX CORP    3   \n...       ...        ...    ...   ...                          ...  ...   \n28018  330227 2018-09-30   2018  CTRM          CASTOR MARITIME INC    9   \n28028  339965 2019-01-31   2018  SNOW                SNOWFLAKE INC    1   \n28030  345920 2018-12-31   2018  HYFM       HYDROFARM HLDNG GP INC   12   \n28033  345980 2018-12-31   2018  WISH             CONTEXTLOGIC INC   12   \n28036  347085 2019-02-28   2018  KARO                 KAROOOOO LTD    2   \n\n            ACT         AT       CEQ        IB      INVT   INVWIP        LCT  \\\n2       952.500   1517.200   905.900    84.100   589.000   14.000    357.500   \n4        23.793     34.031     9.205     1.101     5.026      NaN     19.536   \n7      8637.000  60580.000  -169.000  1412.000  1522.000      NaN  18096.000   \n10      160.865    392.582   178.560    -7.121    50.511   35.792    103.886   \n17     1783.727   2813.278  2384.180   271.813   631.688  142.475    313.185   \n...         ...        ...       ...       ...       ...      ...        ...   \n28018     2.110      9.624     9.475     0.981     0.061    0.000      0.149   \n28028   698.952    764.288  -312.467  -178.028     0.000    0.000    144.905   \n28030   100.592    174.411    47.544   -32.892    53.200    0.000     43.864   \n28033  1104.000   1193.000 -1287.000  -208.000     0.000    0.000    970.000   \n28036    34.196    108.754    43.983    16.851    14.653    0.908     26.334   \n\n              LT        NI      RECT       REVT       SALE      CIK   SIC  \n2        611.300     7.500   258.100   2051.800   2051.800     1750  5080  \n4         24.826     1.101    16.316     77.742     77.742     2668  7380  \n7      60749.000  1412.000  1706.000  44541.000  44541.000     6201  4512  \n10       214.022    -7.121    53.225    337.339    337.339     3197  3564  \n17       429.098   271.813   262.279   1791.790   1791.790   859163  3670  \n...          ...       ...       ...        ...        ...      ...   ...  \n28018      0.149     0.981     0.265      3.961      3.961  1720161  4412  \n28028    165.902  -178.028    63.359     96.666     96.666  1640147  7370  \n28030    126.867   -32.892    17.566    211.813    211.813  1695295  3524  \n28033   1104.000  -208.000    93.000   1728.000   1728.000  1822250  5961  \n28036     49.180    16.851    15.349    120.390    120.390  1828102  7370  \n\n[5044 rows x 20 columns]",
      "text/html": "<div>\n<style scoped>\n    .dataframe tbody tr th:only-of-type {\n        vertical-align: middle;\n    }\n\n    .dataframe tbody tr th {\n        vertical-align: top;\n    }\n\n    .dataframe thead th {\n        text-align: right;\n    }\n</style>\n<table border=\"1\" class=\"dataframe\">\n  <thead>\n    <tr style=\"text-align: right;\">\n      <th></th>\n      <th>GVKEY</th>\n      <th>DATADATE</th>\n      <th>FYEAR</th>\n      <th>TIC</th>\n      <th>CONM</th>\n      <th>FYR</th>\n      <th>ACT</th>\n      <th>AT</th>\n      <th>CEQ</th>\n      <th>IB</th>\n      <th>INVT</th>\n      <th>INVWIP</th>\n      <th>LCT</th>\n      <th>LT</th>\n      <th>NI</th>\n      <th>RECT</th>\n      <th>REVT</th>\n      <th>SALE</th>\n      <th>CIK</th>\n      <th>SIC</th>\n    </tr>\n  </thead>\n  <tbody>\n    <tr>\n      <th>2</th>\n      <td>1004</td>\n      <td>2019-05-31</td>\n      <td>2018</td>\n      <td>AIR</td>\n      <td>AAR CORP</td>\n      <td>5</td>\n      <td>952.500</td>\n      <td>1517.200</td>\n      <td>905.900</td>\n      <td>84.100</td>\n      <td>589.000</td>\n      <td>14.000</td>\n      <td>357.500</td>\n      <td>611.300</td>\n      <td>7.500</td>\n      <td>258.100</td>\n      <td>2051.800</td>\n      <td>2051.800</td>\n      <td>1750</td>\n      <td>5080</td>\n    </tr>\n    <tr>\n      <th>4</th>\n      <td>1019</td>\n      <td>2018-12-31</td>\n      <td>2018</td>\n      <td>AFAP</td>\n      <td>AFA PROTECTIVE SYSTEMS INC</td>\n      <td>12</td>\n      <td>23.793</td>\n      <td>34.031</td>\n      <td>9.205</td>\n      <td>1.101</td>\n      <td>5.026</td>\n      <td>NaN</td>\n      <td>19.536</td>\n      <td>24.826</td>\n      <td>1.101</td>\n      <td>16.316</td>\n      <td>77.742</td>\n      <td>77.742</td>\n      <td>2668</td>\n      <td>7380</td>\n    </tr>\n    <tr>\n      <th>7</th>\n      <td>1045</td>\n      <td>2018-12-31</td>\n      <td>2018</td>\n      <td>AAL</td>\n      <td>AMERICAN AIRLINES GROUP INC</td>\n      <td>12</td>\n      <td>8637.000</td>\n      <td>60580.000</td>\n      <td>-169.000</td>\n      <td>1412.000</td>\n      <td>1522.000</td>\n      <td>NaN</td>\n      <td>18096.000</td>\n      <td>60749.000</td>\n      <td>1412.000</td>\n      <td>1706.000</td>\n      <td>44541.000</td>\n      <td>44541.000</td>\n      <td>6201</td>\n      <td>4512</td>\n    </tr>\n    <tr>\n      <th>10</th>\n      <td>1050</td>\n      <td>2018-12-31</td>\n      <td>2018</td>\n      <td>CECO</td>\n      <td>CECO ENVIRONMENTAL CORP</td>\n      <td>12</td>\n      <td>160.865</td>\n      <td>392.582</td>\n      <td>178.560</td>\n      <td>-7.121</td>\n      <td>50.511</td>\n      <td>35.792</td>\n      <td>103.886</td>\n      <td>214.022</td>\n      <td>-7.121</td>\n      <td>53.225</td>\n      <td>337.339</td>\n      <td>337.339</td>\n      <td>3197</td>\n      <td>3564</td>\n    </tr>\n    <tr>\n      <th>17</th>\n      <td>1072</td>\n      <td>2019-03-31</td>\n      <td>2018</td>\n      <td>AVX</td>\n      <td>AVX CORP</td>\n      <td>3</td>\n      <td>1783.727</td>\n      <td>2813.278</td>\n      <td>2384.180</td>\n      <td>271.813</td>\n      <td>631.688</td>\n      <td>142.475</td>\n      <td>313.185</td>\n      <td>429.098</td>\n      <td>271.813</td>\n      <td>262.279</td>\n      <td>1791.790</td>\n      <td>1791.790</td>\n      <td>859163</td>\n      <td>3670</td>\n    </tr>\n    <tr>\n      <th>...</th>\n      <td>...</td>\n      <td>...</td>\n      <td>...</td>\n      <td>...</td>\n      <td>...</td>\n      <td>...</td>\n      <td>...</td>\n      <td>...</td>\n      <td>...</td>\n      <td>...</td>\n      <td>...</td>\n      <td>...</td>\n      <td>...</td>\n      <td>...</td>\n      <td>...</td>\n      <td>...</td>\n      <td>...</td>\n      <td>...</td>\n      <td>...</td>\n      <td>...</td>\n    </tr>\n    <tr>\n      <th>28018</th>\n      <td>330227</td>\n      <td>2018-09-30</td>\n      <td>2018</td>\n      <td>CTRM</td>\n      <td>CASTOR MARITIME INC</td>\n      <td>9</td>\n      <td>2.110</td>\n      <td>9.624</td>\n      <td>9.475</td>\n      <td>0.981</td>\n      <td>0.061</td>\n      <td>0.000</td>\n      <td>0.149</td>\n      <td>0.149</td>\n      <td>0.981</td>\n      <td>0.265</td>\n      <td>3.961</td>\n      <td>3.961</td>\n      <td>1720161</td>\n      <td>4412</td>\n    </tr>\n    <tr>\n      <th>28028</th>\n      <td>339965</td>\n      <td>2019-01-31</td>\n      <td>2018</td>\n      <td>SNOW</td>\n      <td>SNOWFLAKE INC</td>\n      <td>1</td>\n      <td>698.952</td>\n      <td>764.288</td>\n      <td>-312.467</td>\n      <td>-178.028</td>\n      <td>0.000</td>\n      <td>0.000</td>\n      <td>144.905</td>\n      <td>165.902</td>\n      <td>-178.028</td>\n      <td>63.359</td>\n      <td>96.666</td>\n      <td>96.666</td>\n      <td>1640147</td>\n      <td>7370</td>\n    </tr>\n    <tr>\n      <th>28030</th>\n      <td>345920</td>\n      <td>2018-12-31</td>\n      <td>2018</td>\n      <td>HYFM</td>\n      <td>HYDROFARM HLDNG GP INC</td>\n      <td>12</td>\n      <td>100.592</td>\n      <td>174.411</td>\n      <td>47.544</td>\n      <td>-32.892</td>\n      <td>53.200</td>\n      <td>0.000</td>\n      <td>43.864</td>\n      <td>126.867</td>\n      <td>-32.892</td>\n      <td>17.566</td>\n      <td>211.813</td>\n      <td>211.813</td>\n      <td>1695295</td>\n      <td>3524</td>\n    </tr>\n    <tr>\n      <th>28033</th>\n      <td>345980</td>\n      <td>2018-12-31</td>\n      <td>2018</td>\n      <td>WISH</td>\n      <td>CONTEXTLOGIC INC</td>\n      <td>12</td>\n      <td>1104.000</td>\n      <td>1193.000</td>\n      <td>-1287.000</td>\n      <td>-208.000</td>\n      <td>0.000</td>\n      <td>0.000</td>\n      <td>970.000</td>\n      <td>1104.000</td>\n      <td>-208.000</td>\n      <td>93.000</td>\n      <td>1728.000</td>\n      <td>1728.000</td>\n      <td>1822250</td>\n      <td>5961</td>\n    </tr>\n    <tr>\n      <th>28036</th>\n      <td>347085</td>\n      <td>2019-02-28</td>\n      <td>2018</td>\n      <td>KARO</td>\n      <td>KAROOOOO LTD</td>\n      <td>2</td>\n      <td>34.196</td>\n      <td>108.754</td>\n      <td>43.983</td>\n      <td>16.851</td>\n      <td>14.653</td>\n      <td>0.908</td>\n      <td>26.334</td>\n      <td>49.180</td>\n      <td>16.851</td>\n      <td>15.349</td>\n      <td>120.390</td>\n      <td>120.390</td>\n      <td>1828102</td>\n      <td>7370</td>\n    </tr>\n  </tbody>\n</table>\n<p>5044 rows × 20 columns</p>\n</div>"
     },
     "execution_count": 193,
     "metadata": {},
     "output_type": "execute_result"
    }
   ],
   "source": [
    "# Enter your code in this cell\n",
    "compustat.dropna(subset=[\"AT\", \"CEQ\", \"IB\", \"LT\", \"NI\", \"REVT\", \"SALE\"], inplace=True)\n",
    "compustat"
   ]
  },
  {
   "cell_type": "markdown",
   "metadata": {},
   "source": [
    "#### Problem 2.9 - Dealing with zero and negative values (3 points)"
   ]
  },
  {
   "cell_type": "markdown",
   "metadata": {},
   "source": [
    "We just removed rows with missing values in critical columns. Now let's remove rows with zero or negative values in certain columns. Zero and negative values might be legitimate, but companies with negative values in these columns are likely very different than other companies and might skew our analysis.\n",
    "\n",
    "Drop any rows with zero or negative numbers in any of these columns:\n",
    "* Total assets\n",
    "* Total liabilities\n",
    "* Sales"
   ]
  },
  {
   "cell_type": "code",
   "execution_count": 194,
   "metadata": {},
   "outputs": [
    {
     "data": {
      "text/plain": "        GVKEY   DATADATE  FYEAR   TIC                         CONM  FYR  \\\n2        1004 2019-05-31   2018   AIR                     AAR CORP    5   \n4        1019 2018-12-31   2018  AFAP   AFA PROTECTIVE SYSTEMS INC   12   \n7        1045 2018-12-31   2018   AAL  AMERICAN AIRLINES GROUP INC   12   \n10       1050 2018-12-31   2018  CECO      CECO ENVIRONMENTAL CORP   12   \n17       1072 2019-03-31   2018   AVX                     AVX CORP    3   \n...       ...        ...    ...   ...                          ...  ...   \n28018  330227 2018-09-30   2018  CTRM          CASTOR MARITIME INC    9   \n28028  339965 2019-01-31   2018  SNOW                SNOWFLAKE INC    1   \n28030  345920 2018-12-31   2018  HYFM       HYDROFARM HLDNG GP INC   12   \n28033  345980 2018-12-31   2018  WISH             CONTEXTLOGIC INC   12   \n28036  347085 2019-02-28   2018  KARO                 KAROOOOO LTD    2   \n\n            ACT         AT       CEQ        IB      INVT   INVWIP        LCT  \\\n2       952.500   1517.200   905.900    84.100   589.000   14.000    357.500   \n4        23.793     34.031     9.205     1.101     5.026      NaN     19.536   \n7      8637.000  60580.000  -169.000  1412.000  1522.000      NaN  18096.000   \n10      160.865    392.582   178.560    -7.121    50.511   35.792    103.886   \n17     1783.727   2813.278  2384.180   271.813   631.688  142.475    313.185   \n...         ...        ...       ...       ...       ...      ...        ...   \n28018     2.110      9.624     9.475     0.981     0.061    0.000      0.149   \n28028   698.952    764.288  -312.467  -178.028     0.000    0.000    144.905   \n28030   100.592    174.411    47.544   -32.892    53.200    0.000     43.864   \n28033  1104.000   1193.000 -1287.000  -208.000     0.000    0.000    970.000   \n28036    34.196    108.754    43.983    16.851    14.653    0.908     26.334   \n\n              LT        NI      RECT       REVT       SALE      CIK   SIC  \n2        611.300     7.500   258.100   2051.800   2051.800     1750  5080  \n4         24.826     1.101    16.316     77.742     77.742     2668  7380  \n7      60749.000  1412.000  1706.000  44541.000  44541.000     6201  4512  \n10       214.022    -7.121    53.225    337.339    337.339     3197  3564  \n17       429.098   271.813   262.279   1791.790   1791.790   859163  3670  \n...          ...       ...       ...        ...        ...      ...   ...  \n28018      0.149     0.981     0.265      3.961      3.961  1720161  4412  \n28028    165.902  -178.028    63.359     96.666     96.666  1640147  7370  \n28030    126.867   -32.892    17.566    211.813    211.813  1695295  3524  \n28033   1104.000  -208.000    93.000   1728.000   1728.000  1822250  5961  \n28036     49.180    16.851    15.349    120.390    120.390  1828102  7370  \n\n[4506 rows x 20 columns]",
      "text/html": "<div>\n<style scoped>\n    .dataframe tbody tr th:only-of-type {\n        vertical-align: middle;\n    }\n\n    .dataframe tbody tr th {\n        vertical-align: top;\n    }\n\n    .dataframe thead th {\n        text-align: right;\n    }\n</style>\n<table border=\"1\" class=\"dataframe\">\n  <thead>\n    <tr style=\"text-align: right;\">\n      <th></th>\n      <th>GVKEY</th>\n      <th>DATADATE</th>\n      <th>FYEAR</th>\n      <th>TIC</th>\n      <th>CONM</th>\n      <th>FYR</th>\n      <th>ACT</th>\n      <th>AT</th>\n      <th>CEQ</th>\n      <th>IB</th>\n      <th>INVT</th>\n      <th>INVWIP</th>\n      <th>LCT</th>\n      <th>LT</th>\n      <th>NI</th>\n      <th>RECT</th>\n      <th>REVT</th>\n      <th>SALE</th>\n      <th>CIK</th>\n      <th>SIC</th>\n    </tr>\n  </thead>\n  <tbody>\n    <tr>\n      <th>2</th>\n      <td>1004</td>\n      <td>2019-05-31</td>\n      <td>2018</td>\n      <td>AIR</td>\n      <td>AAR CORP</td>\n      <td>5</td>\n      <td>952.500</td>\n      <td>1517.200</td>\n      <td>905.900</td>\n      <td>84.100</td>\n      <td>589.000</td>\n      <td>14.000</td>\n      <td>357.500</td>\n      <td>611.300</td>\n      <td>7.500</td>\n      <td>258.100</td>\n      <td>2051.800</td>\n      <td>2051.800</td>\n      <td>1750</td>\n      <td>5080</td>\n    </tr>\n    <tr>\n      <th>4</th>\n      <td>1019</td>\n      <td>2018-12-31</td>\n      <td>2018</td>\n      <td>AFAP</td>\n      <td>AFA PROTECTIVE SYSTEMS INC</td>\n      <td>12</td>\n      <td>23.793</td>\n      <td>34.031</td>\n      <td>9.205</td>\n      <td>1.101</td>\n      <td>5.026</td>\n      <td>NaN</td>\n      <td>19.536</td>\n      <td>24.826</td>\n      <td>1.101</td>\n      <td>16.316</td>\n      <td>77.742</td>\n      <td>77.742</td>\n      <td>2668</td>\n      <td>7380</td>\n    </tr>\n    <tr>\n      <th>7</th>\n      <td>1045</td>\n      <td>2018-12-31</td>\n      <td>2018</td>\n      <td>AAL</td>\n      <td>AMERICAN AIRLINES GROUP INC</td>\n      <td>12</td>\n      <td>8637.000</td>\n      <td>60580.000</td>\n      <td>-169.000</td>\n      <td>1412.000</td>\n      <td>1522.000</td>\n      <td>NaN</td>\n      <td>18096.000</td>\n      <td>60749.000</td>\n      <td>1412.000</td>\n      <td>1706.000</td>\n      <td>44541.000</td>\n      <td>44541.000</td>\n      <td>6201</td>\n      <td>4512</td>\n    </tr>\n    <tr>\n      <th>10</th>\n      <td>1050</td>\n      <td>2018-12-31</td>\n      <td>2018</td>\n      <td>CECO</td>\n      <td>CECO ENVIRONMENTAL CORP</td>\n      <td>12</td>\n      <td>160.865</td>\n      <td>392.582</td>\n      <td>178.560</td>\n      <td>-7.121</td>\n      <td>50.511</td>\n      <td>35.792</td>\n      <td>103.886</td>\n      <td>214.022</td>\n      <td>-7.121</td>\n      <td>53.225</td>\n      <td>337.339</td>\n      <td>337.339</td>\n      <td>3197</td>\n      <td>3564</td>\n    </tr>\n    <tr>\n      <th>17</th>\n      <td>1072</td>\n      <td>2019-03-31</td>\n      <td>2018</td>\n      <td>AVX</td>\n      <td>AVX CORP</td>\n      <td>3</td>\n      <td>1783.727</td>\n      <td>2813.278</td>\n      <td>2384.180</td>\n      <td>271.813</td>\n      <td>631.688</td>\n      <td>142.475</td>\n      <td>313.185</td>\n      <td>429.098</td>\n      <td>271.813</td>\n      <td>262.279</td>\n      <td>1791.790</td>\n      <td>1791.790</td>\n      <td>859163</td>\n      <td>3670</td>\n    </tr>\n    <tr>\n      <th>...</th>\n      <td>...</td>\n      <td>...</td>\n      <td>...</td>\n      <td>...</td>\n      <td>...</td>\n      <td>...</td>\n      <td>...</td>\n      <td>...</td>\n      <td>...</td>\n      <td>...</td>\n      <td>...</td>\n      <td>...</td>\n      <td>...</td>\n      <td>...</td>\n      <td>...</td>\n      <td>...</td>\n      <td>...</td>\n      <td>...</td>\n      <td>...</td>\n      <td>...</td>\n    </tr>\n    <tr>\n      <th>28018</th>\n      <td>330227</td>\n      <td>2018-09-30</td>\n      <td>2018</td>\n      <td>CTRM</td>\n      <td>CASTOR MARITIME INC</td>\n      <td>9</td>\n      <td>2.110</td>\n      <td>9.624</td>\n      <td>9.475</td>\n      <td>0.981</td>\n      <td>0.061</td>\n      <td>0.000</td>\n      <td>0.149</td>\n      <td>0.149</td>\n      <td>0.981</td>\n      <td>0.265</td>\n      <td>3.961</td>\n      <td>3.961</td>\n      <td>1720161</td>\n      <td>4412</td>\n    </tr>\n    <tr>\n      <th>28028</th>\n      <td>339965</td>\n      <td>2019-01-31</td>\n      <td>2018</td>\n      <td>SNOW</td>\n      <td>SNOWFLAKE INC</td>\n      <td>1</td>\n      <td>698.952</td>\n      <td>764.288</td>\n      <td>-312.467</td>\n      <td>-178.028</td>\n      <td>0.000</td>\n      <td>0.000</td>\n      <td>144.905</td>\n      <td>165.902</td>\n      <td>-178.028</td>\n      <td>63.359</td>\n      <td>96.666</td>\n      <td>96.666</td>\n      <td>1640147</td>\n      <td>7370</td>\n    </tr>\n    <tr>\n      <th>28030</th>\n      <td>345920</td>\n      <td>2018-12-31</td>\n      <td>2018</td>\n      <td>HYFM</td>\n      <td>HYDROFARM HLDNG GP INC</td>\n      <td>12</td>\n      <td>100.592</td>\n      <td>174.411</td>\n      <td>47.544</td>\n      <td>-32.892</td>\n      <td>53.200</td>\n      <td>0.000</td>\n      <td>43.864</td>\n      <td>126.867</td>\n      <td>-32.892</td>\n      <td>17.566</td>\n      <td>211.813</td>\n      <td>211.813</td>\n      <td>1695295</td>\n      <td>3524</td>\n    </tr>\n    <tr>\n      <th>28033</th>\n      <td>345980</td>\n      <td>2018-12-31</td>\n      <td>2018</td>\n      <td>WISH</td>\n      <td>CONTEXTLOGIC INC</td>\n      <td>12</td>\n      <td>1104.000</td>\n      <td>1193.000</td>\n      <td>-1287.000</td>\n      <td>-208.000</td>\n      <td>0.000</td>\n      <td>0.000</td>\n      <td>970.000</td>\n      <td>1104.000</td>\n      <td>-208.000</td>\n      <td>93.000</td>\n      <td>1728.000</td>\n      <td>1728.000</td>\n      <td>1822250</td>\n      <td>5961</td>\n    </tr>\n    <tr>\n      <th>28036</th>\n      <td>347085</td>\n      <td>2019-02-28</td>\n      <td>2018</td>\n      <td>KARO</td>\n      <td>KAROOOOO LTD</td>\n      <td>2</td>\n      <td>34.196</td>\n      <td>108.754</td>\n      <td>43.983</td>\n      <td>16.851</td>\n      <td>14.653</td>\n      <td>0.908</td>\n      <td>26.334</td>\n      <td>49.180</td>\n      <td>16.851</td>\n      <td>15.349</td>\n      <td>120.390</td>\n      <td>120.390</td>\n      <td>1828102</td>\n      <td>7370</td>\n    </tr>\n  </tbody>\n</table>\n<p>4506 rows × 20 columns</p>\n</div>"
     },
     "execution_count": 194,
     "metadata": {},
     "output_type": "execute_result"
    }
   ],
   "source": [
    "# Enter your code in this cell\n",
    "compustat.drop(compustat[(compustat[\"AT\"]<=0) | (compustat[\"LT\"]<=0) | (compustat[\"SALE\"]<=0)].index, inplace=True)\n",
    "compustat"
   ]
  },
  {
   "cell_type": "markdown",
   "metadata": {},
   "source": [
    "#### Problem 2.10 - Dealing with missing values, part 3 (3 points)"
   ]
  },
  {
   "cell_type": "markdown",
   "metadata": {},
   "source": [
    "Many companies do not report certain line items. For example, retailers do not have work-in-process inventories so they do not report this. Thus, some companies will have missing values in certain columns. Let's fill in those missing values with zeroes.\n",
    "\n",
    "In the following columns, replace missing values with zeros:\n",
    "* Current assets\n",
    "* Inventories\n",
    "* Work-in-process inventories\n",
    "* Current liabilities\n",
    "* Receivables"
   ]
  },
  {
   "cell_type": "code",
   "execution_count": 196,
   "metadata": {},
   "outputs": [
    {
     "data": {
      "text/plain": "        GVKEY   DATADATE  FYEAR   TIC                         CONM  FYR  \\\n2        1004 2019-05-31   2018   AIR                     AAR CORP    5   \n4        1019 2018-12-31   2018  AFAP   AFA PROTECTIVE SYSTEMS INC   12   \n7        1045 2018-12-31   2018   AAL  AMERICAN AIRLINES GROUP INC   12   \n10       1050 2018-12-31   2018  CECO      CECO ENVIRONMENTAL CORP   12   \n17       1072 2019-03-31   2018   AVX                     AVX CORP    3   \n...       ...        ...    ...   ...                          ...  ...   \n28018  330227 2018-09-30   2018  CTRM          CASTOR MARITIME INC    9   \n28028  339965 2019-01-31   2018  SNOW                SNOWFLAKE INC    1   \n28030  345920 2018-12-31   2018  HYFM       HYDROFARM HLDNG GP INC   12   \n28033  345980 2018-12-31   2018  WISH             CONTEXTLOGIC INC   12   \n28036  347085 2019-02-28   2018  KARO                 KAROOOOO LTD    2   \n\n            ACT         AT       CEQ        IB      INVT   INVWIP        LCT  \\\n2       952.500   1517.200   905.900    84.100   589.000   14.000    357.500   \n4        23.793     34.031     9.205     1.101     5.026    0.000     19.536   \n7      8637.000  60580.000  -169.000  1412.000  1522.000    0.000  18096.000   \n10      160.865    392.582   178.560    -7.121    50.511   35.792    103.886   \n17     1783.727   2813.278  2384.180   271.813   631.688  142.475    313.185   \n...         ...        ...       ...       ...       ...      ...        ...   \n28018     2.110      9.624     9.475     0.981     0.061    0.000      0.149   \n28028   698.952    764.288  -312.467  -178.028     0.000    0.000    144.905   \n28030   100.592    174.411    47.544   -32.892    53.200    0.000     43.864   \n28033  1104.000   1193.000 -1287.000  -208.000     0.000    0.000    970.000   \n28036    34.196    108.754    43.983    16.851    14.653    0.908     26.334   \n\n              LT        NI      RECT       REVT       SALE      CIK   SIC  \n2        611.300     7.500   258.100   2051.800   2051.800     1750  5080  \n4         24.826     1.101    16.316     77.742     77.742     2668  7380  \n7      60749.000  1412.000  1706.000  44541.000  44541.000     6201  4512  \n10       214.022    -7.121    53.225    337.339    337.339     3197  3564  \n17       429.098   271.813   262.279   1791.790   1791.790   859163  3670  \n...          ...       ...       ...        ...        ...      ...   ...  \n28018      0.149     0.981     0.265      3.961      3.961  1720161  4412  \n28028    165.902  -178.028    63.359     96.666     96.666  1640147  7370  \n28030    126.867   -32.892    17.566    211.813    211.813  1695295  3524  \n28033   1104.000  -208.000    93.000   1728.000   1728.000  1822250  5961  \n28036     49.180    16.851    15.349    120.390    120.390  1828102  7370  \n\n[4506 rows x 20 columns]",
      "text/html": "<div>\n<style scoped>\n    .dataframe tbody tr th:only-of-type {\n        vertical-align: middle;\n    }\n\n    .dataframe tbody tr th {\n        vertical-align: top;\n    }\n\n    .dataframe thead th {\n        text-align: right;\n    }\n</style>\n<table border=\"1\" class=\"dataframe\">\n  <thead>\n    <tr style=\"text-align: right;\">\n      <th></th>\n      <th>GVKEY</th>\n      <th>DATADATE</th>\n      <th>FYEAR</th>\n      <th>TIC</th>\n      <th>CONM</th>\n      <th>FYR</th>\n      <th>ACT</th>\n      <th>AT</th>\n      <th>CEQ</th>\n      <th>IB</th>\n      <th>INVT</th>\n      <th>INVWIP</th>\n      <th>LCT</th>\n      <th>LT</th>\n      <th>NI</th>\n      <th>RECT</th>\n      <th>REVT</th>\n      <th>SALE</th>\n      <th>CIK</th>\n      <th>SIC</th>\n    </tr>\n  </thead>\n  <tbody>\n    <tr>\n      <th>2</th>\n      <td>1004</td>\n      <td>2019-05-31</td>\n      <td>2018</td>\n      <td>AIR</td>\n      <td>AAR CORP</td>\n      <td>5</td>\n      <td>952.500</td>\n      <td>1517.200</td>\n      <td>905.900</td>\n      <td>84.100</td>\n      <td>589.000</td>\n      <td>14.000</td>\n      <td>357.500</td>\n      <td>611.300</td>\n      <td>7.500</td>\n      <td>258.100</td>\n      <td>2051.800</td>\n      <td>2051.800</td>\n      <td>1750</td>\n      <td>5080</td>\n    </tr>\n    <tr>\n      <th>4</th>\n      <td>1019</td>\n      <td>2018-12-31</td>\n      <td>2018</td>\n      <td>AFAP</td>\n      <td>AFA PROTECTIVE SYSTEMS INC</td>\n      <td>12</td>\n      <td>23.793</td>\n      <td>34.031</td>\n      <td>9.205</td>\n      <td>1.101</td>\n      <td>5.026</td>\n      <td>0.000</td>\n      <td>19.536</td>\n      <td>24.826</td>\n      <td>1.101</td>\n      <td>16.316</td>\n      <td>77.742</td>\n      <td>77.742</td>\n      <td>2668</td>\n      <td>7380</td>\n    </tr>\n    <tr>\n      <th>7</th>\n      <td>1045</td>\n      <td>2018-12-31</td>\n      <td>2018</td>\n      <td>AAL</td>\n      <td>AMERICAN AIRLINES GROUP INC</td>\n      <td>12</td>\n      <td>8637.000</td>\n      <td>60580.000</td>\n      <td>-169.000</td>\n      <td>1412.000</td>\n      <td>1522.000</td>\n      <td>0.000</td>\n      <td>18096.000</td>\n      <td>60749.000</td>\n      <td>1412.000</td>\n      <td>1706.000</td>\n      <td>44541.000</td>\n      <td>44541.000</td>\n      <td>6201</td>\n      <td>4512</td>\n    </tr>\n    <tr>\n      <th>10</th>\n      <td>1050</td>\n      <td>2018-12-31</td>\n      <td>2018</td>\n      <td>CECO</td>\n      <td>CECO ENVIRONMENTAL CORP</td>\n      <td>12</td>\n      <td>160.865</td>\n      <td>392.582</td>\n      <td>178.560</td>\n      <td>-7.121</td>\n      <td>50.511</td>\n      <td>35.792</td>\n      <td>103.886</td>\n      <td>214.022</td>\n      <td>-7.121</td>\n      <td>53.225</td>\n      <td>337.339</td>\n      <td>337.339</td>\n      <td>3197</td>\n      <td>3564</td>\n    </tr>\n    <tr>\n      <th>17</th>\n      <td>1072</td>\n      <td>2019-03-31</td>\n      <td>2018</td>\n      <td>AVX</td>\n      <td>AVX CORP</td>\n      <td>3</td>\n      <td>1783.727</td>\n      <td>2813.278</td>\n      <td>2384.180</td>\n      <td>271.813</td>\n      <td>631.688</td>\n      <td>142.475</td>\n      <td>313.185</td>\n      <td>429.098</td>\n      <td>271.813</td>\n      <td>262.279</td>\n      <td>1791.790</td>\n      <td>1791.790</td>\n      <td>859163</td>\n      <td>3670</td>\n    </tr>\n    <tr>\n      <th>...</th>\n      <td>...</td>\n      <td>...</td>\n      <td>...</td>\n      <td>...</td>\n      <td>...</td>\n      <td>...</td>\n      <td>...</td>\n      <td>...</td>\n      <td>...</td>\n      <td>...</td>\n      <td>...</td>\n      <td>...</td>\n      <td>...</td>\n      <td>...</td>\n      <td>...</td>\n      <td>...</td>\n      <td>...</td>\n      <td>...</td>\n      <td>...</td>\n      <td>...</td>\n    </tr>\n    <tr>\n      <th>28018</th>\n      <td>330227</td>\n      <td>2018-09-30</td>\n      <td>2018</td>\n      <td>CTRM</td>\n      <td>CASTOR MARITIME INC</td>\n      <td>9</td>\n      <td>2.110</td>\n      <td>9.624</td>\n      <td>9.475</td>\n      <td>0.981</td>\n      <td>0.061</td>\n      <td>0.000</td>\n      <td>0.149</td>\n      <td>0.149</td>\n      <td>0.981</td>\n      <td>0.265</td>\n      <td>3.961</td>\n      <td>3.961</td>\n      <td>1720161</td>\n      <td>4412</td>\n    </tr>\n    <tr>\n      <th>28028</th>\n      <td>339965</td>\n      <td>2019-01-31</td>\n      <td>2018</td>\n      <td>SNOW</td>\n      <td>SNOWFLAKE INC</td>\n      <td>1</td>\n      <td>698.952</td>\n      <td>764.288</td>\n      <td>-312.467</td>\n      <td>-178.028</td>\n      <td>0.000</td>\n      <td>0.000</td>\n      <td>144.905</td>\n      <td>165.902</td>\n      <td>-178.028</td>\n      <td>63.359</td>\n      <td>96.666</td>\n      <td>96.666</td>\n      <td>1640147</td>\n      <td>7370</td>\n    </tr>\n    <tr>\n      <th>28030</th>\n      <td>345920</td>\n      <td>2018-12-31</td>\n      <td>2018</td>\n      <td>HYFM</td>\n      <td>HYDROFARM HLDNG GP INC</td>\n      <td>12</td>\n      <td>100.592</td>\n      <td>174.411</td>\n      <td>47.544</td>\n      <td>-32.892</td>\n      <td>53.200</td>\n      <td>0.000</td>\n      <td>43.864</td>\n      <td>126.867</td>\n      <td>-32.892</td>\n      <td>17.566</td>\n      <td>211.813</td>\n      <td>211.813</td>\n      <td>1695295</td>\n      <td>3524</td>\n    </tr>\n    <tr>\n      <th>28033</th>\n      <td>345980</td>\n      <td>2018-12-31</td>\n      <td>2018</td>\n      <td>WISH</td>\n      <td>CONTEXTLOGIC INC</td>\n      <td>12</td>\n      <td>1104.000</td>\n      <td>1193.000</td>\n      <td>-1287.000</td>\n      <td>-208.000</td>\n      <td>0.000</td>\n      <td>0.000</td>\n      <td>970.000</td>\n      <td>1104.000</td>\n      <td>-208.000</td>\n      <td>93.000</td>\n      <td>1728.000</td>\n      <td>1728.000</td>\n      <td>1822250</td>\n      <td>5961</td>\n    </tr>\n    <tr>\n      <th>28036</th>\n      <td>347085</td>\n      <td>2019-02-28</td>\n      <td>2018</td>\n      <td>KARO</td>\n      <td>KAROOOOO LTD</td>\n      <td>2</td>\n      <td>34.196</td>\n      <td>108.754</td>\n      <td>43.983</td>\n      <td>16.851</td>\n      <td>14.653</td>\n      <td>0.908</td>\n      <td>26.334</td>\n      <td>49.180</td>\n      <td>16.851</td>\n      <td>15.349</td>\n      <td>120.390</td>\n      <td>120.390</td>\n      <td>1828102</td>\n      <td>7370</td>\n    </tr>\n  </tbody>\n</table>\n<p>4506 rows × 20 columns</p>\n</div>"
     },
     "execution_count": 196,
     "metadata": {},
     "output_type": "execute_result"
    }
   ],
   "source": [
    "# Enter your code in this cell\n",
    "compustat.ACT.fillna(0, inplace=True)\n",
    "compustat.INVT.fillna(0, inplace=True)\n",
    "compustat.INVWIP.fillna(0, inplace=True)\n",
    "compustat.LCT.fillna(0, inplace=True)\n",
    "compustat.RECT.fillna(0, inplace=True)\n",
    "compustat"
   ]
  },
  {
   "cell_type": "markdown",
   "metadata": {},
   "source": [
    "#### Problem 2.11 - Dealing with units (3 points)"
   ]
  },
  {
   "cell_type": "markdown",
   "metadata": {},
   "source": [
    "Compustat data is in millions but Audit Analytics data reports actual amounts. Since we will soon merge this data, let's put all numbers on the same scale.\n",
    "\n",
    "Convert all Compustat columns that are in millions to actual amounts."
   ]
  },
  {
   "cell_type": "code",
   "execution_count": 198,
   "metadata": {},
   "outputs": [
    {
     "data": {
      "text/plain": "        GVKEY   DATADATE  FYEAR   TIC                         CONM  FYR  \\\n2        1004 2019-05-31   2018   AIR                     AAR CORP    5   \n4        1019 2018-12-31   2018  AFAP   AFA PROTECTIVE SYSTEMS INC   12   \n7        1045 2018-12-31   2018   AAL  AMERICAN AIRLINES GROUP INC   12   \n10       1050 2018-12-31   2018  CECO      CECO ENVIRONMENTAL CORP   12   \n17       1072 2019-03-31   2018   AVX                     AVX CORP    3   \n...       ...        ...    ...   ...                          ...  ...   \n28018  330227 2018-09-30   2018  CTRM          CASTOR MARITIME INC    9   \n28028  339965 2019-01-31   2018  SNOW                SNOWFLAKE INC    1   \n28030  345920 2018-12-31   2018  HYFM       HYDROFARM HLDNG GP INC   12   \n28033  345980 2018-12-31   2018  WISH             CONTEXTLOGIC INC   12   \n28036  347085 2019-02-28   2018  KARO                 KAROOOOO LTD    2   \n\n                ACT            AT           CEQ            IB          INVT  \\\n2      9.525000e+14  1.517200e+15  9.059000e+14  8.410000e+13  5.890000e+14   \n4      2.379300e+13  3.403100e+13  9.205000e+12  1.101000e+12  5.026000e+12   \n7      8.637000e+15  6.058000e+16 -1.690000e+14  1.412000e+15  1.522000e+15   \n10     1.608650e+14  3.925820e+14  1.785600e+14 -7.121000e+12  5.051100e+13   \n17     1.783727e+15  2.813278e+15  2.384180e+15  2.718130e+14  6.316880e+14   \n...             ...           ...           ...           ...           ...   \n28018  2.110000e+12  9.624000e+12  9.475000e+12  9.810000e+11  6.100000e+10   \n28028  6.989520e+14  7.642880e+14 -3.124670e+14 -1.780280e+14  0.000000e+00   \n28030  1.005920e+14  1.744110e+14  4.754400e+13 -3.289200e+13  5.320000e+13   \n28033  1.104000e+15  1.193000e+15 -1.287000e+15 -2.080000e+14  0.000000e+00   \n28036  3.419600e+13  1.087540e+14  4.398300e+13  1.685100e+13  1.465300e+13   \n\n             INVWIP           LCT            LT            NI          RECT  \\\n2      1.400000e+13  3.575000e+14  6.113000e+14  7.500000e+12  2.581000e+14   \n4      0.000000e+00  1.953600e+13  2.482600e+13  1.101000e+12  1.631600e+13   \n7      0.000000e+00  1.809600e+16  6.074900e+16  1.412000e+15  1.706000e+15   \n10     3.579200e+13  1.038860e+14  2.140220e+14 -7.121000e+12  5.322500e+13   \n17     1.424750e+14  3.131850e+14  4.290980e+14  2.718130e+14  2.622790e+14   \n...             ...           ...           ...           ...           ...   \n28018  0.000000e+00  1.490000e+11  1.490000e+11  9.810000e+11  2.650000e+11   \n28028  0.000000e+00  1.449050e+14  1.659020e+14 -1.780280e+14  6.335900e+13   \n28030  0.000000e+00  4.386400e+13  1.268670e+14 -3.289200e+13  1.756600e+13   \n28033  0.000000e+00  9.700000e+14  1.104000e+15 -2.080000e+14  9.300000e+13   \n28036  9.080000e+11  2.633400e+13  4.918000e+13  1.685100e+13  1.534900e+13   \n\n               REVT          SALE      CIK   SIC  \n2      2.051800e+15  2.051800e+15     1750  5080  \n4      7.774200e+13  7.774200e+13     2668  7380  \n7      4.454100e+16  4.454100e+16     6201  4512  \n10     3.373390e+14  3.373390e+14     3197  3564  \n17     1.791790e+15  1.791790e+15   859163  3670  \n...             ...           ...      ...   ...  \n28018  3.961000e+12  3.961000e+12  1720161  4412  \n28028  9.666600e+13  9.666600e+13  1640147  7370  \n28030  2.118130e+14  2.118130e+14  1695295  3524  \n28033  1.728000e+15  1.728000e+15  1822250  5961  \n28036  1.203900e+14  1.203900e+14  1828102  7370  \n\n[4506 rows x 20 columns]",
      "text/html": "<div>\n<style scoped>\n    .dataframe tbody tr th:only-of-type {\n        vertical-align: middle;\n    }\n\n    .dataframe tbody tr th {\n        vertical-align: top;\n    }\n\n    .dataframe thead th {\n        text-align: right;\n    }\n</style>\n<table border=\"1\" class=\"dataframe\">\n  <thead>\n    <tr style=\"text-align: right;\">\n      <th></th>\n      <th>GVKEY</th>\n      <th>DATADATE</th>\n      <th>FYEAR</th>\n      <th>TIC</th>\n      <th>CONM</th>\n      <th>FYR</th>\n      <th>ACT</th>\n      <th>AT</th>\n      <th>CEQ</th>\n      <th>IB</th>\n      <th>INVT</th>\n      <th>INVWIP</th>\n      <th>LCT</th>\n      <th>LT</th>\n      <th>NI</th>\n      <th>RECT</th>\n      <th>REVT</th>\n      <th>SALE</th>\n      <th>CIK</th>\n      <th>SIC</th>\n    </tr>\n  </thead>\n  <tbody>\n    <tr>\n      <th>2</th>\n      <td>1004</td>\n      <td>2019-05-31</td>\n      <td>2018</td>\n      <td>AIR</td>\n      <td>AAR CORP</td>\n      <td>5</td>\n      <td>9.525000e+14</td>\n      <td>1.517200e+15</td>\n      <td>9.059000e+14</td>\n      <td>8.410000e+13</td>\n      <td>5.890000e+14</td>\n      <td>1.400000e+13</td>\n      <td>3.575000e+14</td>\n      <td>6.113000e+14</td>\n      <td>7.500000e+12</td>\n      <td>2.581000e+14</td>\n      <td>2.051800e+15</td>\n      <td>2.051800e+15</td>\n      <td>1750</td>\n      <td>5080</td>\n    </tr>\n    <tr>\n      <th>4</th>\n      <td>1019</td>\n      <td>2018-12-31</td>\n      <td>2018</td>\n      <td>AFAP</td>\n      <td>AFA PROTECTIVE SYSTEMS INC</td>\n      <td>12</td>\n      <td>2.379300e+13</td>\n      <td>3.403100e+13</td>\n      <td>9.205000e+12</td>\n      <td>1.101000e+12</td>\n      <td>5.026000e+12</td>\n      <td>0.000000e+00</td>\n      <td>1.953600e+13</td>\n      <td>2.482600e+13</td>\n      <td>1.101000e+12</td>\n      <td>1.631600e+13</td>\n      <td>7.774200e+13</td>\n      <td>7.774200e+13</td>\n      <td>2668</td>\n      <td>7380</td>\n    </tr>\n    <tr>\n      <th>7</th>\n      <td>1045</td>\n      <td>2018-12-31</td>\n      <td>2018</td>\n      <td>AAL</td>\n      <td>AMERICAN AIRLINES GROUP INC</td>\n      <td>12</td>\n      <td>8.637000e+15</td>\n      <td>6.058000e+16</td>\n      <td>-1.690000e+14</td>\n      <td>1.412000e+15</td>\n      <td>1.522000e+15</td>\n      <td>0.000000e+00</td>\n      <td>1.809600e+16</td>\n      <td>6.074900e+16</td>\n      <td>1.412000e+15</td>\n      <td>1.706000e+15</td>\n      <td>4.454100e+16</td>\n      <td>4.454100e+16</td>\n      <td>6201</td>\n      <td>4512</td>\n    </tr>\n    <tr>\n      <th>10</th>\n      <td>1050</td>\n      <td>2018-12-31</td>\n      <td>2018</td>\n      <td>CECO</td>\n      <td>CECO ENVIRONMENTAL CORP</td>\n      <td>12</td>\n      <td>1.608650e+14</td>\n      <td>3.925820e+14</td>\n      <td>1.785600e+14</td>\n      <td>-7.121000e+12</td>\n      <td>5.051100e+13</td>\n      <td>3.579200e+13</td>\n      <td>1.038860e+14</td>\n      <td>2.140220e+14</td>\n      <td>-7.121000e+12</td>\n      <td>5.322500e+13</td>\n      <td>3.373390e+14</td>\n      <td>3.373390e+14</td>\n      <td>3197</td>\n      <td>3564</td>\n    </tr>\n    <tr>\n      <th>17</th>\n      <td>1072</td>\n      <td>2019-03-31</td>\n      <td>2018</td>\n      <td>AVX</td>\n      <td>AVX CORP</td>\n      <td>3</td>\n      <td>1.783727e+15</td>\n      <td>2.813278e+15</td>\n      <td>2.384180e+15</td>\n      <td>2.718130e+14</td>\n      <td>6.316880e+14</td>\n      <td>1.424750e+14</td>\n      <td>3.131850e+14</td>\n      <td>4.290980e+14</td>\n      <td>2.718130e+14</td>\n      <td>2.622790e+14</td>\n      <td>1.791790e+15</td>\n      <td>1.791790e+15</td>\n      <td>859163</td>\n      <td>3670</td>\n    </tr>\n    <tr>\n      <th>...</th>\n      <td>...</td>\n      <td>...</td>\n      <td>...</td>\n      <td>...</td>\n      <td>...</td>\n      <td>...</td>\n      <td>...</td>\n      <td>...</td>\n      <td>...</td>\n      <td>...</td>\n      <td>...</td>\n      <td>...</td>\n      <td>...</td>\n      <td>...</td>\n      <td>...</td>\n      <td>...</td>\n      <td>...</td>\n      <td>...</td>\n      <td>...</td>\n      <td>...</td>\n    </tr>\n    <tr>\n      <th>28018</th>\n      <td>330227</td>\n      <td>2018-09-30</td>\n      <td>2018</td>\n      <td>CTRM</td>\n      <td>CASTOR MARITIME INC</td>\n      <td>9</td>\n      <td>2.110000e+12</td>\n      <td>9.624000e+12</td>\n      <td>9.475000e+12</td>\n      <td>9.810000e+11</td>\n      <td>6.100000e+10</td>\n      <td>0.000000e+00</td>\n      <td>1.490000e+11</td>\n      <td>1.490000e+11</td>\n      <td>9.810000e+11</td>\n      <td>2.650000e+11</td>\n      <td>3.961000e+12</td>\n      <td>3.961000e+12</td>\n      <td>1720161</td>\n      <td>4412</td>\n    </tr>\n    <tr>\n      <th>28028</th>\n      <td>339965</td>\n      <td>2019-01-31</td>\n      <td>2018</td>\n      <td>SNOW</td>\n      <td>SNOWFLAKE INC</td>\n      <td>1</td>\n      <td>6.989520e+14</td>\n      <td>7.642880e+14</td>\n      <td>-3.124670e+14</td>\n      <td>-1.780280e+14</td>\n      <td>0.000000e+00</td>\n      <td>0.000000e+00</td>\n      <td>1.449050e+14</td>\n      <td>1.659020e+14</td>\n      <td>-1.780280e+14</td>\n      <td>6.335900e+13</td>\n      <td>9.666600e+13</td>\n      <td>9.666600e+13</td>\n      <td>1640147</td>\n      <td>7370</td>\n    </tr>\n    <tr>\n      <th>28030</th>\n      <td>345920</td>\n      <td>2018-12-31</td>\n      <td>2018</td>\n      <td>HYFM</td>\n      <td>HYDROFARM HLDNG GP INC</td>\n      <td>12</td>\n      <td>1.005920e+14</td>\n      <td>1.744110e+14</td>\n      <td>4.754400e+13</td>\n      <td>-3.289200e+13</td>\n      <td>5.320000e+13</td>\n      <td>0.000000e+00</td>\n      <td>4.386400e+13</td>\n      <td>1.268670e+14</td>\n      <td>-3.289200e+13</td>\n      <td>1.756600e+13</td>\n      <td>2.118130e+14</td>\n      <td>2.118130e+14</td>\n      <td>1695295</td>\n      <td>3524</td>\n    </tr>\n    <tr>\n      <th>28033</th>\n      <td>345980</td>\n      <td>2018-12-31</td>\n      <td>2018</td>\n      <td>WISH</td>\n      <td>CONTEXTLOGIC INC</td>\n      <td>12</td>\n      <td>1.104000e+15</td>\n      <td>1.193000e+15</td>\n      <td>-1.287000e+15</td>\n      <td>-2.080000e+14</td>\n      <td>0.000000e+00</td>\n      <td>0.000000e+00</td>\n      <td>9.700000e+14</td>\n      <td>1.104000e+15</td>\n      <td>-2.080000e+14</td>\n      <td>9.300000e+13</td>\n      <td>1.728000e+15</td>\n      <td>1.728000e+15</td>\n      <td>1822250</td>\n      <td>5961</td>\n    </tr>\n    <tr>\n      <th>28036</th>\n      <td>347085</td>\n      <td>2019-02-28</td>\n      <td>2018</td>\n      <td>KARO</td>\n      <td>KAROOOOO LTD</td>\n      <td>2</td>\n      <td>3.419600e+13</td>\n      <td>1.087540e+14</td>\n      <td>4.398300e+13</td>\n      <td>1.685100e+13</td>\n      <td>1.465300e+13</td>\n      <td>9.080000e+11</td>\n      <td>2.633400e+13</td>\n      <td>4.918000e+13</td>\n      <td>1.685100e+13</td>\n      <td>1.534900e+13</td>\n      <td>1.203900e+14</td>\n      <td>1.203900e+14</td>\n      <td>1828102</td>\n      <td>7370</td>\n    </tr>\n  </tbody>\n</table>\n<p>4506 rows × 20 columns</p>\n</div>"
     },
     "execution_count": 198,
     "metadata": {},
     "output_type": "execute_result"
    }
   ],
   "source": [
    "# Enter your code in this cell\n",
    "compustat.ACT = compustat.ACT.apply(lambda x: x*1000000)\n",
    "compustat.AT = compustat.AT.apply(lambda x: x*1000000)\n",
    "compustat.CEQ = compustat.CEQ.apply(lambda x: x*1000000)\n",
    "compustat.IB = compustat.IB.apply(lambda x: x*1000000)\n",
    "compustat.INVT = compustat.INVT.apply(lambda x: x*1000000)\n",
    "compustat.INVWIP = compustat.INVWIP.apply(lambda x: x*1000000)\n",
    "compustat.LCT = compustat.LCT.apply(lambda x: x*1000000)\n",
    "compustat.LT = compustat.LT.apply(lambda x: x*1000000)\n",
    "compustat.NI = compustat.NI.apply(lambda x: x*1000000)\n",
    "compustat.RECT = compustat.RECT.apply(lambda x: x*1000000)\n",
    "compustat.REVT = compustat.REVT.apply(lambda x: x*1000000)\n",
    "compustat.SALE = compustat.SALE.apply(lambda x: x*1000000)\n",
    "compustat"
   ]
  },
  {
   "cell_type": "markdown",
   "metadata": {},
   "source": [
    "### Problem 3 - Merging the Audit Analytics and Compustat Datasets (15 points)"
   ]
  },
  {
   "cell_type": "markdown",
   "metadata": {},
   "source": [
    "At this point, you should have two data frames, one containing cleaned Audit Analytics data, and the other containing cleaned Compustat data. See problem 1.10 for some guidance about merging."
   ]
  },
  {
   "cell_type": "markdown",
   "metadata": {},
   "source": [
    "#### Problem 3.1 - Setting up the merge (3 points)"
   ]
  },
  {
   "cell_type": "markdown",
   "metadata": {},
   "source": [
    "In your Audit Analytics data frame, there is a column named `COMPANY_FKEY`. Rename it to `CIK`."
   ]
  },
  {
   "cell_type": "code",
   "execution_count": 200,
   "metadata": {},
   "outputs": [
    {
     "data": {
      "text/plain": "      AUDITOR_FKEY  AUDIT_GIG_KEY  FISCAL_YEAR FISCAL_YEAR_ENDED  AUDIT_FEES  \\\n0                4         227633         2018        2018-05-31     1988901   \n1                2         230983         2018        2018-12-31    25381000   \n2            11761         228249         2018        2018-06-30     2028000   \n3             8256         231256         2018        2018-12-31      328000   \n4                1         230432         2018        2018-12-31      272000   \n...            ...            ...          ...               ...         ...   \n4895             1         240882         2018        2018-12-31     2155000   \n4896             3         244483         2018        2018-12-31     2221000   \n4897             2         244138         2018        2018-12-31     3603000   \n4898             4         242381         2018        2018-12-31     1100000   \n4899             4         245252         2018        2018-12-31     1113000   \n\n      NON_AUDIT_FEES  TOTAL_FEES  AUDIT_RELATED_FEES  OTHER_FEES  \\\n0             317296     2306197              174659           0   \n1            9683000    35064000              770000        8000   \n2             229000     2257000                   0           0   \n3              74000      402000               22000           0   \n4             101900      373900               26500           0   \n...              ...         ...                 ...         ...   \n4895          527000     2682000              302000        5000   \n4896          206000     2427000                   0        5000   \n4897           47000     3650000                   0       41000   \n4898          400000     1500000                   0           0   \n4899          188000     1301000               73000       81000   \n\n                    AUDITOR_NAME      CIK  \\\n0                       KPMG LLP     1750   \n1              Ernst & Young LLP     1800   \n2                    BDO USA LLP     2034   \n3                     Marcum LLP     2098   \n4     PricewaterhouseCoopers LLP     2110   \n...                          ...      ...   \n4895  PricewaterhouseCoopers LLP  1792580   \n4896       Deloitte & Touche LLP  1793294   \n4897           Ernst & Young LLP  1794338   \n4898                    KPMG LLP  1794846   \n4899                    KPMG LLP  1796514   \n\n                                               NAME  Max_Audit_Fees  \n0                                          AAR CORP         1988901  \n1                               ABBOTT LABORATORIES        25381000  \n2                                        ACETO CORP         2028000  \n3                                  ACME UNITED CORP          328000  \n4                              COLUMBIA ACORN TRUST          272000  \n...                                             ...             ...  \n4895                                   Ovintiv Inc.         2155000  \n4896                                      PPD, Inc.         2221000  \n4897  International General Insurance Holdings Ltd.         3603000  \n4898                                    Atlas Corp.         1100000  \n4899                       Meten Holding Group Ltd.         1113000  \n\n[4866 rows x 13 columns]",
      "text/html": "<div>\n<style scoped>\n    .dataframe tbody tr th:only-of-type {\n        vertical-align: middle;\n    }\n\n    .dataframe tbody tr th {\n        vertical-align: top;\n    }\n\n    .dataframe thead th {\n        text-align: right;\n    }\n</style>\n<table border=\"1\" class=\"dataframe\">\n  <thead>\n    <tr style=\"text-align: right;\">\n      <th></th>\n      <th>AUDITOR_FKEY</th>\n      <th>AUDIT_GIG_KEY</th>\n      <th>FISCAL_YEAR</th>\n      <th>FISCAL_YEAR_ENDED</th>\n      <th>AUDIT_FEES</th>\n      <th>NON_AUDIT_FEES</th>\n      <th>TOTAL_FEES</th>\n      <th>AUDIT_RELATED_FEES</th>\n      <th>OTHER_FEES</th>\n      <th>AUDITOR_NAME</th>\n      <th>CIK</th>\n      <th>NAME</th>\n      <th>Max_Audit_Fees</th>\n    </tr>\n  </thead>\n  <tbody>\n    <tr>\n      <th>0</th>\n      <td>4</td>\n      <td>227633</td>\n      <td>2018</td>\n      <td>2018-05-31</td>\n      <td>1988901</td>\n      <td>317296</td>\n      <td>2306197</td>\n      <td>174659</td>\n      <td>0</td>\n      <td>KPMG LLP</td>\n      <td>1750</td>\n      <td>AAR CORP</td>\n      <td>1988901</td>\n    </tr>\n    <tr>\n      <th>1</th>\n      <td>2</td>\n      <td>230983</td>\n      <td>2018</td>\n      <td>2018-12-31</td>\n      <td>25381000</td>\n      <td>9683000</td>\n      <td>35064000</td>\n      <td>770000</td>\n      <td>8000</td>\n      <td>Ernst &amp; Young LLP</td>\n      <td>1800</td>\n      <td>ABBOTT LABORATORIES</td>\n      <td>25381000</td>\n    </tr>\n    <tr>\n      <th>2</th>\n      <td>11761</td>\n      <td>228249</td>\n      <td>2018</td>\n      <td>2018-06-30</td>\n      <td>2028000</td>\n      <td>229000</td>\n      <td>2257000</td>\n      <td>0</td>\n      <td>0</td>\n      <td>BDO USA LLP</td>\n      <td>2034</td>\n      <td>ACETO CORP</td>\n      <td>2028000</td>\n    </tr>\n    <tr>\n      <th>3</th>\n      <td>8256</td>\n      <td>231256</td>\n      <td>2018</td>\n      <td>2018-12-31</td>\n      <td>328000</td>\n      <td>74000</td>\n      <td>402000</td>\n      <td>22000</td>\n      <td>0</td>\n      <td>Marcum LLP</td>\n      <td>2098</td>\n      <td>ACME UNITED CORP</td>\n      <td>328000</td>\n    </tr>\n    <tr>\n      <th>4</th>\n      <td>1</td>\n      <td>230432</td>\n      <td>2018</td>\n      <td>2018-12-31</td>\n      <td>272000</td>\n      <td>101900</td>\n      <td>373900</td>\n      <td>26500</td>\n      <td>0</td>\n      <td>PricewaterhouseCoopers LLP</td>\n      <td>2110</td>\n      <td>COLUMBIA ACORN TRUST</td>\n      <td>272000</td>\n    </tr>\n    <tr>\n      <th>...</th>\n      <td>...</td>\n      <td>...</td>\n      <td>...</td>\n      <td>...</td>\n      <td>...</td>\n      <td>...</td>\n      <td>...</td>\n      <td>...</td>\n      <td>...</td>\n      <td>...</td>\n      <td>...</td>\n      <td>...</td>\n      <td>...</td>\n    </tr>\n    <tr>\n      <th>4895</th>\n      <td>1</td>\n      <td>240882</td>\n      <td>2018</td>\n      <td>2018-12-31</td>\n      <td>2155000</td>\n      <td>527000</td>\n      <td>2682000</td>\n      <td>302000</td>\n      <td>5000</td>\n      <td>PricewaterhouseCoopers LLP</td>\n      <td>1792580</td>\n      <td>Ovintiv Inc.</td>\n      <td>2155000</td>\n    </tr>\n    <tr>\n      <th>4896</th>\n      <td>3</td>\n      <td>244483</td>\n      <td>2018</td>\n      <td>2018-12-31</td>\n      <td>2221000</td>\n      <td>206000</td>\n      <td>2427000</td>\n      <td>0</td>\n      <td>5000</td>\n      <td>Deloitte &amp; Touche LLP</td>\n      <td>1793294</td>\n      <td>PPD, Inc.</td>\n      <td>2221000</td>\n    </tr>\n    <tr>\n      <th>4897</th>\n      <td>2</td>\n      <td>244138</td>\n      <td>2018</td>\n      <td>2018-12-31</td>\n      <td>3603000</td>\n      <td>47000</td>\n      <td>3650000</td>\n      <td>0</td>\n      <td>41000</td>\n      <td>Ernst &amp; Young LLP</td>\n      <td>1794338</td>\n      <td>International General Insurance Holdings Ltd.</td>\n      <td>3603000</td>\n    </tr>\n    <tr>\n      <th>4898</th>\n      <td>4</td>\n      <td>242381</td>\n      <td>2018</td>\n      <td>2018-12-31</td>\n      <td>1100000</td>\n      <td>400000</td>\n      <td>1500000</td>\n      <td>0</td>\n      <td>0</td>\n      <td>KPMG LLP</td>\n      <td>1794846</td>\n      <td>Atlas Corp.</td>\n      <td>1100000</td>\n    </tr>\n    <tr>\n      <th>4899</th>\n      <td>4</td>\n      <td>245252</td>\n      <td>2018</td>\n      <td>2018-12-31</td>\n      <td>1113000</td>\n      <td>188000</td>\n      <td>1301000</td>\n      <td>73000</td>\n      <td>81000</td>\n      <td>KPMG LLP</td>\n      <td>1796514</td>\n      <td>Meten Holding Group Ltd.</td>\n      <td>1113000</td>\n    </tr>\n  </tbody>\n</table>\n<p>4866 rows × 13 columns</p>\n</div>"
     },
     "execution_count": 200,
     "metadata": {},
     "output_type": "execute_result"
    }
   ],
   "source": [
    "# Enter your code in this cell\n",
    "audit_analytics.rename(columns={\"COMPANY_FKEY\": \"CIK\"}, inplace=True)\n",
    "audit_analytics"
   ]
  },
  {
   "cell_type": "markdown",
   "metadata": {},
   "source": [
    "#### Problem 3.2 - Merge the data frames (8 points)"
   ]
  },
  {
   "cell_type": "markdown",
   "metadata": {},
   "source": [
    "Merge the Audit Analytics and Compustat datasets using the CIK column.\n",
    "\n",
    "Hints: \n",
    "* We strongly recommend that you use the Pandas merge function [pd.merge](https://pandas.pydata.org/pandas-docs/stable/reference/api/pandas.merge.html).\n",
    "* Use an inner join.\n",
    "* Merge on the CIK column.\n",
    "* Use the Audit Analytics data frame as the \"left\" and Compustat as the \"right\"."
   ]
  },
  {
   "cell_type": "code",
   "execution_count": 202,
   "metadata": {},
   "outputs": [
    {
     "data": {
      "text/plain": "      AUDITOR_FKEY  AUDIT_GIG_KEY  FISCAL_YEAR FISCAL_YEAR_ENDED  AUDIT_FEES  \\\n0                4         227633         2018        2018-05-31     1988901   \n1                2         230983         2018        2018-12-31    25381000   \n2            11761         228249         2018        2018-06-30     2028000   \n3             8256         231256         2018        2018-12-31      328000   \n4                4         232503         2018        2018-12-31      864000   \n...            ...            ...          ...               ...         ...   \n3195             4         244043         2018        2018-12-31     3008747   \n3196             2         239755         2018        2018-12-31     1285000   \n3197             1         240882         2018        2018-12-31     2155000   \n3198             3         244483         2018        2018-12-31     2221000   \n3199             4         242381         2018        2018-12-31     1100000   \n\n      NON_AUDIT_FEES  TOTAL_FEES  AUDIT_RELATED_FEES  OTHER_FEES  \\\n0             317296     2306197              174659           0   \n1            9683000    35064000              770000        8000   \n2             229000     2257000                   0           0   \n3              74000      402000               22000           0   \n4              60000      924000               10000           0   \n...              ...         ...                 ...         ...   \n3195          492616     3501363              394093       22736   \n3196               0     1285000                   0           0   \n3197          527000     2682000              302000        5000   \n3198          206000     2427000                   0        5000   \n3199          400000     1500000                   0           0   \n\n                    AUDITOR_NAME  ...            IB          INVT  \\\n0                       KPMG LLP  ...  8.410000e+13  5.890000e+14   \n1              Ernst & Young LLP  ...  2.334000e+15  3.796000e+15   \n2                    BDO USA LLP  ... -3.161210e+14  1.370760e+14   \n3                     Marcum LLP  ...  4.598000e+12  4.133200e+13   \n4                       KPMG LLP  ...  2.945000e+12  2.277900e+13   \n...                          ...  ...           ...           ...   \n3195                    KPMG LLP  ... -1.737380e+14  3.680210e+14   \n3196           Ernst & Young LLP  ...  7.080000e+13  0.000000e+00   \n3197  PricewaterhouseCoopers LLP  ...  1.069000e+15  0.000000e+00   \n3198       Deloitte & Touche LLP  ...  1.041860e+14  0.000000e+00   \n3199                    KPMG LLP  ...  2.787980e+14  0.000000e+00   \n\n            INVWIP           LCT            LT            NI          RECT  \\\n0     1.400000e+13  3.575000e+14  6.113000e+14  7.500000e+12  2.581000e+14   \n1     4.990000e+14  9.012000e+15  3.645100e+16  2.368000e+15  5.182000e+15   \n2     0.000000e+00  3.025180e+14  6.717390e+14 -3.161210e+14  2.569100e+14   \n3     1.420000e+11  1.336500e+13  5.714500e+13  4.598000e+12  2.510200e+13   \n4     0.000000e+00  1.232670e+14  1.322720e+14  2.945000e+12  8.802600e+13   \n...            ...           ...           ...           ...           ...   \n3195  0.000000e+00  1.017056e+15  4.184174e+15 -1.737380e+14  4.903320e+14   \n3196  0.000000e+00  1.024000e+14  1.088000e+14  7.080000e+13  6.300000e+13   \n3197  0.000000e+00  2.016000e+15  7.897000e+15  1.069000e+15  1.005000e+15   \n3198  0.000000e+00  1.794673e+15  6.986890e+15  1.041860e+14  1.276789e+15   \n3199  0.000000e+00  9.293940e+14  4.969879e+15  2.787980e+14  5.734900e+13   \n\n              REVT          SALE   SIC  \n0     2.051800e+15  2.051800e+15  5080  \n1     3.057800e+16  3.057800e+16  3845  \n2     7.113590e+14  7.113590e+14  5160  \n3     1.373210e+14  1.373210e+14  3420  \n4     1.750213e+15  1.750213e+15  5172  \n...            ...           ...   ...  \n3195  3.520933e+15  3.520933e+15  1090  \n3196  6.624000e+14  6.624000e+14  1311  \n3197  5.939000e+15  5.939000e+15  1311  \n3198  3.748971e+15  3.748971e+15  8731  \n3199  1.096331e+15  1.096331e+15  4400  \n\n[3200 rows x 32 columns]",
      "text/html": "<div>\n<style scoped>\n    .dataframe tbody tr th:only-of-type {\n        vertical-align: middle;\n    }\n\n    .dataframe tbody tr th {\n        vertical-align: top;\n    }\n\n    .dataframe thead th {\n        text-align: right;\n    }\n</style>\n<table border=\"1\" class=\"dataframe\">\n  <thead>\n    <tr style=\"text-align: right;\">\n      <th></th>\n      <th>AUDITOR_FKEY</th>\n      <th>AUDIT_GIG_KEY</th>\n      <th>FISCAL_YEAR</th>\n      <th>FISCAL_YEAR_ENDED</th>\n      <th>AUDIT_FEES</th>\n      <th>NON_AUDIT_FEES</th>\n      <th>TOTAL_FEES</th>\n      <th>AUDIT_RELATED_FEES</th>\n      <th>OTHER_FEES</th>\n      <th>AUDITOR_NAME</th>\n      <th>...</th>\n      <th>IB</th>\n      <th>INVT</th>\n      <th>INVWIP</th>\n      <th>LCT</th>\n      <th>LT</th>\n      <th>NI</th>\n      <th>RECT</th>\n      <th>REVT</th>\n      <th>SALE</th>\n      <th>SIC</th>\n    </tr>\n  </thead>\n  <tbody>\n    <tr>\n      <th>0</th>\n      <td>4</td>\n      <td>227633</td>\n      <td>2018</td>\n      <td>2018-05-31</td>\n      <td>1988901</td>\n      <td>317296</td>\n      <td>2306197</td>\n      <td>174659</td>\n      <td>0</td>\n      <td>KPMG LLP</td>\n      <td>...</td>\n      <td>8.410000e+13</td>\n      <td>5.890000e+14</td>\n      <td>1.400000e+13</td>\n      <td>3.575000e+14</td>\n      <td>6.113000e+14</td>\n      <td>7.500000e+12</td>\n      <td>2.581000e+14</td>\n      <td>2.051800e+15</td>\n      <td>2.051800e+15</td>\n      <td>5080</td>\n    </tr>\n    <tr>\n      <th>1</th>\n      <td>2</td>\n      <td>230983</td>\n      <td>2018</td>\n      <td>2018-12-31</td>\n      <td>25381000</td>\n      <td>9683000</td>\n      <td>35064000</td>\n      <td>770000</td>\n      <td>8000</td>\n      <td>Ernst &amp; Young LLP</td>\n      <td>...</td>\n      <td>2.334000e+15</td>\n      <td>3.796000e+15</td>\n      <td>4.990000e+14</td>\n      <td>9.012000e+15</td>\n      <td>3.645100e+16</td>\n      <td>2.368000e+15</td>\n      <td>5.182000e+15</td>\n      <td>3.057800e+16</td>\n      <td>3.057800e+16</td>\n      <td>3845</td>\n    </tr>\n    <tr>\n      <th>2</th>\n      <td>11761</td>\n      <td>228249</td>\n      <td>2018</td>\n      <td>2018-06-30</td>\n      <td>2028000</td>\n      <td>229000</td>\n      <td>2257000</td>\n      <td>0</td>\n      <td>0</td>\n      <td>BDO USA LLP</td>\n      <td>...</td>\n      <td>-3.161210e+14</td>\n      <td>1.370760e+14</td>\n      <td>0.000000e+00</td>\n      <td>3.025180e+14</td>\n      <td>6.717390e+14</td>\n      <td>-3.161210e+14</td>\n      <td>2.569100e+14</td>\n      <td>7.113590e+14</td>\n      <td>7.113590e+14</td>\n      <td>5160</td>\n    </tr>\n    <tr>\n      <th>3</th>\n      <td>8256</td>\n      <td>231256</td>\n      <td>2018</td>\n      <td>2018-12-31</td>\n      <td>328000</td>\n      <td>74000</td>\n      <td>402000</td>\n      <td>22000</td>\n      <td>0</td>\n      <td>Marcum LLP</td>\n      <td>...</td>\n      <td>4.598000e+12</td>\n      <td>4.133200e+13</td>\n      <td>1.420000e+11</td>\n      <td>1.336500e+13</td>\n      <td>5.714500e+13</td>\n      <td>4.598000e+12</td>\n      <td>2.510200e+13</td>\n      <td>1.373210e+14</td>\n      <td>1.373210e+14</td>\n      <td>3420</td>\n    </tr>\n    <tr>\n      <th>4</th>\n      <td>4</td>\n      <td>232503</td>\n      <td>2018</td>\n      <td>2018-12-31</td>\n      <td>864000</td>\n      <td>60000</td>\n      <td>924000</td>\n      <td>10000</td>\n      <td>0</td>\n      <td>KPMG LLP</td>\n      <td>...</td>\n      <td>2.945000e+12</td>\n      <td>2.277900e+13</td>\n      <td>0.000000e+00</td>\n      <td>1.232670e+14</td>\n      <td>1.322720e+14</td>\n      <td>2.945000e+12</td>\n      <td>8.802600e+13</td>\n      <td>1.750213e+15</td>\n      <td>1.750213e+15</td>\n      <td>5172</td>\n    </tr>\n    <tr>\n      <th>...</th>\n      <td>...</td>\n      <td>...</td>\n      <td>...</td>\n      <td>...</td>\n      <td>...</td>\n      <td>...</td>\n      <td>...</td>\n      <td>...</td>\n      <td>...</td>\n      <td>...</td>\n      <td>...</td>\n      <td>...</td>\n      <td>...</td>\n      <td>...</td>\n      <td>...</td>\n      <td>...</td>\n      <td>...</td>\n      <td>...</td>\n      <td>...</td>\n      <td>...</td>\n      <td>...</td>\n    </tr>\n    <tr>\n      <th>3195</th>\n      <td>4</td>\n      <td>244043</td>\n      <td>2018</td>\n      <td>2018-12-31</td>\n      <td>3008747</td>\n      <td>492616</td>\n      <td>3501363</td>\n      <td>394093</td>\n      <td>22736</td>\n      <td>KPMG LLP</td>\n      <td>...</td>\n      <td>-1.737380e+14</td>\n      <td>3.680210e+14</td>\n      <td>0.000000e+00</td>\n      <td>1.017056e+15</td>\n      <td>4.184174e+15</td>\n      <td>-1.737380e+14</td>\n      <td>4.903320e+14</td>\n      <td>3.520933e+15</td>\n      <td>3.520933e+15</td>\n      <td>1090</td>\n    </tr>\n    <tr>\n      <th>3196</th>\n      <td>2</td>\n      <td>239755</td>\n      <td>2018</td>\n      <td>2018-12-31</td>\n      <td>1285000</td>\n      <td>0</td>\n      <td>1285000</td>\n      <td>0</td>\n      <td>0</td>\n      <td>Ernst &amp; Young LLP</td>\n      <td>...</td>\n      <td>7.080000e+13</td>\n      <td>0.000000e+00</td>\n      <td>0.000000e+00</td>\n      <td>1.024000e+14</td>\n      <td>1.088000e+14</td>\n      <td>7.080000e+13</td>\n      <td>6.300000e+13</td>\n      <td>6.624000e+14</td>\n      <td>6.624000e+14</td>\n      <td>1311</td>\n    </tr>\n    <tr>\n      <th>3197</th>\n      <td>1</td>\n      <td>240882</td>\n      <td>2018</td>\n      <td>2018-12-31</td>\n      <td>2155000</td>\n      <td>527000</td>\n      <td>2682000</td>\n      <td>302000</td>\n      <td>5000</td>\n      <td>PricewaterhouseCoopers LLP</td>\n      <td>...</td>\n      <td>1.069000e+15</td>\n      <td>0.000000e+00</td>\n      <td>0.000000e+00</td>\n      <td>2.016000e+15</td>\n      <td>7.897000e+15</td>\n      <td>1.069000e+15</td>\n      <td>1.005000e+15</td>\n      <td>5.939000e+15</td>\n      <td>5.939000e+15</td>\n      <td>1311</td>\n    </tr>\n    <tr>\n      <th>3198</th>\n      <td>3</td>\n      <td>244483</td>\n      <td>2018</td>\n      <td>2018-12-31</td>\n      <td>2221000</td>\n      <td>206000</td>\n      <td>2427000</td>\n      <td>0</td>\n      <td>5000</td>\n      <td>Deloitte &amp; Touche LLP</td>\n      <td>...</td>\n      <td>1.041860e+14</td>\n      <td>0.000000e+00</td>\n      <td>0.000000e+00</td>\n      <td>1.794673e+15</td>\n      <td>6.986890e+15</td>\n      <td>1.041860e+14</td>\n      <td>1.276789e+15</td>\n      <td>3.748971e+15</td>\n      <td>3.748971e+15</td>\n      <td>8731</td>\n    </tr>\n    <tr>\n      <th>3199</th>\n      <td>4</td>\n      <td>242381</td>\n      <td>2018</td>\n      <td>2018-12-31</td>\n      <td>1100000</td>\n      <td>400000</td>\n      <td>1500000</td>\n      <td>0</td>\n      <td>0</td>\n      <td>KPMG LLP</td>\n      <td>...</td>\n      <td>2.787980e+14</td>\n      <td>0.000000e+00</td>\n      <td>0.000000e+00</td>\n      <td>9.293940e+14</td>\n      <td>4.969879e+15</td>\n      <td>2.787980e+14</td>\n      <td>5.734900e+13</td>\n      <td>1.096331e+15</td>\n      <td>1.096331e+15</td>\n      <td>4400</td>\n    </tr>\n  </tbody>\n</table>\n<p>3200 rows × 32 columns</p>\n</div>"
     },
     "execution_count": 202,
     "metadata": {},
     "output_type": "execute_result"
    }
   ],
   "source": [
    "# Enter your code in this cell\n",
    "res: pd.DataFrame = pd.merge(left=audit_analytics, right=compustat, how=\"inner\", on=\"CIK\")\n",
    "res"
   ]
  },
  {
   "cell_type": "markdown",
   "metadata": {},
   "source": [
    "#### Problem 3.3 - Save to Excel (4 points)"
   ]
  },
  {
   "cell_type": "markdown",
   "metadata": {},
   "source": [
    "In the next step, you will need to load your data into Tableau for analysis. Therefore, save the merged data frame to an Excel file. Use the keyword argument `index=False` when you save to Excel. That will tell Pandas not to write the index to the Excel file and will make it easier to work with the data in Tableau."
   ]
  },
  {
   "cell_type": "code",
   "execution_count": 204,
   "metadata": {},
   "outputs": [],
   "source": [
    "# Enter your code in this cell\n",
    "res.to_excel(\"data/res.xlsx\", index=False)"
   ]
  },
  {
   "cell_type": "markdown",
   "metadata": {},
   "source": [
    "### Problem 4 Analyzing the Data (45 points)"
   ]
  },
  {
   "cell_type": "markdown",
   "metadata": {},
   "source": [
    "We will use Tableau for our analysis. Load the Excel file that you just saved into Tableau."
   ]
  },
  {
   "cell_type": "markdown",
   "metadata": {},
   "source": [
    "#### Problem 4.1 - How many clients audited by each firm? (5 points)"
   ]
  },
  {
   "cell_type": "markdown",
   "metadata": {
    "tags": []
   },
   "source": [
    "Make a bar chart showing the number of clients audited by each auditing firm. \n",
    "* The bars should be horizontal.\n",
    "* Sort the bars in descending order.\n",
    "* Label each bar with the number of clients audited by that firm.\n",
    "* Name the worksheet \"Problem 4.1\"\n",
    "\n",
    "---\n",
    "\n",
    "In the caption for this worksheet, answer these questions:\n",
    "1. Are the \"Big 4\" actually the \"Big 4\"? Do these 4 firms have the most clients?\n",
    "2. Who are the fifth and sixth largest firms, by number of clients?\n",
    "3. What is the market share of the Big 4 (in total), as measured by number of clients? In other words, what percentage of companies in the dataset are audited by the Big 4? You might need to do this with a calculator, or in Python."
   ]
  },
  {
   "cell_type": "markdown",
   "metadata": {},
   "source": [
    "#### Problem 4.2 - Total audit fees collected by each firm (5 points)"
   ]
  },
  {
   "cell_type": "markdown",
   "metadata": {
    "jp-MarkdownHeadingCollapsed": true,
    "tags": []
   },
   "source": [
    "Make a bar chart showing the total audit fees collected by each auditing firm. \n",
    "* The bars should be horizontal.\n",
    "* Sort the bars in descending order.\n",
    "* Label each bar with the total fees collected by that firm.\n",
    "* Format the labels in currency format, with zero decimal places.\n",
    "* Name the worksheet \"Problem 4.2\"\n",
    "\n",
    "---\n",
    "\n",
    "In the caption for this worksheet, answer these questions:\n",
    "1. Does the firm with the most clients collect the most fees?\n",
    "2. What is the market share of the Big 4, as measured by revenues? In other words, what percentage of total audit revenue in the dataset is collected by the Big 4? You might need to do this with a calculator, or in Python."
   ]
  },
  {
   "cell_type": "markdown",
   "metadata": {},
   "source": [
    "#### Problem 4.3 - Average audit fees collected by each firm (5 points)"
   ]
  },
  {
   "cell_type": "markdown",
   "metadata": {},
   "source": [
    "Make a bar chart showing the *average* audit fees per client collected by each auditing firm. \n",
    "* The bars should be horizontal.\n",
    "* Sort the bars in descending order.\n",
    "* Label each bar with the average fees collected by that firm.\n",
    "* Format the labels in currency format, with zero decimal places.\n",
    "* Name the worksheet \"Problem 4.3\"\n",
    "\n",
    "---\n",
    "\n",
    "In the caption for this worksheet, answer these questions:\n",
    "1. Are Grant Thornton and BDO still in 5th and 6th position? \n",
    "2. Speculate on how an auditing firm like *Macias, Gini, & O'Connell*, with relatively few clients, might collect such high revenues per client."
   ]
  },
  {
   "cell_type": "markdown",
   "metadata": {},
   "source": [
    "#### Problem 4.4 - Company size as a driver of audit fees, part 1"
   ]
  },
  {
   "cell_type": "markdown",
   "metadata": {},
   "source": [
    "Let's begin to examine the drivers of audit fees. A common finding in accounting research is that audit fees are higher for larger companies. This makes sense. Amazon should pay more to their auditor than a small company. If we do not find that company size is positively correlated with audit fees, we would be surprised and would question the integrity of our data. In this project, we will measure a company's size by its total assets. This is a common measure in research; another common measure is revenues.\n",
    "\n",
    "Even though this analysis may sound straightforward, you are about to see that there are some challenges when working with this data. In this problem, we will examine audit fees and company size (as measured by total assets). In the next problem, we will check whether they are related."
   ]
  },
  {
   "cell_type": "markdown",
   "metadata": {},
   "source": [
    "##### Problem 4.4 (a) -- (5 points)\n",
    "Make a histogram of audit fees in Tableau. You may use the default bin size. Name the worksheet \"Problem 4.4 (a)\".\n",
    "\n",
    "---\n",
    "\n",
    "Answer these questions in the caption:\n",
    "1. You have seen histograms like this before. How do you interpret this histogram? What does it tell you about your audit fee data?\n",
    "2. What is the range of fees in the tallest bin?\n",
    "3. Is this histogram what you expect? In other words, does the shape of this histogram surprise you? Why or why not?"
   ]
  },
  {
   "cell_type": "markdown",
   "metadata": {},
   "source": [
    "##### Problem 4.4 (b) -- (3 points)\n",
    "A common measure of company size is total assets. Make a histogram of total assets in Tableau. You may use the default bin size. Name the worksheet \"Problem 4.4 (b)\".\n",
    "\n",
    "---\n",
    "\n",
    "Answer this question in the caption: is this histogram consistent with the previous one?"
   ]
  },
  {
   "cell_type": "markdown",
   "metadata": {
    "tags": []
   },
   "source": [
    "##### Problem 4.4 (c) -- (4 points)\n",
    "Filter the histogram from 4.4(b) so that it only includes companies with total assets of less than \\\\$10 billion. Set the bin size to \\\\$100 million. Name the worksheet \"Problem 4.4 (c)\".\n",
    "\n",
    "Be careful! Did your histogram for 4.4(b) change? If so, fix it so the histograms for parts b and c are independent.\n",
    "\n",
    "---\n",
    "\n",
    "Answer these questions in the caption: \n",
    "1. Does the pattern from 4.4(b) persist?\n",
    "2. How many companies are in the first bin?\n",
    "3. What is the range of the first bin?"
   ]
  },
  {
   "cell_type": "markdown",
   "metadata": {},
   "source": [
    "#### Problem 4.5 - Company size as a driver of audit fees, part 2"
   ]
  },
  {
   "cell_type": "markdown",
   "metadata": {},
   "source": [
    "In this problem, we will investigate the correlation between audit fees and company size (as measured by total assets)."
   ]
  },
  {
   "cell_type": "markdown",
   "metadata": {},
   "source": [
    "##### Problem 4.5 (a) -- (3 points)\n",
    "* Make a scatter plot of audit fees (y-axis) versus total assets (x-axis) in Tableau. \n",
    "* Add a trend line.\n",
    "* Make the markers as small as possible.\n",
    "* Name the worksheet \"Problem 4.5 (a)\"."
   ]
  },
  {
   "cell_type": "markdown",
   "metadata": {},
   "source": [
    "##### Problem 4.5 (b) -- (8 points)\n",
    "The scatter plot in 4.5(a) reveals an upward trend, but the graph is messy. The trend line has a good fit (R-squared is above 0.5), but the large range of the data makes it difficult to see a pattern. Also, there is a significant overplotting problem.\n",
    "\n",
    "Throughout the semester, when we encountered data with large ranges like this, we filtered it to a small range. However, doing so here would be problematic since such filtering would remove many \"blue chip\" clients and disproportionately impact our inferences about the Big 4, who tend to audit large companies.\n",
    "\n",
    "A common way of dealing with data with large ranges is to change the scale of the axes. Let's do that and then understand why it is helpful."
   ]
  },
  {
   "cell_type": "markdown",
   "metadata": {},
   "source": [
    "---"
   ]
  },
  {
   "cell_type": "markdown",
   "metadata": {},
   "source": [
    "In Tableau:\n",
    "* Duplicate the worksheet titled \"Problem 4.5 (a)\". When you do, you will see a new worksheet titled \"Problem 4.5 (a) (2)\". Rename that to \"Problem 4.5 (b)\".\n",
    "* Remove the trend line.\n",
    "* Right-click on the x-axis and click **Edit Axis...** Check the box next to the word *Logarithmic*.\n",
    "* Repeat the previous step for the y-axis (in other words, make the y-axis logarithmic).\n",
    "\n",
    "---\n",
    "\n",
    "Look at that! The data looks very different! It is the exact same data. We have not changed the data in any way. We are just displaying it differently. Look closely at the tick marks for the x-axis. They should be powers of 10 (e.g., 1, 100, 1000). On a logarithmic scale, every tick mark on an axis is 10 times larger than the last tick mark! Logarithmic scales are often used when working with data that has a wide range as it allows us to easily visualize such data. We have solved the clustering and overplotting problems in the previous problem. "
   ]
  },
  {
   "cell_type": "markdown",
   "metadata": {},
   "source": [
    "In the caption, answer these questions:\n",
    "1. Does the graph show a relationship between fees and assets?\n",
    "2. Does the relationship appear \"stronger\" than that in problem 4.5(a)?\n",
    "\n",
    "---\n",
    "\n",
    "Now do the following:\n",
    "* Add a trend line to this graph. When you do, the trend line might look weird, like a hockey stick. That's because a line, when plotted on a logarithmic scale, no longer appears to be a line.\n",
    "* Click on the trend line and click Edit.\n",
    "* You will see a list of options: linear, logarithmic, exponential, power, polynomial. Try each one. Choose the one that looks the best to you.\n",
    "\n",
    "---\n",
    "\n",
    "If you chose the Power option, your trend line will look like a line. If you hover over the trend line, you will see its equation. The equation will look like $Audit Fees = a \\cdot {AT}^b$, where $a$ and $b$ are numbers. \n",
    "\n",
    "What this tells us is that fees equal a constant times assets raised to a power. The exponent should be close to 0.5, so basically we are taking the square root of assets. In other words, as assets go up, fees increase by the square root of assets. Note that our trend line equation is <i><u>not</u></i> a linear equation. Instead, it shows that as company size increases, the rate at which fees increase diminishes and levels off. This makes economic sense. As a company grows from small to mid-size, the complexity of the audit will increase dramatically. As a large company (like Apple) grows, the extra work done by the auditor will grow, but not as much as it would from a small to a medium company. The auditor will benefit from an economy of scale.\n",
    "\n",
    "---\n",
    "\n",
    "In the caption, answer this question:  \n",
    "3. Use the trend line equation to predict the audit fees for a company with \\\\$1 billion in total assets. You may need to use a calculator for this."
   ]
  },
  {
   "cell_type": "markdown",
   "metadata": {},
   "source": [
    "#### Problem 4.6 - Risk as a driver of audit fees (7 points)"
   ]
  },
  {
   "cell_type": "markdown",
   "metadata": {},
   "source": [
    "In this problem, we will investigate the relationship between audit fees and the risk of an audit engagement. Whenever an auditor agrees to audit a client, they assume some risk. If the auditor does not catch mistakes or fraud, investors can sue the auditor. Accounting research has found that inventory is a measure of risk. The reason is that it takes effort to audit inventories; often, physical counts must be taken in multiple locations and then reconciled with the client's accounting records. This process dramatically increases the auditor's workload and hence audit fees. Let's confirm this hypothesis in our data.\n",
    "\n",
    "Many companies, such as those that provide services, do not have inventory. Or if they do, inventory is immaterial and reported as 0. Therefore, let's focus on two industries that have significant inventory: retail and manufacturing. "
   ]
  },
  {
   "cell_type": "markdown",
   "metadata": {},
   "source": [
    "---"
   ]
  },
  {
   "cell_type": "markdown",
   "metadata": {},
   "source": [
    "In Tableau:\n",
    "* Create a \"calculated field\" called \"Industry\". \n",
    "    - The value of this field should be \"Retail\" if the SIC code for a row matches:\n",
    "        * \"Building Materials, Hardware, Garden Supplies, and Mobile Home Dealers\"\n",
    "        * \"General Merchandise Stores\"\n",
    "        * \"Food Stores\"\n",
    "        * \"Automotive Dealers and Gasoline Service Stations\"\n",
    "        * \"Apparel and Accessory Stores\"\n",
    "        * \"Home Furniture, Furnishings, and Equipment Stores\"\n",
    "    - The value of this field should be \"Manufacturing\" if the SIC code for a row is in the range of \"Manufacturing\". \n",
    "    - The value of this field should be \"Other\" for all other SIC codes. \n",
    "    - In other words, the \"Industry\" field can only have 3 values, \"Retail\", \"Manufacturing\", or \"Other\".\n",
    "    - Look [here](https://siccode.com/) for SIC codes.\n",
    "* Now create two scatter plots, on the same worksheet, of Audit Fees (y-axis) versus Inventory (x-axis).\n",
    "    - There should be one graph for Manufacturing and one for Retail. They should be stacked (Manufacturing on top of Retail).\n",
    "    - Do NOT show a graph for \"Other\" industries.\n",
    "    - Make the markers as small as possible.\n",
    "    - Change the scale for both axes to logarithmic\n",
    "    - Add trend lines to both graphs; use the Power option.\n",
    "    - Name this worksheet \"Problem 4.6\"\n",
    "    \n",
    "---\n",
    "\n",
    "You have two trend lines, one for manufacturing and one for retail. Use the equations for the two trend lines to answer these questions in the worksheet caption. Remember that you can see the equations for the trend linse by hovering over them with your mouse.\n",
    "\n",
    "1. Use the trend line from the manufacturing graph to calculate the predicted audit fees for a manufacturer with inventories of \\\\$1 billion. You may need to use a calculator.\n",
    "2. Use the trend line from the retail graph to calculate the predicted audit fees for a retailer with inventories of \\\\$1 billion. You may need to use a calculator.\n",
    "3. Compare the two numbers and speculate on why one is higher than the other."
   ]
  },
  {
   "cell_type": "markdown",
   "metadata": {},
   "source": [
    "## Part 2 - Auditor Tenure (35 points)"
   ]
  },
  {
   "cell_type": "markdown",
   "metadata": {},
   "source": [
    "Auditor tenure is the length of time for which an auditor has audited a client company. Some people argue that longer auditor tenure can lead to a less independent auditor because the auditor has developed a relationship with their client over time. Indeed, audit partners must rotate off of their public audit clients in order to avoid any independence concerns. Others have investigated this possibility and found that auditor tenure is not associated with lower quality audits. The debate about auditor tenure continues. \n",
    "\n",
    "In this problem you will use annual reports to determine the auditor and auditor tenure for each company. The Excel file *GatherAuditorData.xslx* contains a list of the top 20 companies in the Fortune 500. Open that file in Excel now and scan it. You will see 6 columns:\n",
    "\n",
    "* Rank\n",
    "* Company\n",
    "* Ticker\n",
    "* AuditorName\n",
    "* AuditorSince\n",
    "* NumYearsAsAuditor\n",
    "\n",
    "The columns `AuditorName`, `AuditorSince`, and `NumYearsAsAuditor` are empty and you will populate them. To do this, you will write code that opens each annual report (PDFs), extracts the text, searches the text for relevant information, and adds this information to a dataframe."
   ]
  },
  {
   "cell_type": "markdown",
   "metadata": {},
   "source": [
    "### Problem 5.1 - Read the Excel file (3 points)"
   ]
  },
  {
   "cell_type": "markdown",
   "metadata": {},
   "source": [
    "Read the Excel file *GatherAuditorData.xlsx* into a data frame. Name the data frame `df`."
   ]
  },
  {
   "cell_type": "code",
   "execution_count": null,
   "metadata": {},
   "outputs": [],
   "source": [
    "# Enter your code in this cell\n"
   ]
  },
  {
   "cell_type": "markdown",
   "metadata": {},
   "source": [
    "Now run the following cell to populate the empty `AuditorName` column with empty strings. This will prevent errors later in this problem.\n",
    "\n",
    "If your data frame has a different name than df, please modify the cell below before running it."
   ]
  },
  {
   "cell_type": "code",
   "execution_count": null,
   "metadata": {},
   "outputs": [],
   "source": [
    "df['AuditorName'] = ''"
   ]
  },
  {
   "cell_type": "markdown",
   "metadata": {},
   "source": [
    "### Problem 5.2 - Extract Auditor info, populate data frame (32 points)"
   ]
  },
  {
   "cell_type": "markdown",
   "metadata": {},
   "source": [
    "There are 20 PDFs that accompany this project, one for each company listed in the Excel file. The names of the PDFs correspond to the ticker symbols of the companies in the Excel file. Write a loop that iterates over these PDFs and does the following:\n",
    "\n",
    "For each PDF:\n",
    "1. Open the PDF file\n",
    "2. Extract the text for all pages\n",
    "3. Within the text of each PDF, there is a sentence in the auditor's letter that states the year in which the auditor began auditing that company. The sentence is structured differently in every file, but it always ends with \"*auditor since XXXX*\", where *XXXX* is a 4-digit year. Use this knowledge to search the PDF for this piece of text. Extract the year, and use it to complete the columns `AuditorSince` and `NumYearsAsAuditor`.\n",
    "4. Search each annual report for the names of the Big 4 auditors and add the auditor name to the `AuditorName` column.\n",
    "5. Convert the `AuditorSince` and `NumYearsAsAuditor` columns of the data frame to integer.\n",
    "6. Ensure the resulting dataframe is sorted by rank and display/print the data frame so we can see the result.\n",
    "\n",
    "Hints:\n",
    "* Use the `PyPDF2` library.\n",
    "* Use the Python regular expressions library, `re`.\n",
    "* The Python regular expressions library has a method `re.findall` that returns a list of all matches of a regular expression within a string.\n",
    "* To update data in a single cell in your dataframe, use the `.at` method.\n",
    "* Consider setting the dataframe index to the Ticker column. Note that this is not mandatory. It is possible to do this problem without doing this.\n",
    "\n",
    "Finally, note that this task might take some time to run on your computer. Don't be surprised if it takes 10 minutes to go through all 20 PDF files."
   ]
  },
  {
   "cell_type": "code",
   "execution_count": null,
   "metadata": {},
   "outputs": [],
   "source": [
    "# Enter your code in this cell\n"
   ]
  }
 ],
 "metadata": {
  "kernelspec": {
   "display_name": "Python 3",
   "language": "python",
   "name": "python3"
  },
  "language_info": {
   "codemirror_mode": {
    "name": "ipython",
    "version": 3
   },
   "file_extension": ".py",
   "mimetype": "text/x-python",
   "name": "python",
   "nbconvert_exporter": "python",
   "pygments_lexer": "ipython3",
   "version": "3.8.5"
  },
  "vscode": {
   "interpreter": {
    "hash": "1beb67598d5bd82b7eda52a5a65977912fb67dfd17090e301c50452747283846"
   }
  }
 },
 "nbformat": 4,
 "nbformat_minor": 4
}
